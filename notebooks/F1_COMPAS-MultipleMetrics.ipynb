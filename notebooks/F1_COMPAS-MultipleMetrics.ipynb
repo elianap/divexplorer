{
 "cells": [
  {
   "cell_type": "code",
   "execution_count": 1,
   "metadata": {
    "ExecuteTime": {
     "end_time": "2021-03-06T17:09:04.102456Z",
     "start_time": "2021-03-06T17:09:03.727835Z"
    }
   },
   "outputs": [],
   "source": [
    "import pandas as pd\n",
    "import numpy as np\n",
    "from divexplorer.FP_DivergenceExplorer import FP_DivergenceExplorer\n",
    "from divexplorer.interactive import selectItemsInteractive\n",
    "\n",
    "\n",
    "from import_datasets import *\n",
    "ITEMSETS=[\"support\", \"itemsets\", \"tn\", \"tp\", \"fn\", \"fp\"]\n",
    "pd.set_option('display.max_colwidth', None)"
   ]
  },
  {
   "cell_type": "markdown",
   "metadata": {},
   "source": [
    "# Dataset "
   ]
  },
  {
   "cell_type": "code",
   "execution_count": 2,
   "metadata": {
    "ExecuteTime": {
     "end_time": "2021-03-06T17:09:04.108502Z",
     "start_time": "2021-03-06T17:09:04.104081Z"
    }
   },
   "outputs": [],
   "source": [
    "abbreviations = {\"age_cat\":\"age\", \"priors_count\":\"#prior\", \"Greater than 45\":\">45\", \"25 - 45\":\"25-45\",\\\n",
    "                \"African-American\":\"Afr-Am\", \"c_charge_degree\":\"charge\", \"Less than 25\":\"<25\", \"=>\":\">\", \"=<\":\"<\",\\\n",
    "                \"length_of_stay\":\"stay\", \"Caucasian\":\"Cauc\"} \n",
    "\n",
    "dataset_name=\"compas\"\n",
    "risk_class_type=True"
   ]
  },
  {
   "cell_type": "markdown",
   "metadata": {},
   "source": [
    "Probublica analysis https://www.propublica.org/article/how-we-analyzed-the-compas-recidivism-algorithm"
   ]
  },
  {
   "cell_type": "code",
   "execution_count": 3,
   "metadata": {
    "ExecuteTime": {
     "end_time": "2021-03-06T17:09:04.220426Z",
     "start_time": "2021-03-06T17:09:04.111830Z"
    }
   },
   "outputs": [
    {
     "data": {
      "text/html": [
       "<div>\n",
       "<style scoped>\n",
       "    .dataframe tbody tr th:only-of-type {\n",
       "        vertical-align: middle;\n",
       "    }\n",
       "\n",
       "    .dataframe tbody tr th {\n",
       "        vertical-align: top;\n",
       "    }\n",
       "\n",
       "    .dataframe thead th {\n",
       "        text-align: right;\n",
       "    }\n",
       "</style>\n",
       "<table border=\"1\" class=\"dataframe\">\n",
       "  <thead>\n",
       "    <tr style=\"text-align: right;\">\n",
       "      <th></th>\n",
       "      <th>age_cat</th>\n",
       "      <th>c_charge_degree</th>\n",
       "      <th>race</th>\n",
       "      <th>sex</th>\n",
       "      <th>class</th>\n",
       "      <th>priors_count</th>\n",
       "      <th>length_of_stay</th>\n",
       "      <th>predicted</th>\n",
       "    </tr>\n",
       "  </thead>\n",
       "  <tbody>\n",
       "    <tr>\n",
       "      <th>0</th>\n",
       "      <td>Greater than 45</td>\n",
       "      <td>F</td>\n",
       "      <td>Other</td>\n",
       "      <td>Male</td>\n",
       "      <td>0</td>\n",
       "      <td>0</td>\n",
       "      <td>1.0</td>\n",
       "      <td>Medium-Low</td>\n",
       "    </tr>\n",
       "    <tr>\n",
       "      <th>1</th>\n",
       "      <td>25 - 45</td>\n",
       "      <td>F</td>\n",
       "      <td>African-American</td>\n",
       "      <td>Male</td>\n",
       "      <td>1</td>\n",
       "      <td>0</td>\n",
       "      <td>10.0</td>\n",
       "      <td>Medium-Low</td>\n",
       "    </tr>\n",
       "    <tr>\n",
       "      <th>2</th>\n",
       "      <td>Less than 25</td>\n",
       "      <td>F</td>\n",
       "      <td>African-American</td>\n",
       "      <td>Male</td>\n",
       "      <td>1</td>\n",
       "      <td>4</td>\n",
       "      <td>1.0</td>\n",
       "      <td>Medium-Low</td>\n",
       "    </tr>\n",
       "  </tbody>\n",
       "</table>\n",
       "</div>"
      ],
      "text/plain": [
       "           age_cat c_charge_degree              race   sex  class  \\\n",
       "0  Greater than 45               F             Other  Male      0   \n",
       "1          25 - 45               F  African-American  Male      1   \n",
       "2     Less than 25               F  African-American  Male      1   \n",
       "\n",
       "   priors_count  length_of_stay   predicted  \n",
       "0             0             1.0  Medium-Low  \n",
       "1             0            10.0  Medium-Low  \n",
       "2             4             1.0  Medium-Low  "
      ]
     },
     "metadata": {},
     "output_type": "display_data"
    }
   ],
   "source": [
    "if dataset_name==\"compas\":\n",
    "    dfI, class_map =import_process_compas(risk_class=risk_class_type)\n",
    "    dfI.reset_index(drop=True, inplace=True)\n",
    "    display(dfI.head(3))\n",
    "elif dataset_name==\"heart\":\n",
    "    dfI, class_map=import_process_heart()\n",
    "    display(dfI.head(3))\n",
    "elif dataset_name==\"bank\":\n",
    "    dfI, class_map=import_process_bank()\n",
    "    display(dfI.head(3))\n",
    "elif dataset_name==\"adult\":\n",
    "    dfI, class_map=import_process_adult()\n",
    "    display(dfI.head(3))\n",
    "elif dataset_name==\"german\":\n",
    "    dfI, class_map=import_process_german()\n",
    "    display(dfI.head(3))"
   ]
  },
  {
   "cell_type": "code",
   "execution_count": 4,
   "metadata": {
    "ExecuteTime": {
     "end_time": "2021-03-06T17:09:04.224276Z",
     "start_time": "2021-03-06T17:09:04.221749Z"
    }
   },
   "outputs": [
    {
     "name": "stdout",
     "output_type": "stream",
     "text": [
      "Number of instances: 6172, number of features: 7\n"
     ]
    }
   ],
   "source": [
    "print(f\"Number of instances: {len(dfI)}, number of features: {len(dfI.columns)-1}\")"
   ]
  },
  {
   "cell_type": "code",
   "execution_count": 5,
   "metadata": {
    "ExecuteTime": {
     "end_time": "2021-03-06T17:09:04.231320Z",
     "start_time": "2021-03-06T17:09:04.225490Z"
    }
   },
   "outputs": [],
   "source": [
    "dfI[\"predicted\"]= dfI['predicted'].replace({\"Medium-Low\":0, \"High\":1})"
   ]
  },
  {
   "cell_type": "code",
   "execution_count": 6,
   "metadata": {
    "ExecuteTime": {
     "end_time": "2021-03-06T17:09:04.684411Z",
     "start_time": "2021-03-06T17:09:04.232541Z"
    }
   },
   "outputs": [
    {
     "name": "stdout",
     "output_type": "stream",
     "text": [
      "Accuracy:  0.6339922229423202\n"
     ]
    }
   ],
   "source": [
    "from sklearn.metrics import accuracy_score\n",
    "print(\"Accuracy: \", accuracy_score(dfI[\"class\"], dfI[\"predicted\"]))"
   ]
  },
  {
   "cell_type": "code",
   "execution_count": 7,
   "metadata": {
    "ExecuteTime": {
     "end_time": "2021-03-06T17:09:04.691467Z",
     "start_time": "2021-03-06T17:09:04.686208Z"
    }
   },
   "outputs": [],
   "source": [
    "attributes=dfI.columns.drop([\"class\", \"predicted\"])\n",
    "X_FP=dfI[attributes]\n",
    "y_FP=dfI[[\"class\"]]\n",
    "y_predict_prob=None\n",
    "y_predicted=np.asarray(dfI[\"predicted\"])"
   ]
  },
  {
   "cell_type": "code",
   "execution_count": 8,
   "metadata": {
    "ExecuteTime": {
     "end_time": "2021-03-06T17:09:04.716512Z",
     "start_time": "2021-03-06T17:09:04.693428Z"
    }
   },
   "outputs": [
    {
     "name": "stdout",
     "output_type": "stream",
     "text": [
      "X_discretized\n"
     ]
    },
    {
     "data": {
      "text/html": [
       "<div>\n",
       "<style scoped>\n",
       "    .dataframe tbody tr th:only-of-type {\n",
       "        vertical-align: middle;\n",
       "    }\n",
       "\n",
       "    .dataframe tbody tr th {\n",
       "        vertical-align: top;\n",
       "    }\n",
       "\n",
       "    .dataframe thead th {\n",
       "        text-align: right;\n",
       "    }\n",
       "</style>\n",
       "<table border=\"1\" class=\"dataframe\">\n",
       "  <thead>\n",
       "    <tr style=\"text-align: right;\">\n",
       "      <th></th>\n",
       "      <th>age_cat</th>\n",
       "      <th>c_charge_degree</th>\n",
       "      <th>race</th>\n",
       "      <th>sex</th>\n",
       "      <th>priors_count</th>\n",
       "      <th>length_of_stay</th>\n",
       "    </tr>\n",
       "  </thead>\n",
       "  <tbody>\n",
       "    <tr>\n",
       "      <th>0</th>\n",
       "      <td>Greater than 45</td>\n",
       "      <td>F</td>\n",
       "      <td>Other</td>\n",
       "      <td>Male</td>\n",
       "      <td>0</td>\n",
       "      <td>&lt;week</td>\n",
       "    </tr>\n",
       "    <tr>\n",
       "      <th>1</th>\n",
       "      <td>25 - 45</td>\n",
       "      <td>F</td>\n",
       "      <td>African-American</td>\n",
       "      <td>Male</td>\n",
       "      <td>0</td>\n",
       "      <td>1w-3M</td>\n",
       "    </tr>\n",
       "    <tr>\n",
       "      <th>2</th>\n",
       "      <td>Less than 25</td>\n",
       "      <td>F</td>\n",
       "      <td>African-American</td>\n",
       "      <td>Male</td>\n",
       "      <td>&gt;3</td>\n",
       "      <td>&lt;week</td>\n",
       "    </tr>\n",
       "    <tr>\n",
       "      <th>3</th>\n",
       "      <td>25 - 45</td>\n",
       "      <td>M</td>\n",
       "      <td>Other</td>\n",
       "      <td>Male</td>\n",
       "      <td>0</td>\n",
       "      <td>&lt;week</td>\n",
       "    </tr>\n",
       "    <tr>\n",
       "      <th>4</th>\n",
       "      <td>25 - 45</td>\n",
       "      <td>F</td>\n",
       "      <td>Caucasian</td>\n",
       "      <td>Male</td>\n",
       "      <td>&gt;3</td>\n",
       "      <td>&lt;week</td>\n",
       "    </tr>\n",
       "  </tbody>\n",
       "</table>\n",
       "</div>"
      ],
      "text/plain": [
       "           age_cat c_charge_degree              race   sex priors_count  \\\n",
       "0  Greater than 45               F             Other  Male            0   \n",
       "1          25 - 45               F  African-American  Male            0   \n",
       "2     Less than 25               F  African-American  Male           >3   \n",
       "3          25 - 45               M             Other  Male            0   \n",
       "4          25 - 45               F         Caucasian  Male           >3   \n",
       "\n",
       "  length_of_stay  \n",
       "0          <week  \n",
       "1          1w-3M  \n",
       "2          <week  \n",
       "3          <week  \n",
       "4          <week  "
      ]
     },
     "metadata": {},
     "output_type": "display_data"
    }
   ],
   "source": [
    "X_FP=dfI[attributes].copy()\n",
    "X_discretized=discretize(dfI, attributes=attributes, dataset_name=dataset_name)\n",
    "\n",
    "print(\"X_discretized\")\n",
    "display(X_discretized.head())"
   ]
  },
  {
   "cell_type": "code",
   "execution_count": 9,
   "metadata": {
    "ExecuteTime": {
     "end_time": "2021-03-06T17:09:04.721664Z",
     "start_time": "2021-03-06T17:09:04.718052Z"
    }
   },
   "outputs": [],
   "source": [
    "X_discretized[\"class\"]=y_FP[\"class\"]\n",
    "X_discretized[\"predicted\"]=y_predicted"
   ]
  },
  {
   "cell_type": "markdown",
   "metadata": {},
   "source": [
    "# Extract divergence"
   ]
  },
  {
   "cell_type": "markdown",
   "metadata": {},
   "source": [
    "True class and predicted class (column names as parameters)"
   ]
  },
  {
   "cell_type": "code",
   "execution_count": 10,
   "metadata": {
    "ExecuteTime": {
     "end_time": "2021-03-06T17:09:04.968684Z",
     "start_time": "2021-03-06T17:09:04.726759Z"
    },
    "scrolled": false
   },
   "outputs": [],
   "source": [
    "min_sup=0.1\n",
    "metrics=[\"d_fpr\", \"d_fnr\", \"d_accuracy\", \"d_error\"]\n",
    "fp_diver=FP_DivergenceExplorer(X_discretized, true_class_name = \"class\", predicted_class_name = \"predicted\", class_map=class_map, dataset_name=dataset_name)\n",
    "FP_fm=fp_diver.getFrequentPatternDivergence(min_support=min_sup, metrics=metrics)"
   ]
  },
  {
   "cell_type": "code",
   "execution_count": 11,
   "metadata": {
    "ExecuteTime": {
     "end_time": "2021-03-06T17:09:04.973141Z",
     "start_time": "2021-03-06T17:09:04.970001Z"
    },
    "scrolled": false
   },
   "outputs": [
    {
     "name": "stdout",
     "output_type": "stream",
     "text": [
      "Number of frequent patterns: 155\n"
     ]
    }
   ],
   "source": [
    "print(f\"Number of frequent patterns: {len(FP_fm)}\")"
   ]
  },
  {
   "cell_type": "code",
   "execution_count": 12,
   "metadata": {
    "ExecuteTime": {
     "end_time": "2021-03-06T17:09:04.993563Z",
     "start_time": "2021-03-06T17:09:04.974758Z"
    },
    "scrolled": false
   },
   "outputs": [
    {
     "data": {
      "text/html": [
       "<div>\n",
       "<style scoped>\n",
       "    .dataframe tbody tr th:only-of-type {\n",
       "        vertical-align: middle;\n",
       "    }\n",
       "\n",
       "    .dataframe tbody tr th {\n",
       "        vertical-align: top;\n",
       "    }\n",
       "\n",
       "    .dataframe thead th {\n",
       "        text-align: right;\n",
       "    }\n",
       "</style>\n",
       "<table border=\"1\" class=\"dataframe\">\n",
       "  <thead>\n",
       "    <tr style=\"text-align: right;\">\n",
       "      <th></th>\n",
       "      <th>support</th>\n",
       "      <th>itemsets</th>\n",
       "      <th>tn</th>\n",
       "      <th>fp</th>\n",
       "      <th>fn</th>\n",
       "      <th>tp</th>\n",
       "      <th>length</th>\n",
       "      <th>support_count</th>\n",
       "      <th>fpr</th>\n",
       "      <th>d_fpr</th>\n",
       "      <th>fnr</th>\n",
       "      <th>d_fnr</th>\n",
       "      <th>accuracy</th>\n",
       "      <th>d_accuracy</th>\n",
       "      <th>error</th>\n",
       "      <th>d_error</th>\n",
       "      <th>t_value_fp</th>\n",
       "      <th>t_value_fn</th>\n",
       "      <th>t_value_tp_tn</th>\n",
       "      <th>t_value_fp_fn</th>\n",
       "    </tr>\n",
       "  </thead>\n",
       "  <tbody>\n",
       "    <tr>\n",
       "      <th>0</th>\n",
       "      <td>1.000000</td>\n",
       "      <td>()</td>\n",
       "      <td>3066.0</td>\n",
       "      <td>297.0</td>\n",
       "      <td>1962.0</td>\n",
       "      <td>847.0</td>\n",
       "      <td>0</td>\n",
       "      <td>6172.0</td>\n",
       "      <td>0.088314</td>\n",
       "      <td>0.000000</td>\n",
       "      <td>0.698469</td>\n",
       "      <td>0.000000</td>\n",
       "      <td>0.633992</td>\n",
       "      <td>0.000000</td>\n",
       "      <td>0.366008</td>\n",
       "      <td>0.000000</td>\n",
       "      <td>0.000000</td>\n",
       "      <td>0.000000</td>\n",
       "      <td>0.000000</td>\n",
       "      <td>0.000000</td>\n",
       "    </tr>\n",
       "    <tr>\n",
       "      <th>1</th>\n",
       "      <td>0.809624</td>\n",
       "      <td>(sex=Male)</td>\n",
       "      <td>2357.0</td>\n",
       "      <td>244.0</td>\n",
       "      <td>1647.0</td>\n",
       "      <td>749.0</td>\n",
       "      <td>1</td>\n",
       "      <td>4997.0</td>\n",
       "      <td>0.093810</td>\n",
       "      <td>0.005496</td>\n",
       "      <td>0.687396</td>\n",
       "      <td>-0.011074</td>\n",
       "      <td>0.621573</td>\n",
       "      <td>-0.012419</td>\n",
       "      <td>0.378427</td>\n",
       "      <td>0.012419</td>\n",
       "      <td>0.738697</td>\n",
       "      <td>0.864525</td>\n",
       "      <td>1.350598</td>\n",
       "      <td>1.350598</td>\n",
       "    </tr>\n",
       "    <tr>\n",
       "      <th>2</th>\n",
       "      <td>0.772683</td>\n",
       "      <td>(length_of_stay=&lt;week)</td>\n",
       "      <td>2589.0</td>\n",
       "      <td>201.0</td>\n",
       "      <td>1487.0</td>\n",
       "      <td>492.0</td>\n",
       "      <td>1</td>\n",
       "      <td>4769.0</td>\n",
       "      <td>0.072043</td>\n",
       "      <td>-0.016271</td>\n",
       "      <td>0.751390</td>\n",
       "      <td>0.052920</td>\n",
       "      <td>0.646047</td>\n",
       "      <td>0.012055</td>\n",
       "      <td>0.353953</td>\n",
       "      <td>-0.012055</td>\n",
       "      <td>2.339352</td>\n",
       "      <td>4.059364</td>\n",
       "      <td>1.301787</td>\n",
       "      <td>1.301787</td>\n",
       "    </tr>\n",
       "    <tr>\n",
       "      <th>3</th>\n",
       "      <td>0.643227</td>\n",
       "      <td>(c_charge_degree=F)</td>\n",
       "      <td>1772.0</td>\n",
       "      <td>214.0</td>\n",
       "      <td>1307.0</td>\n",
       "      <td>677.0</td>\n",
       "      <td>1</td>\n",
       "      <td>3970.0</td>\n",
       "      <td>0.107754</td>\n",
       "      <td>0.019440</td>\n",
       "      <td>0.658770</td>\n",
       "      <td>-0.039699</td>\n",
       "      <td>0.616877</td>\n",
       "      <td>-0.017116</td>\n",
       "      <td>0.383123</td>\n",
       "      <td>0.017116</td>\n",
       "      <td>2.301183</td>\n",
       "      <td>2.896145</td>\n",
       "      <td>1.738770</td>\n",
       "      <td>1.738770</td>\n",
       "    </tr>\n",
       "    <tr>\n",
       "      <th>4</th>\n",
       "      <td>0.614226</td>\n",
       "      <td>(length_of_stay=&lt;week, sex=Male)</td>\n",
       "      <td>1959.0</td>\n",
       "      <td>162.0</td>\n",
       "      <td>1236.0</td>\n",
       "      <td>434.0</td>\n",
       "      <td>2</td>\n",
       "      <td>3791.0</td>\n",
       "      <td>0.076379</td>\n",
       "      <td>-0.011935</td>\n",
       "      <td>0.740120</td>\n",
       "      <td>0.041651</td>\n",
       "      <td>0.631232</td>\n",
       "      <td>-0.002760</td>\n",
       "      <td>0.368768</td>\n",
       "      <td>0.002760</td>\n",
       "      <td>1.555571</td>\n",
       "      <td>3.011311</td>\n",
       "      <td>0.280104</td>\n",
       "      <td>0.280104</td>\n",
       "    </tr>\n",
       "  </tbody>\n",
       "</table>\n",
       "</div>"
      ],
      "text/plain": [
       "    support                          itemsets      tn     fp      fn     tp  \\\n",
       "0  1.000000                                ()  3066.0  297.0  1962.0  847.0   \n",
       "1  0.809624                        (sex=Male)  2357.0  244.0  1647.0  749.0   \n",
       "2  0.772683            (length_of_stay=<week)  2589.0  201.0  1487.0  492.0   \n",
       "3  0.643227               (c_charge_degree=F)  1772.0  214.0  1307.0  677.0   \n",
       "4  0.614226  (length_of_stay=<week, sex=Male)  1959.0  162.0  1236.0  434.0   \n",
       "\n",
       "   length  support_count       fpr     d_fpr       fnr     d_fnr  accuracy  \\\n",
       "0       0         6172.0  0.088314  0.000000  0.698469  0.000000  0.633992   \n",
       "1       1         4997.0  0.093810  0.005496  0.687396 -0.011074  0.621573   \n",
       "2       1         4769.0  0.072043 -0.016271  0.751390  0.052920  0.646047   \n",
       "3       1         3970.0  0.107754  0.019440  0.658770 -0.039699  0.616877   \n",
       "4       2         3791.0  0.076379 -0.011935  0.740120  0.041651  0.631232   \n",
       "\n",
       "   d_accuracy     error   d_error  t_value_fp  t_value_fn  t_value_tp_tn  \\\n",
       "0    0.000000  0.366008  0.000000    0.000000    0.000000       0.000000   \n",
       "1   -0.012419  0.378427  0.012419    0.738697    0.864525       1.350598   \n",
       "2    0.012055  0.353953 -0.012055    2.339352    4.059364       1.301787   \n",
       "3   -0.017116  0.383123  0.017116    2.301183    2.896145       1.738770   \n",
       "4   -0.002760  0.368768  0.002760    1.555571    3.011311       0.280104   \n",
       "\n",
       "   t_value_fp_fn  \n",
       "0       0.000000  \n",
       "1       1.350598  \n",
       "2       1.301787  \n",
       "3       1.738770  \n",
       "4       0.280104  "
      ]
     },
     "execution_count": 12,
     "metadata": {},
     "output_type": "execute_result"
    }
   ],
   "source": [
    "FP_fm.sort_values(\"support\", ascending=False).head(5)"
   ]
  },
  {
   "cell_type": "markdown",
   "metadata": {},
   "source": [
    "# Divergence"
   ]
  },
  {
   "cell_type": "code",
   "execution_count": 13,
   "metadata": {
    "ExecuteTime": {
     "end_time": "2021-03-06T17:09:04.997740Z",
     "start_time": "2021-03-06T17:09:04.995072Z"
    }
   },
   "outputs": [],
   "source": [
    "saveFig=False\n",
    "outDirShap=\"./results/figures/shap\"\n",
    "outDirLattice=\"./results/figures/lattice\"\n",
    "\n",
    "if saveFig:\n",
    "    createDir(outDirShap)\n",
    "    createDir(outDirLattice)"
   ]
  },
  {
   "cell_type": "code",
   "execution_count": 14,
   "metadata": {
    "ExecuteTime": {
     "end_time": "2021-03-06T17:09:05.041705Z",
     "start_time": "2021-03-06T17:09:04.999385Z"
    }
   },
   "outputs": [],
   "source": [
    "from divexplorer.FP_Divergence import FP_Divergence,abbreviateDict"
   ]
  },
  {
   "cell_type": "markdown",
   "metadata": {},
   "source": [
    "## False positive rate"
   ]
  },
  {
   "cell_type": "code",
   "execution_count": 15,
   "metadata": {
    "ExecuteTime": {
     "end_time": "2021-03-06T17:09:05.050892Z",
     "start_time": "2021-03-06T17:09:05.043286Z"
    }
   },
   "outputs": [],
   "source": [
    "fp_divergence_ofI=FP_Divergence(FP_fm, \"d_fpr\")"
   ]
  },
  {
   "cell_type": "code",
   "execution_count": 16,
   "metadata": {
    "ExecuteTime": {
     "end_time": "2021-03-06T17:09:05.055435Z",
     "start_time": "2021-03-06T17:09:05.052671Z"
    }
   },
   "outputs": [],
   "source": [
    "INFOS=ITEMSETS+[fp_divergence_ofI.metric, fp_divergence_ofI.metric_name.lower(), fp_divergence_ofI.t_value_col]"
   ]
  },
  {
   "cell_type": "code",
   "execution_count": 17,
   "metadata": {
    "ExecuteTime": {
     "end_time": "2021-03-06T17:09:05.069771Z",
     "start_time": "2021-03-06T17:09:05.056922Z"
    },
    "scrolled": true
   },
   "outputs": [
    {
     "data": {
      "text/html": [
       "<div>\n",
       "<style scoped>\n",
       "    .dataframe tbody tr th:only-of-type {\n",
       "        vertical-align: middle;\n",
       "    }\n",
       "\n",
       "    .dataframe tbody tr th {\n",
       "        vertical-align: top;\n",
       "    }\n",
       "\n",
       "    .dataframe thead th {\n",
       "        text-align: right;\n",
       "    }\n",
       "</style>\n",
       "<table border=\"1\" class=\"dataframe\">\n",
       "  <thead>\n",
       "    <tr style=\"text-align: right;\">\n",
       "      <th></th>\n",
       "      <th>support</th>\n",
       "      <th>itemsets</th>\n",
       "      <th>tn</th>\n",
       "      <th>tp</th>\n",
       "      <th>fn</th>\n",
       "      <th>fp</th>\n",
       "      <th>d_fpr</th>\n",
       "      <th>fpr</th>\n",
       "      <th>t_value_fp</th>\n",
       "    </tr>\n",
       "  </thead>\n",
       "  <tbody>\n",
       "    <tr>\n",
       "      <th>0</th>\n",
       "      <td>1.0</td>\n",
       "      <td>()</td>\n",
       "      <td>3066.0</td>\n",
       "      <td>847.0</td>\n",
       "      <td>1962.0</td>\n",
       "      <td>297.0</td>\n",
       "      <td>0.0</td>\n",
       "      <td>0.088314</td>\n",
       "      <td>0.0</td>\n",
       "    </tr>\n",
       "  </tbody>\n",
       "</table>\n",
       "</div>"
      ],
      "text/plain": [
       "   support itemsets      tn     tp      fn     fp  d_fpr       fpr  t_value_fp\n",
       "0      1.0       ()  3066.0  847.0  1962.0  297.0    0.0  0.088314         0.0"
      ]
     },
     "execution_count": 17,
     "metadata": {},
     "output_type": "execute_result"
    }
   ],
   "source": [
    "fp_divergence_ofI.getInfoItemset(frozenset())[INFOS]"
   ]
  },
  {
   "cell_type": "markdown",
   "metadata": {},
   "source": [
    "### Top K"
   ]
  },
  {
   "cell_type": "code",
   "execution_count": 18,
   "metadata": {
    "ExecuteTime": {
     "end_time": "2021-03-06T17:09:05.105402Z",
     "start_time": "2021-03-06T17:09:05.071171Z"
    }
   },
   "outputs": [
    {
     "data": {
      "text/html": [
       "<div>\n",
       "<style scoped>\n",
       "    .dataframe tbody tr th:only-of-type {\n",
       "        vertical-align: middle;\n",
       "    }\n",
       "\n",
       "    .dataframe tbody tr th {\n",
       "        vertical-align: top;\n",
       "    }\n",
       "\n",
       "    .dataframe thead th {\n",
       "        text-align: right;\n",
       "    }\n",
       "</style>\n",
       "<table border=\"1\" class=\"dataframe\">\n",
       "  <thead>\n",
       "    <tr style=\"text-align: right;\">\n",
       "      <th></th>\n",
       "      <th>support</th>\n",
       "      <th>itemsets</th>\n",
       "      <th>tn</th>\n",
       "      <th>tp</th>\n",
       "      <th>fn</th>\n",
       "      <th>fp</th>\n",
       "      <th>d_fpr</th>\n",
       "      <th>fpr</th>\n",
       "      <th>t_value_fp</th>\n",
       "    </tr>\n",
       "  </thead>\n",
       "  <tbody>\n",
       "    <tr>\n",
       "      <th>112</th>\n",
       "      <td>0.128645</td>\n",
       "      <td>(age_cat=25 - 45, priors_count=&gt;3, sex=Male, race=African-American)</td>\n",
       "      <td>155.0</td>\n",
       "      <td>302.0</td>\n",
       "      <td>268.0</td>\n",
       "      <td>69.0</td>\n",
       "      <td>0.219722</td>\n",
       "      <td>0.308036</td>\n",
       "      <td>7.116857</td>\n",
       "    </tr>\n",
       "    <tr>\n",
       "      <th>92</th>\n",
       "      <td>0.145010</td>\n",
       "      <td>(age_cat=25 - 45, priors_count=&gt;3, race=African-American)</td>\n",
       "      <td>185.0</td>\n",
       "      <td>333.0</td>\n",
       "      <td>298.0</td>\n",
       "      <td>79.0</td>\n",
       "      <td>0.210928</td>\n",
       "      <td>0.299242</td>\n",
       "      <td>7.448260</td>\n",
       "    </tr>\n",
       "    <tr>\n",
       "      <th>135</th>\n",
       "      <td>0.109527</td>\n",
       "      <td>(age_cat=25 - 45, c_charge_degree=F, priors_count=&gt;3, race=African-American)</td>\n",
       "      <td>137.0</td>\n",
       "      <td>264.0</td>\n",
       "      <td>219.0</td>\n",
       "      <td>56.0</td>\n",
       "      <td>0.201841</td>\n",
       "      <td>0.290155</td>\n",
       "      <td>6.201585</td>\n",
       "    </tr>\n",
       "    <tr>\n",
       "      <th>109</th>\n",
       "      <td>0.130752</td>\n",
       "      <td>(c_charge_degree=F, priors_count=&gt;3, sex=Male, race=African-American)</td>\n",
       "      <td>166.0</td>\n",
       "      <td>312.0</td>\n",
       "      <td>268.0</td>\n",
       "      <td>61.0</td>\n",
       "      <td>0.180408</td>\n",
       "      <td>0.268722</td>\n",
       "      <td>6.132988</td>\n",
       "    </tr>\n",
       "    <tr>\n",
       "      <th>67</th>\n",
       "      <td>0.175308</td>\n",
       "      <td>(priors_count=&gt;3, sex=Male, race=African-American)</td>\n",
       "      <td>239.0</td>\n",
       "      <td>387.0</td>\n",
       "      <td>369.0</td>\n",
       "      <td>87.0</td>\n",
       "      <td>0.178557</td>\n",
       "      <td>0.266871</td>\n",
       "      <td>7.214382</td>\n",
       "    </tr>\n",
       "    <tr>\n",
       "      <th>55</th>\n",
       "      <td>0.196695</td>\n",
       "      <td>(priors_count=&gt;3, race=African-American)</td>\n",
       "      <td>283.0</td>\n",
       "      <td>428.0</td>\n",
       "      <td>403.0</td>\n",
       "      <td>100.0</td>\n",
       "      <td>0.172783</td>\n",
       "      <td>0.261097</td>\n",
       "      <td>7.582039</td>\n",
       "    </tr>\n",
       "    <tr>\n",
       "      <th>87</th>\n",
       "      <td>0.148412</td>\n",
       "      <td>(c_charge_degree=F, priors_count=&gt;3, race=African-American)</td>\n",
       "      <td>203.0</td>\n",
       "      <td>346.0</td>\n",
       "      <td>296.0</td>\n",
       "      <td>71.0</td>\n",
       "      <td>0.170810</td>\n",
       "      <td>0.259124</td>\n",
       "      <td>6.421341</td>\n",
       "    </tr>\n",
       "    <tr>\n",
       "      <th>105</th>\n",
       "      <td>0.133668</td>\n",
       "      <td>(age_cat=25 - 45, c_charge_degree=F, priors_count=&gt;3, sex=Male)</td>\n",
       "      <td>178.0</td>\n",
       "      <td>296.0</td>\n",
       "      <td>289.0</td>\n",
       "      <td>62.0</td>\n",
       "      <td>0.170019</td>\n",
       "      <td>0.258333</td>\n",
       "      <td>6.011738</td>\n",
       "    </tr>\n",
       "    <tr>\n",
       "      <th>82</th>\n",
       "      <td>0.155865</td>\n",
       "      <td>(age_cat=25 - 45, c_charge_degree=F, priors_count=&gt;3)</td>\n",
       "      <td>215.0</td>\n",
       "      <td>332.0</td>\n",
       "      <td>341.0</td>\n",
       "      <td>74.0</td>\n",
       "      <td>0.167741</td>\n",
       "      <td>0.256055</td>\n",
       "      <td>6.491614</td>\n",
       "    </tr>\n",
       "    <tr>\n",
       "      <th>62</th>\n",
       "      <td>0.180655</td>\n",
       "      <td>(age_cat=25 - 45, priors_count=&gt;3, sex=Male)</td>\n",
       "      <td>254.0</td>\n",
       "      <td>370.0</td>\n",
       "      <td>405.0</td>\n",
       "      <td>86.0</td>\n",
       "      <td>0.164627</td>\n",
       "      <td>0.252941</td>\n",
       "      <td>6.903692</td>\n",
       "    </tr>\n",
       "  </tbody>\n",
       "</table>\n",
       "</div>"
      ],
      "text/plain": [
       "      support  \\\n",
       "112  0.128645   \n",
       "92   0.145010   \n",
       "135  0.109527   \n",
       "109  0.130752   \n",
       "67   0.175308   \n",
       "55   0.196695   \n",
       "87   0.148412   \n",
       "105  0.133668   \n",
       "82   0.155865   \n",
       "62   0.180655   \n",
       "\n",
       "                                                                         itemsets  \\\n",
       "112           (age_cat=25 - 45, priors_count=>3, sex=Male, race=African-American)   \n",
       "92                      (age_cat=25 - 45, priors_count=>3, race=African-American)   \n",
       "135  (age_cat=25 - 45, c_charge_degree=F, priors_count=>3, race=African-American)   \n",
       "109         (c_charge_degree=F, priors_count=>3, sex=Male, race=African-American)   \n",
       "67                             (priors_count=>3, sex=Male, race=African-American)   \n",
       "55                                       (priors_count=>3, race=African-American)   \n",
       "87                    (c_charge_degree=F, priors_count=>3, race=African-American)   \n",
       "105               (age_cat=25 - 45, c_charge_degree=F, priors_count=>3, sex=Male)   \n",
       "82                          (age_cat=25 - 45, c_charge_degree=F, priors_count=>3)   \n",
       "62                                   (age_cat=25 - 45, priors_count=>3, sex=Male)   \n",
       "\n",
       "        tn     tp     fn     fp     d_fpr       fpr  t_value_fp  \n",
       "112  155.0  302.0  268.0   69.0  0.219722  0.308036    7.116857  \n",
       "92   185.0  333.0  298.0   79.0  0.210928  0.299242    7.448260  \n",
       "135  137.0  264.0  219.0   56.0  0.201841  0.290155    6.201585  \n",
       "109  166.0  312.0  268.0   61.0  0.180408  0.268722    6.132988  \n",
       "67   239.0  387.0  369.0   87.0  0.178557  0.266871    7.214382  \n",
       "55   283.0  428.0  403.0  100.0  0.172783  0.261097    7.582039  \n",
       "87   203.0  346.0  296.0   71.0  0.170810  0.259124    6.421341  \n",
       "105  178.0  296.0  289.0   62.0  0.170019  0.258333    6.011738  \n",
       "82   215.0  332.0  341.0   74.0  0.167741  0.256055    6.491614  \n",
       "62   254.0  370.0  405.0   86.0  0.164627  0.252941    6.903692  "
      ]
     },
     "execution_count": 18,
     "metadata": {},
     "output_type": "execute_result"
    }
   ],
   "source": [
    "fp_divergence_ofI.getDivergence(th_redundancy=0)[INFOS].head(10)"
   ]
  },
  {
   "cell_type": "markdown",
   "metadata": {},
   "source": [
    "Top FPR - Only divergence info"
   ]
  },
  {
   "cell_type": "code",
   "execution_count": 19,
   "metadata": {
    "ExecuteTime": {
     "end_time": "2021-03-06T17:09:05.123814Z",
     "start_time": "2021-03-06T17:09:05.106842Z"
    }
   },
   "outputs": [
    {
     "data": {
      "text/html": [
       "<div>\n",
       "<style scoped>\n",
       "    .dataframe tbody tr th:only-of-type {\n",
       "        vertical-align: middle;\n",
       "    }\n",
       "\n",
       "    .dataframe tbody tr th {\n",
       "        vertical-align: top;\n",
       "    }\n",
       "\n",
       "    .dataframe thead th {\n",
       "        text-align: right;\n",
       "    }\n",
       "</style>\n",
       "<table border=\"1\" class=\"dataframe\">\n",
       "  <thead>\n",
       "    <tr style=\"text-align: right;\">\n",
       "      <th></th>\n",
       "      <th>support</th>\n",
       "      <th>itemsets</th>\n",
       "      <th>d_fpr</th>\n",
       "      <th>t_value_fp</th>\n",
       "    </tr>\n",
       "  </thead>\n",
       "  <tbody>\n",
       "    <tr>\n",
       "      <th>112</th>\n",
       "      <td>0.128645</td>\n",
       "      <td>(age_cat=25 - 45, priors_count=&gt;3, sex=Male, race=African-American)</td>\n",
       "      <td>0.219722</td>\n",
       "      <td>7.116857</td>\n",
       "    </tr>\n",
       "    <tr>\n",
       "      <th>92</th>\n",
       "      <td>0.145010</td>\n",
       "      <td>(age_cat=25 - 45, priors_count=&gt;3, race=African-American)</td>\n",
       "      <td>0.210928</td>\n",
       "      <td>7.448260</td>\n",
       "    </tr>\n",
       "    <tr>\n",
       "      <th>135</th>\n",
       "      <td>0.109527</td>\n",
       "      <td>(age_cat=25 - 45, c_charge_degree=F, priors_count=&gt;3, race=African-American)</td>\n",
       "      <td>0.201841</td>\n",
       "      <td>6.201585</td>\n",
       "    </tr>\n",
       "    <tr>\n",
       "      <th>109</th>\n",
       "      <td>0.130752</td>\n",
       "      <td>(c_charge_degree=F, priors_count=&gt;3, sex=Male, race=African-American)</td>\n",
       "      <td>0.180408</td>\n",
       "      <td>6.132988</td>\n",
       "    </tr>\n",
       "    <tr>\n",
       "      <th>67</th>\n",
       "      <td>0.175308</td>\n",
       "      <td>(priors_count=&gt;3, sex=Male, race=African-American)</td>\n",
       "      <td>0.178557</td>\n",
       "      <td>7.214382</td>\n",
       "    </tr>\n",
       "  </tbody>\n",
       "</table>\n",
       "</div>"
      ],
      "text/plain": [
       "      support  \\\n",
       "112  0.128645   \n",
       "92   0.145010   \n",
       "135  0.109527   \n",
       "109  0.130752   \n",
       "67   0.175308   \n",
       "\n",
       "                                                                         itemsets  \\\n",
       "112           (age_cat=25 - 45, priors_count=>3, sex=Male, race=African-American)   \n",
       "92                      (age_cat=25 - 45, priors_count=>3, race=African-American)   \n",
       "135  (age_cat=25 - 45, c_charge_degree=F, priors_count=>3, race=African-American)   \n",
       "109         (c_charge_degree=F, priors_count=>3, sex=Male, race=African-American)   \n",
       "67                             (priors_count=>3, sex=Male, race=African-American)   \n",
       "\n",
       "        d_fpr  t_value_fp  \n",
       "112  0.219722    7.116857  \n",
       "92   0.210928    7.448260  \n",
       "135  0.201841    6.201585  \n",
       "109  0.180408    6.132988  \n",
       "67   0.178557    7.214382  "
      ]
     },
     "execution_count": 19,
     "metadata": {},
     "output_type": "execute_result"
    }
   ],
   "source": [
    "fp_divergence_ofI.getDivergence(th_redundancy=0)[[\"support\", \"itemsets\",  fp_divergence_ofI.metric, fp_divergence_ofI.t_value_col]].head(5)"
   ]
  },
  {
   "cell_type": "markdown",
   "metadata": {},
   "source": [
    "Threshold on redundancy"
   ]
  },
  {
   "cell_type": "code",
   "execution_count": 20,
   "metadata": {
    "ExecuteTime": {
     "end_time": "2021-03-06T17:09:05.142508Z",
     "start_time": "2021-03-06T17:09:05.126188Z"
    }
   },
   "outputs": [
    {
     "data": {
      "text/html": [
       "<div>\n",
       "<style scoped>\n",
       "    .dataframe tbody tr th:only-of-type {\n",
       "        vertical-align: middle;\n",
       "    }\n",
       "\n",
       "    .dataframe tbody tr th {\n",
       "        vertical-align: top;\n",
       "    }\n",
       "\n",
       "    .dataframe thead th {\n",
       "        text-align: right;\n",
       "    }\n",
       "</style>\n",
       "<table border=\"1\" class=\"dataframe\">\n",
       "  <thead>\n",
       "    <tr style=\"text-align: right;\">\n",
       "      <th></th>\n",
       "      <th>support</th>\n",
       "      <th>itemsets</th>\n",
       "      <th>d_fpr</th>\n",
       "      <th>t_value_fp</th>\n",
       "    </tr>\n",
       "  </thead>\n",
       "  <tbody>\n",
       "    <tr>\n",
       "      <th>112</th>\n",
       "      <td>0.128645</td>\n",
       "      <td>(age_cat=25 - 45, priors_count=&gt;3, sex=Male, race=African-American)</td>\n",
       "      <td>0.219722</td>\n",
       "      <td>7.116857</td>\n",
       "    </tr>\n",
       "    <tr>\n",
       "      <th>92</th>\n",
       "      <td>0.145010</td>\n",
       "      <td>(age_cat=25 - 45, priors_count=&gt;3, race=African-American)</td>\n",
       "      <td>0.210928</td>\n",
       "      <td>7.448260</td>\n",
       "    </tr>\n",
       "    <tr>\n",
       "      <th>135</th>\n",
       "      <td>0.109527</td>\n",
       "      <td>(age_cat=25 - 45, c_charge_degree=F, priors_count=&gt;3, race=African-American)</td>\n",
       "      <td>0.201841</td>\n",
       "      <td>6.201585</td>\n",
       "    </tr>\n",
       "    <tr>\n",
       "      <th>109</th>\n",
       "      <td>0.130752</td>\n",
       "      <td>(c_charge_degree=F, priors_count=&gt;3, sex=Male, race=African-American)</td>\n",
       "      <td>0.180408</td>\n",
       "      <td>6.132988</td>\n",
       "    </tr>\n",
       "    <tr>\n",
       "      <th>67</th>\n",
       "      <td>0.175308</td>\n",
       "      <td>(priors_count=&gt;3, sex=Male, race=African-American)</td>\n",
       "      <td>0.178557</td>\n",
       "      <td>7.214382</td>\n",
       "    </tr>\n",
       "  </tbody>\n",
       "</table>\n",
       "</div>"
      ],
      "text/plain": [
       "      support  \\\n",
       "112  0.128645   \n",
       "92   0.145010   \n",
       "135  0.109527   \n",
       "109  0.130752   \n",
       "67   0.175308   \n",
       "\n",
       "                                                                         itemsets  \\\n",
       "112           (age_cat=25 - 45, priors_count=>3, sex=Male, race=African-American)   \n",
       "92                      (age_cat=25 - 45, priors_count=>3, race=African-American)   \n",
       "135  (age_cat=25 - 45, c_charge_degree=F, priors_count=>3, race=African-American)   \n",
       "109         (c_charge_degree=F, priors_count=>3, sex=Male, race=African-American)   \n",
       "67                             (priors_count=>3, sex=Male, race=African-American)   \n",
       "\n",
       "        d_fpr  t_value_fp  \n",
       "112  0.219722    7.116857  \n",
       "92   0.210928    7.448260  \n",
       "135  0.201841    6.201585  \n",
       "109  0.180408    6.132988  \n",
       "67   0.178557    7.214382  "
      ]
     },
     "execution_count": 20,
     "metadata": {},
     "output_type": "execute_result"
    }
   ],
   "source": [
    "fp_divergence_ofI.getDivergence(th_redundancy=0)[[\"support\", \"itemsets\",  fp_divergence_ofI.metric, fp_divergence_ofI.t_value_col]].head(5)"
   ]
  },
  {
   "cell_type": "markdown",
   "metadata": {},
   "source": [
    "Printable - threshold on redundancy"
   ]
  },
  {
   "cell_type": "code",
   "execution_count": 21,
   "metadata": {
    "ExecuteTime": {
     "end_time": "2021-03-06T17:09:05.160711Z",
     "start_time": "2021-03-06T17:09:05.145938Z"
    }
   },
   "outputs": [
    {
     "name": "stdout",
     "output_type": "stream",
     "text": [
      "compas - #FP: 54 - FPR - th_redundancy: 0.01\n"
     ]
    },
    {
     "data": {
      "text/html": [
       "<div>\n",
       "<style scoped>\n",
       "    .dataframe tbody tr th:only-of-type {\n",
       "        vertical-align: middle;\n",
       "    }\n",
       "\n",
       "    .dataframe tbody tr th {\n",
       "        vertical-align: top;\n",
       "    }\n",
       "\n",
       "    .dataframe thead th {\n",
       "        text-align: right;\n",
       "    }\n",
       "</style>\n",
       "<table border=\"1\" class=\"dataframe\">\n",
       "  <thead>\n",
       "    <tr style=\"text-align: right;\">\n",
       "      <th></th>\n",
       "      <th>support</th>\n",
       "      <th>itemsets</th>\n",
       "      <th>d_fpr</th>\n",
       "      <th>t_value_fp</th>\n",
       "    </tr>\n",
       "  </thead>\n",
       "  <tbody>\n",
       "    <tr>\n",
       "      <th>92</th>\n",
       "      <td>0.145010</td>\n",
       "      <td>(age_cat=25 - 45, priors_count=&gt;3, race=African-American)</td>\n",
       "      <td>0.210928</td>\n",
       "      <td>7.448260</td>\n",
       "    </tr>\n",
       "    <tr>\n",
       "      <th>55</th>\n",
       "      <td>0.196695</td>\n",
       "      <td>(priors_count=&gt;3, race=African-American)</td>\n",
       "      <td>0.172783</td>\n",
       "      <td>7.582039</td>\n",
       "    </tr>\n",
       "    <tr>\n",
       "      <th>49</th>\n",
       "      <td>0.207226</td>\n",
       "      <td>(age_cat=25 - 45, priors_count=&gt;3)</td>\n",
       "      <td>0.163575</td>\n",
       "      <td>7.384973</td>\n",
       "    </tr>\n",
       "    <tr>\n",
       "      <th>110</th>\n",
       "      <td>0.129780</td>\n",
       "      <td>(priors_count=&gt;3, length_of_stay=&lt;week, race=African-American)</td>\n",
       "      <td>0.140468</td>\n",
       "      <td>5.486527</td>\n",
       "    </tr>\n",
       "    <tr>\n",
       "      <th>141</th>\n",
       "      <td>0.107583</td>\n",
       "      <td>(age_cat=Less than 25, sex=Male, race=African-American)</td>\n",
       "      <td>0.131095</td>\n",
       "      <td>4.886362</td>\n",
       "    </tr>\n",
       "  </tbody>\n",
       "</table>\n",
       "</div>"
      ],
      "text/plain": [
       "      support                                                        itemsets  \\\n",
       "92   0.145010       (age_cat=25 - 45, priors_count=>3, race=African-American)   \n",
       "55   0.196695                        (priors_count=>3, race=African-American)   \n",
       "49   0.207226                              (age_cat=25 - 45, priors_count=>3)   \n",
       "110  0.129780  (priors_count=>3, length_of_stay=<week, race=African-American)   \n",
       "141  0.107583         (age_cat=Less than 25, sex=Male, race=African-American)   \n",
       "\n",
       "        d_fpr  t_value_fp  \n",
       "92   0.210928    7.448260  \n",
       "55   0.172783    7.582039  \n",
       "49   0.163575    7.384973  \n",
       "110  0.140468    5.486527  \n",
       "141  0.131095    4.886362  "
      ]
     },
     "metadata": {},
     "output_type": "display_data"
    }
   ],
   "source": [
    "th_redundancy=0.01\n",
    "div_ofI=fp_divergence_ofI.getDivergence(th_redundancy=th_redundancy)[[\"support\", \"itemsets\",  fp_divergence_ofI.metric, fp_divergence_ofI.t_value_col]]\n",
    "print(f\"{dataset_name} - #FP: {len(div_ofI)-1} - {fp_divergence_ofI.metric_name} - th_redundancy: {th_redundancy}\")\n",
    "display(div_ofI.head(5))"
   ]
  },
  {
   "cell_type": "code",
   "execution_count": 22,
   "metadata": {
    "ExecuteTime": {
     "end_time": "2021-03-06T17:09:05.175742Z",
     "start_time": "2021-03-06T17:09:05.162611Z"
    }
   },
   "outputs": [
    {
     "data": {
      "text/html": [
       "<div>\n",
       "<style scoped>\n",
       "    .dataframe tbody tr th:only-of-type {\n",
       "        vertical-align: middle;\n",
       "    }\n",
       "\n",
       "    .dataframe tbody tr th {\n",
       "        vertical-align: top;\n",
       "    }\n",
       "\n",
       "    .dataframe thead th {\n",
       "        text-align: right;\n",
       "    }\n",
       "</style>\n",
       "<table border=\"1\" class=\"dataframe\">\n",
       "  <thead>\n",
       "    <tr style=\"text-align: right;\">\n",
       "      <th></th>\n",
       "      <th>itemsets</th>\n",
       "      <th>d_fpr</th>\n",
       "    </tr>\n",
       "  </thead>\n",
       "  <tbody>\n",
       "    <tr>\n",
       "      <th>112</th>\n",
       "      <td>(age_cat=25 - 45, priors_count=&gt;3, sex=Male, race=African-American)</td>\n",
       "      <td>0.219722</td>\n",
       "    </tr>\n",
       "    <tr>\n",
       "      <th>92</th>\n",
       "      <td>(age_cat=25 - 45, priors_count=&gt;3, race=African-American)</td>\n",
       "      <td>0.210928</td>\n",
       "    </tr>\n",
       "    <tr>\n",
       "      <th>135</th>\n",
       "      <td>(age_cat=25 - 45, c_charge_degree=F, priors_count=&gt;3, race=African-American)</td>\n",
       "      <td>0.201841</td>\n",
       "    </tr>\n",
       "    <tr>\n",
       "      <th>109</th>\n",
       "      <td>(c_charge_degree=F, priors_count=&gt;3, sex=Male, race=African-American)</td>\n",
       "      <td>0.180408</td>\n",
       "    </tr>\n",
       "    <tr>\n",
       "      <th>67</th>\n",
       "      <td>(priors_count=&gt;3, sex=Male, race=African-American)</td>\n",
       "      <td>0.178557</td>\n",
       "    </tr>\n",
       "    <tr>\n",
       "      <th>55</th>\n",
       "      <td>(priors_count=&gt;3, race=African-American)</td>\n",
       "      <td>0.172783</td>\n",
       "    </tr>\n",
       "    <tr>\n",
       "      <th>87</th>\n",
       "      <td>(c_charge_degree=F, priors_count=&gt;3, race=African-American)</td>\n",
       "      <td>0.170810</td>\n",
       "    </tr>\n",
       "    <tr>\n",
       "      <th>105</th>\n",
       "      <td>(age_cat=25 - 45, c_charge_degree=F, priors_count=&gt;3, sex=Male)</td>\n",
       "      <td>0.170019</td>\n",
       "    </tr>\n",
       "    <tr>\n",
       "      <th>82</th>\n",
       "      <td>(age_cat=25 - 45, c_charge_degree=F, priors_count=&gt;3)</td>\n",
       "      <td>0.167741</td>\n",
       "    </tr>\n",
       "    <tr>\n",
       "      <th>62</th>\n",
       "      <td>(age_cat=25 - 45, priors_count=&gt;3, sex=Male)</td>\n",
       "      <td>0.164627</td>\n",
       "    </tr>\n",
       "  </tbody>\n",
       "</table>\n",
       "</div>"
      ],
      "text/plain": [
       "                                                                         itemsets  \\\n",
       "112           (age_cat=25 - 45, priors_count=>3, sex=Male, race=African-American)   \n",
       "92                      (age_cat=25 - 45, priors_count=>3, race=African-American)   \n",
       "135  (age_cat=25 - 45, c_charge_degree=F, priors_count=>3, race=African-American)   \n",
       "109         (c_charge_degree=F, priors_count=>3, sex=Male, race=African-American)   \n",
       "67                             (priors_count=>3, sex=Male, race=African-American)   \n",
       "55                                       (priors_count=>3, race=African-American)   \n",
       "87                    (c_charge_degree=F, priors_count=>3, race=African-American)   \n",
       "105               (age_cat=25 - 45, c_charge_degree=F, priors_count=>3, sex=Male)   \n",
       "82                          (age_cat=25 - 45, c_charge_degree=F, priors_count=>3)   \n",
       "62                                   (age_cat=25 - 45, priors_count=>3, sex=Male)   \n",
       "\n",
       "        d_fpr  \n",
       "112  0.219722  \n",
       "92   0.210928  \n",
       "135  0.201841  \n",
       "109  0.180408  \n",
       "67   0.178557  \n",
       "55   0.172783  \n",
       "87   0.170810  \n",
       "105  0.170019  \n",
       "82   0.167741  \n",
       "62   0.164627  "
      ]
     },
     "execution_count": 22,
     "metadata": {},
     "output_type": "execute_result"
    }
   ],
   "source": [
    "fp_divergence_ofI.getDivergenceTopKDf(K=10, th_redundancy=0)"
   ]
  },
  {
   "cell_type": "markdown",
   "metadata": {
    "ExecuteTime": {
     "end_time": "2020-08-10T10:09:51.315210Z",
     "start_time": "2020-08-10T10:09:51.310814Z"
    }
   },
   "source": [
    "### Shapley value of TOP-K patterns"
   ]
  },
  {
   "cell_type": "code",
   "execution_count": 23,
   "metadata": {
    "ExecuteTime": {
     "end_time": "2021-03-06T17:09:05.186000Z",
     "start_time": "2021-03-06T17:09:05.176979Z"
    }
   },
   "outputs": [
    {
     "data": {
      "text/plain": [
       "{frozenset({'age_cat=25 - 45',\n",
       "            'priors_count=>3',\n",
       "            'race=African-American',\n",
       "            'sex=Male'}): 0.21972170893335036,\n",
       " frozenset({'age_cat=25 - 45',\n",
       "            'priors_count=>3',\n",
       "            'race=African-American'}): 0.2109284188900603,\n",
       " frozenset({'age_cat=25 - 45',\n",
       "            'c_charge_degree=F',\n",
       "            'priors_count=>3',\n",
       "            'race=African-American'}): 0.2018414350621438,\n",
       " frozenset({'c_charge_degree=F',\n",
       "            'priors_count=>3',\n",
       "            'race=African-American',\n",
       "            'sex=Male'}): 0.18040846160798846,\n",
       " frozenset({'priors_count=>3',\n",
       "            'race=African-American',\n",
       "            'sex=Male'}): 0.17855716029180785}"
      ]
     },
     "execution_count": 23,
     "metadata": {},
     "output_type": "execute_result"
    }
   ],
   "source": [
    "topK_ofI=fp_divergence_ofI.getDivergenceTopK(K=5, th_redundancy=0)\n",
    "topK_ofI"
   ]
  },
  {
   "cell_type": "code",
   "execution_count": 24,
   "metadata": {
    "ExecuteTime": {
     "end_time": "2021-03-06T17:09:06.075775Z",
     "start_time": "2021-03-06T17:09:05.187143Z"
    },
    "scrolled": true
   },
   "outputs": [
    {
     "data": {
      "image/png": "[encoded data removed]",
      "text/plain": [
       "<Figure size 400x300 with 1 Axes>"
      ]
     },
     "metadata": {
      "needs_background": "light"
     },
     "output_type": "display_data"
    },
    {
     "data": {
      "image/png": "[encoded data removed]",
      "text/plain": [
       "<Figure size 400x300 with 1 Axes>"
      ]
     },
     "metadata": {
      "needs_background": "light"
     },
     "output_type": "display_data"
    },
    {
     "data": {
      "image/png": "[encoded data removed]",
      "text/plain": [
       "<Figure size 400x300 with 1 Axes>"
      ]
     },
     "metadata": {
      "needs_background": "light"
     },
     "output_type": "display_data"
    },
    {
     "data": {
      "image/png": "[encoded data removed]",
      "text/plain": [
       "<Figure size 400x300 with 1 Axes>"
      ]
     },
     "metadata": {
      "needs_background": "light"
     },
     "output_type": "display_data"
    },
    {
     "data": {
      "image/png": "[encoded data removed]",
      "text/plain": [
       "<Figure size 400x300 with 1 Axes>"
      ]
     },
     "metadata": {
      "needs_background": "light"
     },
     "output_type": "display_data"
    }
   ],
   "source": [
    "topK_ofI=fp_divergence_ofI.getDivergenceTopK(K=5, th_redundancy=0)\n",
    "for item in topK_ofI.keys():\n",
    "    fp_divergence_ofI.plotShapleyValue(item)"
   ]
  },
  {
   "cell_type": "code",
   "execution_count": 25,
   "metadata": {
    "ExecuteTime": {
     "end_time": "2021-03-06T17:09:06.234849Z",
     "start_time": "2021-03-06T17:09:06.077351Z"
    }
   },
   "outputs": [
    {
     "name": "stdout",
     "output_type": "stream",
     "text": [
      "{frozenset({'age_cat=25 - 45', 'priors_count=>3', 'sex=Male', 'race=African-American'}): 0.21972170893335036}\n",
      "{frozenset({'age_cat=25 - 45'}): 0.019084863062973356, frozenset({'priors_count=>3'}): 0.14226087371897317, frozenset({'sex=Male'}): 0.007220590601649036, frozenset({'race=African-American'}): 0.05115538154975479}\n"
     ]
    },
    {
     "data": {
      "image/png": "[encoded data removed]",
      "text/plain": [
       "<Figure size 130x120 with 1 Axes>"
      ]
     },
     "metadata": {
      "needs_background": "light"
     },
     "output_type": "display_data"
    }
   ],
   "source": [
    "outputName=f\"{outDirShap}/{dataset_name}_shap_{fp_divergence_ofI.metric_name}_{min_sup}\"\n",
    "itemset_div=fp_divergence_ofI.getDivergenceTopK(K=1, th_redundancy=0)\n",
    "print(itemset_div)\n",
    "itemset_shap=fp_divergence_ofI.computeShapleyValue(list(itemset_div.keys())[0])\n",
    "print(itemset_shap)\n",
    "fp_divergence_ofI.plotShapleyValue(shapley_values=itemset_shap, abbreviations=abbreviations,\\\n",
    "                 height=0.4,\\\n",
    "                 title=f\"{dataset_name} -\", sizeFig=(1.3,1.2), labelsize=8, saveFig=saveFig, nameFig=outputName)"
   ]
  },
  {
   "cell_type": "markdown",
   "metadata": {},
   "source": [
    "#### Lattice Explorer"
   ]
  },
  {
   "cell_type": "code",
   "execution_count": 26,
   "metadata": {
    "ExecuteTime": {
     "end_time": "2021-03-06T17:09:06.980716Z",
     "start_time": "2021-03-06T17:09:06.236096Z"
    },
    "scrolled": true
   },
   "outputs": [],
   "source": [
    "top1=list(fp_divergence_ofI.getDivergenceTopK(K=1, th_redundancy=0).keys())[0]\n",
    "fig1=fp_divergence_ofI.plotLatticeItemset(top1, Th_divergence=0.15, sizeDot=\"small\", getLower=True)"
   ]
  },
  {
   "cell_type": "markdown",
   "metadata": {},
   "source": [
    "### Corrective"
   ]
  },
  {
   "cell_type": "markdown",
   "metadata": {},
   "source": [
    "Given an itemset $I$ and an item $i \\not\\in I$, we say that $i$ is a *corrective item* for $I$ if \n",
    "$|\\Delta(I \\cup i)|<|\\Delta(I)|$.\n",
    "\n",
    "\n",
    "The *corrective factor* of $i$ w.r.t.\\ $I$ is \n",
    "$|\\Delta(I)| - |\\Delta(I \\cup i)|$."
   ]
  },
  {
   "cell_type": "code",
   "execution_count": 27,
   "metadata": {
    "ExecuteTime": {
     "end_time": "2021-03-06T17:09:07.046827Z",
     "start_time": "2021-03-06T17:09:06.982500Z"
    },
    "scrolled": true
   },
   "outputs": [
    {
     "data": {
      "text/html": [
       "<div>\n",
       "<style scoped>\n",
       "    .dataframe tbody tr th:only-of-type {\n",
       "        vertical-align: middle;\n",
       "    }\n",
       "\n",
       "    .dataframe tbody tr th {\n",
       "        vertical-align: top;\n",
       "    }\n",
       "\n",
       "    .dataframe thead th {\n",
       "        text-align: right;\n",
       "    }\n",
       "</style>\n",
       "<table border=\"1\" class=\"dataframe\">\n",
       "  <thead>\n",
       "    <tr style=\"text-align: right;\">\n",
       "      <th></th>\n",
       "      <th>item i</th>\n",
       "      <th>S</th>\n",
       "      <th>S+i</th>\n",
       "      <th>v_i</th>\n",
       "      <th>v_S</th>\n",
       "      <th>v_S+i</th>\n",
       "      <th>t_value_corr</th>\n",
       "      <th>corr_factor</th>\n",
       "    </tr>\n",
       "  </thead>\n",
       "  <tbody>\n",
       "    <tr>\n",
       "      <th>289</th>\n",
       "      <td>(priors_count=0)</td>\n",
       "      <td>(sex=Male, race=African-American)</td>\n",
       "      <td>(priors_count=0, sex=Male, race=African-American)</td>\n",
       "      <td>-0.039927</td>\n",
       "      <td>0.062371</td>\n",
       "      <td>0.009430</td>\n",
       "      <td>2.823776</td>\n",
       "      <td>0.052941</td>\n",
       "    </tr>\n",
       "    <tr>\n",
       "      <th>96</th>\n",
       "      <td>(priors_count=0)</td>\n",
       "      <td>(race=African-American)</td>\n",
       "      <td>(priors_count=0, race=African-American)</td>\n",
       "      <td>-0.039927</td>\n",
       "      <td>0.051052</td>\n",
       "      <td>-0.000500</td>\n",
       "      <td>3.376132</td>\n",
       "      <td>0.050552</td>\n",
       "    </tr>\n",
       "    <tr>\n",
       "      <th>261</th>\n",
       "      <td>(race=African-American)</td>\n",
       "      <td>(length_of_stay=&lt;week, priors_count=0)</td>\n",
       "      <td>(length_of_stay=&lt;week, priors_count=0, race=African-American)</td>\n",
       "      <td>0.051052</td>\n",
       "      <td>-0.043788</td>\n",
       "      <td>-0.003043</td>\n",
       "      <td>3.070673</td>\n",
       "      <td>0.040746</td>\n",
       "    </tr>\n",
       "    <tr>\n",
       "      <th>97</th>\n",
       "      <td>(race=African-American)</td>\n",
       "      <td>(priors_count=0)</td>\n",
       "      <td>(priors_count=0, race=African-American)</td>\n",
       "      <td>0.051052</td>\n",
       "      <td>-0.039927</td>\n",
       "      <td>-0.000500</td>\n",
       "      <td>3.035485</td>\n",
       "      <td>0.039427</td>\n",
       "    </tr>\n",
       "    <tr>\n",
       "      <th>377</th>\n",
       "      <td>(priors_count=[1,3])</td>\n",
       "      <td>(length_of_stay=&lt;week, sex=Male, race=African-American)</td>\n",
       "      <td>(length_of_stay=&lt;week, sex=Male, priors_count=[1,3], race=African-American)</td>\n",
       "      <td>-0.015258</td>\n",
       "      <td>0.037486</td>\n",
       "      <td>-0.001609</td>\n",
       "      <td>2.005249</td>\n",
       "      <td>0.035877</td>\n",
       "    </tr>\n",
       "  </tbody>\n",
       "</table>\n",
       "</div>"
      ],
      "text/plain": [
       "                      item i  \\\n",
       "289         (priors_count=0)   \n",
       "96          (priors_count=0)   \n",
       "261  (race=African-American)   \n",
       "97   (race=African-American)   \n",
       "377     (priors_count=[1,3])   \n",
       "\n",
       "                                                           S  \\\n",
       "289                        (sex=Male, race=African-American)   \n",
       "96                                   (race=African-American)   \n",
       "261                   (length_of_stay=<week, priors_count=0)   \n",
       "97                                          (priors_count=0)   \n",
       "377  (length_of_stay=<week, sex=Male, race=African-American)   \n",
       "\n",
       "                                                                             S+i  \\\n",
       "289                            (priors_count=0, sex=Male, race=African-American)   \n",
       "96                                       (priors_count=0, race=African-American)   \n",
       "261                (length_of_stay=<week, priors_count=0, race=African-American)   \n",
       "97                                       (priors_count=0, race=African-American)   \n",
       "377  (length_of_stay=<week, sex=Male, priors_count=[1,3], race=African-American)   \n",
       "\n",
       "          v_i       v_S     v_S+i  t_value_corr  corr_factor  \n",
       "289 -0.039927  0.062371  0.009430      2.823776     0.052941  \n",
       "96  -0.039927  0.051052 -0.000500      3.376132     0.050552  \n",
       "261  0.051052 -0.043788 -0.003043      3.070673     0.040746  \n",
       "97   0.051052 -0.039927 -0.000500      3.035485     0.039427  \n",
       "377 -0.015258  0.037486 -0.001609      2.005249     0.035877  "
      ]
     },
     "execution_count": 27,
     "metadata": {},
     "output_type": "execute_result"
    }
   ],
   "source": [
    "#Significant corrective items based on t-value of difference\n",
    "corrSign=fp_divergence_ofI.getCorrectiveItems()\n",
    "corrSign.head(5)"
   ]
  },
  {
   "cell_type": "markdown",
   "metadata": {},
   "source": [
    "Only itemsets with positive divergence"
   ]
  },
  {
   "cell_type": "code",
   "execution_count": 28,
   "metadata": {
    "ExecuteTime": {
     "end_time": "2021-03-06T17:09:11.835782Z",
     "start_time": "2021-03-06T17:09:11.826025Z"
    }
   },
   "outputs": [
    {
     "data": {
      "text/html": [
       "<div>\n",
       "<style scoped>\n",
       "    .dataframe tbody tr th:only-of-type {\n",
       "        vertical-align: middle;\n",
       "    }\n",
       "\n",
       "    .dataframe tbody tr th {\n",
       "        vertical-align: top;\n",
       "    }\n",
       "\n",
       "    .dataframe thead th {\n",
       "        text-align: right;\n",
       "    }\n",
       "</style>\n",
       "<table border=\"1\" class=\"dataframe\">\n",
       "  <thead>\n",
       "    <tr style=\"text-align: right;\">\n",
       "      <th></th>\n",
       "      <th>item i</th>\n",
       "      <th>S</th>\n",
       "      <th>S+i</th>\n",
       "      <th>v_i</th>\n",
       "      <th>v_S</th>\n",
       "      <th>v_S+i</th>\n",
       "      <th>t_value_corr</th>\n",
       "      <th>corr_factor</th>\n",
       "    </tr>\n",
       "  </thead>\n",
       "  <tbody>\n",
       "    <tr>\n",
       "      <th>289</th>\n",
       "      <td>(priors_count=0)</td>\n",
       "      <td>(sex=Male, race=African-American)</td>\n",
       "      <td>(priors_count=0, sex=Male, race=African-American)</td>\n",
       "      <td>-0.039927</td>\n",
       "      <td>0.062371</td>\n",
       "      <td>0.009430</td>\n",
       "      <td>2.823776</td>\n",
       "      <td>0.052941</td>\n",
       "    </tr>\n",
       "    <tr>\n",
       "      <th>96</th>\n",
       "      <td>(priors_count=0)</td>\n",
       "      <td>(race=African-American)</td>\n",
       "      <td>(priors_count=0, race=African-American)</td>\n",
       "      <td>-0.039927</td>\n",
       "      <td>0.051052</td>\n",
       "      <td>-0.000500</td>\n",
       "      <td>3.376132</td>\n",
       "      <td>0.050552</td>\n",
       "    </tr>\n",
       "    <tr>\n",
       "      <th>377</th>\n",
       "      <td>(priors_count=[1,3])</td>\n",
       "      <td>(length_of_stay=&lt;week, sex=Male, race=African-American)</td>\n",
       "      <td>(length_of_stay=&lt;week, sex=Male, priors_count=[1,3], race=African-American)</td>\n",
       "      <td>-0.015258</td>\n",
       "      <td>0.037486</td>\n",
       "      <td>-0.001609</td>\n",
       "      <td>2.005249</td>\n",
       "      <td>0.035877</td>\n",
       "    </tr>\n",
       "    <tr>\n",
       "      <th>260</th>\n",
       "      <td>(priors_count=0)</td>\n",
       "      <td>(length_of_stay=&lt;week, race=African-American)</td>\n",
       "      <td>(length_of_stay=&lt;week, priors_count=0, race=African-American)</td>\n",
       "      <td>-0.039927</td>\n",
       "      <td>0.029713</td>\n",
       "      <td>-0.003043</td>\n",
       "      <td>2.063030</td>\n",
       "      <td>0.026671</td>\n",
       "    </tr>\n",
       "    <tr>\n",
       "      <th>218</th>\n",
       "      <td>(priors_count=0)</td>\n",
       "      <td>(c_charge_degree=F, sex=Male)</td>\n",
       "      <td>(c_charge_degree=F, priors_count=0, sex=Male)</td>\n",
       "      <td>-0.039927</td>\n",
       "      <td>0.022727</td>\n",
       "      <td>-0.020632</td>\n",
       "      <td>3.244110</td>\n",
       "      <td>0.002095</td>\n",
       "    </tr>\n",
       "  </tbody>\n",
       "</table>\n",
       "</div>"
      ],
      "text/plain": [
       "                   item i  \\\n",
       "289      (priors_count=0)   \n",
       "96       (priors_count=0)   \n",
       "377  (priors_count=[1,3])   \n",
       "260      (priors_count=0)   \n",
       "218      (priors_count=0)   \n",
       "\n",
       "                                                           S  \\\n",
       "289                        (sex=Male, race=African-American)   \n",
       "96                                   (race=African-American)   \n",
       "377  (length_of_stay=<week, sex=Male, race=African-American)   \n",
       "260            (length_of_stay=<week, race=African-American)   \n",
       "218                            (c_charge_degree=F, sex=Male)   \n",
       "\n",
       "                                                                             S+i  \\\n",
       "289                            (priors_count=0, sex=Male, race=African-American)   \n",
       "96                                       (priors_count=0, race=African-American)   \n",
       "377  (length_of_stay=<week, sex=Male, priors_count=[1,3], race=African-American)   \n",
       "260                (length_of_stay=<week, priors_count=0, race=African-American)   \n",
       "218                                (c_charge_degree=F, priors_count=0, sex=Male)   \n",
       "\n",
       "          v_i       v_S     v_S+i  t_value_corr  corr_factor  \n",
       "289 -0.039927  0.062371  0.009430      2.823776     0.052941  \n",
       "96  -0.039927  0.051052 -0.000500      3.376132     0.050552  \n",
       "377 -0.015258  0.037486 -0.001609      2.005249     0.035877  \n",
       "260 -0.039927  0.029713 -0.003043      2.063030     0.026671  \n",
       "218 -0.039927  0.022727 -0.020632      3.244110     0.002095  "
      ]
     },
     "execution_count": 28,
     "metadata": {},
     "output_type": "execute_result"
    }
   ],
   "source": [
    "corrSign_pos=fp_divergence_ofI.getCorrectiveItemsPos()\n",
    "corrSign_pos.head()"
   ]
  },
  {
   "cell_type": "markdown",
   "metadata": {},
   "source": [
    "Details of $S$ and $S \\cup i$ for the top corrective items"
   ]
  },
  {
   "cell_type": "code",
   "execution_count": 29,
   "metadata": {
    "ExecuteTime": {
     "end_time": "2021-03-06T17:09:07.100315Z",
     "start_time": "2021-03-06T17:09:07.064542Z"
    },
    "scrolled": true
   },
   "outputs": [
    {
     "data": {
      "text/html": [
       "<div>\n",
       "<style scoped>\n",
       "    .dataframe tbody tr th:only-of-type {\n",
       "        vertical-align: middle;\n",
       "    }\n",
       "\n",
       "    .dataframe tbody tr th {\n",
       "        vertical-align: top;\n",
       "    }\n",
       "\n",
       "    .dataframe thead th {\n",
       "        text-align: right;\n",
       "    }\n",
       "</style>\n",
       "<table border=\"1\" class=\"dataframe\">\n",
       "  <thead>\n",
       "    <tr style=\"text-align: right;\">\n",
       "      <th></th>\n",
       "      <th>support</th>\n",
       "      <th>itemsets</th>\n",
       "      <th>tn</th>\n",
       "      <th>tp</th>\n",
       "      <th>fn</th>\n",
       "      <th>fp</th>\n",
       "      <th>d_fpr</th>\n",
       "      <th>fpr</th>\n",
       "      <th>t_value_fp</th>\n",
       "    </tr>\n",
       "  </thead>\n",
       "  <tbody>\n",
       "    <tr>\n",
       "      <th>11</th>\n",
       "      <td>0.425470</td>\n",
       "      <td>(sex=Male, race=African-American)</td>\n",
       "      <td>992.0</td>\n",
       "      <td>571.0</td>\n",
       "      <td>887.0</td>\n",
       "      <td>176.0</td>\n",
       "      <td>0.062371</td>\n",
       "      <td>0.150685</td>\n",
       "      <td>5.426049</td>\n",
       "    </tr>\n",
       "    <tr>\n",
       "      <th>144</th>\n",
       "      <td>0.103046</td>\n",
       "      <td>(priors_count=0, sex=Male, race=African-American)</td>\n",
       "      <td>360.0</td>\n",
       "      <td>53.0</td>\n",
       "      <td>184.0</td>\n",
       "      <td>39.0</td>\n",
       "      <td>0.009430</td>\n",
       "      <td>0.097744</td>\n",
       "      <td>0.711601</td>\n",
       "    </tr>\n",
       "  </tbody>\n",
       "</table>\n",
       "</div>"
      ],
      "text/plain": [
       "      support                                           itemsets     tn  \\\n",
       "11   0.425470                  (sex=Male, race=African-American)  992.0   \n",
       "144  0.103046  (priors_count=0, sex=Male, race=African-American)  360.0   \n",
       "\n",
       "        tp     fn     fp     d_fpr       fpr  t_value_fp  \n",
       "11   571.0  887.0  176.0  0.062371  0.150685    5.426049  \n",
       "144   53.0  184.0   39.0  0.009430  0.097744    0.711601  "
      ]
     },
     "metadata": {},
     "output_type": "display_data"
    },
    {
     "data": {
      "text/html": [
       "<div>\n",
       "<style scoped>\n",
       "    .dataframe tbody tr th:only-of-type {\n",
       "        vertical-align: middle;\n",
       "    }\n",
       "\n",
       "    .dataframe tbody tr th {\n",
       "        vertical-align: top;\n",
       "    }\n",
       "\n",
       "    .dataframe thead th {\n",
       "        text-align: right;\n",
       "    }\n",
       "</style>\n",
       "<table border=\"1\" class=\"dataframe\">\n",
       "  <thead>\n",
       "    <tr style=\"text-align: right;\">\n",
       "      <th></th>\n",
       "      <th>support</th>\n",
       "      <th>itemsets</th>\n",
       "      <th>tn</th>\n",
       "      <th>tp</th>\n",
       "      <th>fn</th>\n",
       "      <th>fp</th>\n",
       "      <th>d_fpr</th>\n",
       "      <th>fpr</th>\n",
       "      <th>t_value_fp</th>\n",
       "    </tr>\n",
       "  </thead>\n",
       "  <tbody>\n",
       "    <tr>\n",
       "      <th>7</th>\n",
       "      <td>0.514420</td>\n",
       "      <td>(race=African-American)</td>\n",
       "      <td>1303.0</td>\n",
       "      <td>634.0</td>\n",
       "      <td>1027.0</td>\n",
       "      <td>211.0</td>\n",
       "      <td>0.051052</td>\n",
       "      <td>0.139366</td>\n",
       "      <td>5.046409</td>\n",
       "    </tr>\n",
       "    <tr>\n",
       "      <th>100</th>\n",
       "      <td>0.137071</td>\n",
       "      <td>(priors_count=0, race=African-American)</td>\n",
       "      <td>509.0</td>\n",
       "      <td>61.0</td>\n",
       "      <td>227.0</td>\n",
       "      <td>49.0</td>\n",
       "      <td>-0.000500</td>\n",
       "      <td>0.087814</td>\n",
       "      <td>0.055937</td>\n",
       "    </tr>\n",
       "  </tbody>\n",
       "</table>\n",
       "</div>"
      ],
      "text/plain": [
       "      support                                 itemsets      tn     tp      fn  \\\n",
       "7    0.514420                  (race=African-American)  1303.0  634.0  1027.0   \n",
       "100  0.137071  (priors_count=0, race=African-American)   509.0   61.0   227.0   \n",
       "\n",
       "        fp     d_fpr       fpr  t_value_fp  \n",
       "7    211.0  0.051052  0.139366    5.046409  \n",
       "100   49.0 -0.000500  0.087814    0.055937  "
      ]
     },
     "metadata": {},
     "output_type": "display_data"
    },
    {
     "data": {
      "text/html": [
       "<div>\n",
       "<style scoped>\n",
       "    .dataframe tbody tr th:only-of-type {\n",
       "        vertical-align: middle;\n",
       "    }\n",
       "\n",
       "    .dataframe tbody tr th {\n",
       "        vertical-align: top;\n",
       "    }\n",
       "\n",
       "    .dataframe thead th {\n",
       "        text-align: right;\n",
       "    }\n",
       "</style>\n",
       "<table border=\"1\" class=\"dataframe\">\n",
       "  <thead>\n",
       "    <tr style=\"text-align: right;\">\n",
       "      <th></th>\n",
       "      <th>support</th>\n",
       "      <th>itemsets</th>\n",
       "      <th>tn</th>\n",
       "      <th>tp</th>\n",
       "      <th>fn</th>\n",
       "      <th>fp</th>\n",
       "      <th>d_fpr</th>\n",
       "      <th>fpr</th>\n",
       "      <th>t_value_fp</th>\n",
       "    </tr>\n",
       "  </thead>\n",
       "  <tbody>\n",
       "    <tr>\n",
       "      <th>23</th>\n",
       "      <td>0.303143</td>\n",
       "      <td>(length_of_stay=&lt;week, priors_count=0)</td>\n",
       "      <td>1309.0</td>\n",
       "      <td>67.0</td>\n",
       "      <td>434.0</td>\n",
       "      <td>61.0</td>\n",
       "      <td>-0.043788</td>\n",
       "      <td>0.044526</td>\n",
       "      <td>5.826463</td>\n",
       "    </tr>\n",
       "    <tr>\n",
       "      <th>121</th>\n",
       "      <td>0.122975</td>\n",
       "      <td>(length_of_stay=&lt;week, priors_count=0, race=African-American)</td>\n",
       "      <td>472.0</td>\n",
       "      <td>42.0</td>\n",
       "      <td>201.0</td>\n",
       "      <td>44.0</td>\n",
       "      <td>-0.003043</td>\n",
       "      <td>0.085271</td>\n",
       "      <td>0.126799</td>\n",
       "    </tr>\n",
       "  </tbody>\n",
       "</table>\n",
       "</div>"
      ],
      "text/plain": [
       "      support                                                       itemsets  \\\n",
       "23   0.303143                         (length_of_stay=<week, priors_count=0)   \n",
       "121  0.122975  (length_of_stay=<week, priors_count=0, race=African-American)   \n",
       "\n",
       "         tn    tp     fn    fp     d_fpr       fpr  t_value_fp  \n",
       "23   1309.0  67.0  434.0  61.0 -0.043788  0.044526    5.826463  \n",
       "121   472.0  42.0  201.0  44.0 -0.003043  0.085271    0.126799  "
      ]
     },
     "metadata": {},
     "output_type": "display_data"
    },
    {
     "data": {
      "text/html": [
       "<div>\n",
       "<style scoped>\n",
       "    .dataframe tbody tr th:only-of-type {\n",
       "        vertical-align: middle;\n",
       "    }\n",
       "\n",
       "    .dataframe tbody tr th {\n",
       "        vertical-align: top;\n",
       "    }\n",
       "\n",
       "    .dataframe thead th {\n",
       "        text-align: right;\n",
       "    }\n",
       "</style>\n",
       "<table border=\"1\" class=\"dataframe\">\n",
       "  <thead>\n",
       "    <tr style=\"text-align: right;\">\n",
       "      <th></th>\n",
       "      <th>support</th>\n",
       "      <th>itemsets</th>\n",
       "      <th>tn</th>\n",
       "      <th>tp</th>\n",
       "      <th>fn</th>\n",
       "      <th>fp</th>\n",
       "      <th>d_fpr</th>\n",
       "      <th>fpr</th>\n",
       "      <th>t_value_fp</th>\n",
       "    </tr>\n",
       "  </thead>\n",
       "  <tbody>\n",
       "    <tr>\n",
       "      <th>20</th>\n",
       "      <td>0.337816</td>\n",
       "      <td>(priors_count=0)</td>\n",
       "      <td>1416.0</td>\n",
       "      <td>99.0</td>\n",
       "      <td>498.0</td>\n",
       "      <td>72.0</td>\n",
       "      <td>-0.039927</td>\n",
       "      <td>0.048387</td>\n",
       "      <td>5.323913</td>\n",
       "    </tr>\n",
       "    <tr>\n",
       "      <th>100</th>\n",
       "      <td>0.137071</td>\n",
       "      <td>(priors_count=0, race=African-American)</td>\n",
       "      <td>509.0</td>\n",
       "      <td>61.0</td>\n",
       "      <td>227.0</td>\n",
       "      <td>49.0</td>\n",
       "      <td>-0.000500</td>\n",
       "      <td>0.087814</td>\n",
       "      <td>0.055937</td>\n",
       "    </tr>\n",
       "  </tbody>\n",
       "</table>\n",
       "</div>"
      ],
      "text/plain": [
       "      support                                 itemsets      tn    tp     fn  \\\n",
       "20   0.337816                         (priors_count=0)  1416.0  99.0  498.0   \n",
       "100  0.137071  (priors_count=0, race=African-American)   509.0  61.0  227.0   \n",
       "\n",
       "       fp     d_fpr       fpr  t_value_fp  \n",
       "20   72.0 -0.039927  0.048387    5.323913  \n",
       "100  49.0 -0.000500  0.087814    0.055937  "
      ]
     },
     "metadata": {},
     "output_type": "display_data"
    }
   ],
   "source": [
    "d=fp_divergence_ofI.getCorrectiveItems()\n",
    "itemsetsOfI=d[[\"S\", \"S+i\"]].head(4).values\n",
    "for S,S_i in itemsetsOfI:\n",
    "    display(fp_divergence_ofI.getInfoItemsets([S,S_i])[INFOS])"
   ]
  },
  {
   "cell_type": "markdown",
   "metadata": {},
   "source": [
    "#### Plot Shapley comparison corrective"
   ]
  },
  {
   "cell_type": "code",
   "execution_count": 30,
   "metadata": {
    "ExecuteTime": {
     "end_time": "2021-03-06T17:09:07.104568Z",
     "start_time": "2021-03-06T17:09:07.101677Z"
    }
   },
   "outputs": [],
   "source": [
    "from divexplorer.shapley_value_FPx import plotComparisonShapleyValues, compareShapleyValues, normalizeMax"
   ]
  },
  {
   "cell_type": "code",
   "execution_count": 31,
   "metadata": {
    "ExecuteTime": {
     "end_time": "2021-03-06T17:09:07.664150Z",
     "start_time": "2021-03-06T17:09:07.106338Z"
    }
   },
   "outputs": [
    {
     "data": {
      "text/html": [
       "<div>\n",
       "<style scoped>\n",
       "    .dataframe tbody tr th:only-of-type {\n",
       "        vertical-align: middle;\n",
       "    }\n",
       "\n",
       "    .dataframe tbody tr th {\n",
       "        vertical-align: top;\n",
       "    }\n",
       "\n",
       "    .dataframe thead th {\n",
       "        text-align: right;\n",
       "    }\n",
       "</style>\n",
       "<table border=\"1\" class=\"dataframe\">\n",
       "  <thead>\n",
       "    <tr style=\"text-align: right;\">\n",
       "      <th></th>\n",
       "      <th>support</th>\n",
       "      <th>itemsets</th>\n",
       "      <th>tn</th>\n",
       "      <th>tp</th>\n",
       "      <th>fn</th>\n",
       "      <th>fp</th>\n",
       "      <th>d_fpr</th>\n",
       "      <th>fpr</th>\n",
       "      <th>t_value_fp</th>\n",
       "    </tr>\n",
       "  </thead>\n",
       "  <tbody>\n",
       "    <tr>\n",
       "      <th>11</th>\n",
       "      <td>0.425470</td>\n",
       "      <td>(sex=Male, race=African-American)</td>\n",
       "      <td>992.0</td>\n",
       "      <td>571.0</td>\n",
       "      <td>887.0</td>\n",
       "      <td>176.0</td>\n",
       "      <td>0.062371</td>\n",
       "      <td>0.150685</td>\n",
       "      <td>5.426049</td>\n",
       "    </tr>\n",
       "    <tr>\n",
       "      <th>144</th>\n",
       "      <td>0.103046</td>\n",
       "      <td>(priors_count=0, sex=Male, race=African-American)</td>\n",
       "      <td>360.0</td>\n",
       "      <td>53.0</td>\n",
       "      <td>184.0</td>\n",
       "      <td>39.0</td>\n",
       "      <td>0.009430</td>\n",
       "      <td>0.097744</td>\n",
       "      <td>0.711601</td>\n",
       "    </tr>\n",
       "  </tbody>\n",
       "</table>\n",
       "</div>"
      ],
      "text/plain": [
       "      support                                           itemsets     tn  \\\n",
       "11   0.425470                  (sex=Male, race=African-American)  992.0   \n",
       "144  0.103046  (priors_count=0, sex=Male, race=African-American)  360.0   \n",
       "\n",
       "        tp     fn     fp     d_fpr       fpr  t_value_fp  \n",
       "11   571.0  887.0  176.0  0.062371  0.150685    5.426049  \n",
       "144   53.0  184.0   39.0  0.009430  0.097744    0.711601  "
      ]
     },
     "metadata": {},
     "output_type": "display_data"
    },
    {
     "name": "stdout",
     "output_type": "stream",
     "text": [
      "∇FPR(S):0.062 -->  ∇FPR(S U i):0.009\n"
     ]
    },
    {
     "data": {
      "image/png": "[encoded data removed]",
      "text/plain": [
       "<Figure size 520x190 with 2 Axes>"
      ]
     },
     "metadata": {
      "needs_background": "light"
     },
     "output_type": "display_data"
    }
   ],
   "source": [
    "id_col=0\n",
    "fp_divergence_ofI=fp_divergence_ofI\n",
    "corrSign=fp_divergence_ofI.getCorrectiveItems()\n",
    "\n",
    "if len(corrSign)>id_col:\n",
    "    outputName=f\"{outDirShap}/{dataset_name}_shap_corrective_{fp_divergence_ofI.metric_name}_{min_sup}\"\n",
    "    S,S_i, v_S, v_Si=corrSign[[\"S\", \"S+i\", \"v_S\", \"v_S+i\"]].head(id_col+1).values[id_col].tolist()\n",
    "    display(fp_divergence_ofI.getInfoItemsets([S,S_i])[INFOS])\n",
    "    shap_itemset1=abbreviateDict(fp_divergence_ofI.computeShapleyValue(S), abbreviations)\n",
    "    shap_itemset2=abbreviateDict(fp_divergence_ofI.computeShapleyValue(S_i), abbreviations)\n",
    "    id1, id2=\"$_a$\", \"$_b$\" \n",
    "    t1, t2=f\"$∇_{{{fp_divergence_ofI.metric_name}}}$(α|I{id1})\", f\"$∇_{{{fp_divergence_ofI.metric_name}}}$(α|I{id2})\"\n",
    "    print(f\"∇{fp_divergence_ofI.metric_name}(S):{round(v_S,3)} -->  ∇{fp_divergence_ofI.metric_name}(S U i):{round(v_Si,3)}\")\n",
    "\n",
    "    plotComparisonShapleyValues(shap_itemset1, shap_itemset2, height=[0.3, 0.4], sharedAxis=True, \\\n",
    "                        sizeFig=(5.2, 1.9), title=[t1,t2], saveFig=saveFig, nameFig=outputName, pad=1.5,\\\n",
    "                               metrics_name=[fp_divergence_ofI.metric_name, fp_divergence_ofI.metric_name])"
   ]
  },
  {
   "cell_type": "markdown",
   "metadata": {},
   "source": [
    "#### Lattice"
   ]
  },
  {
   "cell_type": "code",
   "execution_count": 32,
   "metadata": {
    "ExecuteTime": {
     "end_time": "2021-03-06T17:09:07.829947Z",
     "start_time": "2021-03-06T17:09:07.665706Z"
    }
   },
   "outputs": [
    {
     "name": "stdout",
     "output_type": "stream",
     "text": [
      "frozenset({'priors_count=0', 'sex=Male', 'race=African-American'})\n"
     ]
    }
   ],
   "source": [
    "id_col=0\n",
    "fp_divergence_ofI=fp_divergence_ofI\n",
    "corrSign=fp_divergence_ofI.getCorrectiveItems()\n",
    "if len(corrSign)>id_col:\n",
    "    S_i=corrSign[[\"S+i\"]].head(id_col+1).values[id_col][0]\n",
    "    print(S_i)\n",
    "    fig1=fp_divergence_ofI.plotLatticeItemset(S_i, Th_divergence=0.15, sizeDot=\"small\", getLower=True)\n",
    "    if saveFig:\n",
    "        fig1.write_image(f\"{outDirLattice}/lattice_corrective_{dataset_name}_{fp_divergence_ofI.metric_name}_{min_sup}.pdf\")"
   ]
  },
  {
   "cell_type": "code",
   "execution_count": 33,
   "metadata": {
    "ExecuteTime": {
     "end_time": "2021-03-06T17:09:07.833458Z",
     "start_time": "2021-03-06T17:09:07.831373Z"
    },
    "scrolled": false
   },
   "outputs": [],
   "source": [
    "#selectItemsInteractive(fp_divergence_ofI)"
   ]
  },
  {
   "cell_type": "markdown",
   "metadata": {},
   "source": [
    "## False negative rate"
   ]
  },
  {
   "cell_type": "code",
   "execution_count": 34,
   "metadata": {
    "ExecuteTime": {
     "end_time": "2021-03-06T17:09:09.391157Z",
     "start_time": "2021-03-06T17:09:09.386646Z"
    }
   },
   "outputs": [],
   "source": [
    "fp_divergence_ofI=FP_Divergence(FP_fm, \"d_fnr\")"
   ]
  },
  {
   "cell_type": "code",
   "execution_count": 35,
   "metadata": {
    "ExecuteTime": {
     "end_time": "2021-03-06T17:09:09.396047Z",
     "start_time": "2021-03-06T17:09:09.392881Z"
    }
   },
   "outputs": [],
   "source": [
    "INFOS=ITEMSETS+[fp_divergence_ofI.metric, fp_divergence_ofI.metric_name.lower(), fp_divergence_ofI.t_value_col]"
   ]
  },
  {
   "cell_type": "code",
   "execution_count": 36,
   "metadata": {
    "ExecuteTime": {
     "end_time": "2021-03-06T17:09:09.409181Z",
     "start_time": "2021-03-06T17:09:09.397510Z"
    },
    "scrolled": true
   },
   "outputs": [
    {
     "data": {
      "text/html": [
       "<div>\n",
       "<style scoped>\n",
       "    .dataframe tbody tr th:only-of-type {\n",
       "        vertical-align: middle;\n",
       "    }\n",
       "\n",
       "    .dataframe tbody tr th {\n",
       "        vertical-align: top;\n",
       "    }\n",
       "\n",
       "    .dataframe thead th {\n",
       "        text-align: right;\n",
       "    }\n",
       "</style>\n",
       "<table border=\"1\" class=\"dataframe\">\n",
       "  <thead>\n",
       "    <tr style=\"text-align: right;\">\n",
       "      <th></th>\n",
       "      <th>support</th>\n",
       "      <th>itemsets</th>\n",
       "      <th>tn</th>\n",
       "      <th>tp</th>\n",
       "      <th>fn</th>\n",
       "      <th>fp</th>\n",
       "      <th>d_fnr</th>\n",
       "      <th>fnr</th>\n",
       "      <th>t_value_fn</th>\n",
       "    </tr>\n",
       "  </thead>\n",
       "  <tbody>\n",
       "    <tr>\n",
       "      <th>0</th>\n",
       "      <td>1.0</td>\n",
       "      <td>()</td>\n",
       "      <td>3066.0</td>\n",
       "      <td>847.0</td>\n",
       "      <td>1962.0</td>\n",
       "      <td>297.0</td>\n",
       "      <td>0.0</td>\n",
       "      <td>0.698469</td>\n",
       "      <td>0.0</td>\n",
       "    </tr>\n",
       "  </tbody>\n",
       "</table>\n",
       "</div>"
      ],
      "text/plain": [
       "   support itemsets      tn     tp      fn     fp  d_fnr       fnr  t_value_fn\n",
       "0      1.0       ()  3066.0  847.0  1962.0  297.0    0.0  0.698469         0.0"
      ]
     },
     "execution_count": 36,
     "metadata": {},
     "output_type": "execute_result"
    }
   ],
   "source": [
    "fp_divergence_ofI.getInfoItemset(frozenset())[INFOS]"
   ]
  },
  {
   "cell_type": "markdown",
   "metadata": {},
   "source": [
    "### Top K"
   ]
  },
  {
   "cell_type": "code",
   "execution_count": 37,
   "metadata": {
    "ExecuteTime": {
     "end_time": "2021-03-06T17:09:09.453577Z",
     "start_time": "2021-03-06T17:09:09.410476Z"
    }
   },
   "outputs": [
    {
     "data": {
      "text/html": [
       "<div>\n",
       "<style scoped>\n",
       "    .dataframe tbody tr th:only-of-type {\n",
       "        vertical-align: middle;\n",
       "    }\n",
       "\n",
       "    .dataframe tbody tr th {\n",
       "        vertical-align: top;\n",
       "    }\n",
       "\n",
       "    .dataframe thead th {\n",
       "        text-align: right;\n",
       "    }\n",
       "</style>\n",
       "<table border=\"1\" class=\"dataframe\">\n",
       "  <thead>\n",
       "    <tr style=\"text-align: right;\">\n",
       "      <th></th>\n",
       "      <th>support</th>\n",
       "      <th>itemsets</th>\n",
       "      <th>tn</th>\n",
       "      <th>tp</th>\n",
       "      <th>fn</th>\n",
       "      <th>fp</th>\n",
       "      <th>d_fnr</th>\n",
       "      <th>fnr</th>\n",
       "      <th>t_value_fn</th>\n",
       "    </tr>\n",
       "  </thead>\n",
       "  <tbody>\n",
       "    <tr>\n",
       "      <th>88</th>\n",
       "      <td>0.148250</td>\n",
       "      <td>(age_cat=25 - 45, length_of_stay=&lt;week, priors_count=0)</td>\n",
       "      <td>675.0</td>\n",
       "      <td>14.0</td>\n",
       "      <td>201.0</td>\n",
       "      <td>25.0</td>\n",
       "      <td>0.236415</td>\n",
       "      <td>0.934884</td>\n",
       "      <td>12.088217</td>\n",
       "    </tr>\n",
       "    <tr>\n",
       "      <th>146</th>\n",
       "      <td>0.102398</td>\n",
       "      <td>(length_of_stay=&lt;week, c_charge_degree=M, priors_count=[1,3])</td>\n",
       "      <td>380.0</td>\n",
       "      <td>16.0</td>\n",
       "      <td>219.0</td>\n",
       "      <td>17.0</td>\n",
       "      <td>0.233446</td>\n",
       "      <td>0.931915</td>\n",
       "      <td>12.209479</td>\n",
       "    </tr>\n",
       "    <tr>\n",
       "      <th>147</th>\n",
       "      <td>0.101750</td>\n",
       "      <td>(race=Caucasian, age_cat=Greater than 45)</td>\n",
       "      <td>452.0</td>\n",
       "      <td>12.0</td>\n",
       "      <td>158.0</td>\n",
       "      <td>6.0</td>\n",
       "      <td>0.230943</td>\n",
       "      <td>0.929412</td>\n",
       "      <td>10.332685</td>\n",
       "    </tr>\n",
       "    <tr>\n",
       "      <th>142</th>\n",
       "      <td>0.107097</td>\n",
       "      <td>(age_cat=25 - 45, length_of_stay=&lt;week, priors_count=0, sex=Male)</td>\n",
       "      <td>479.0</td>\n",
       "      <td>12.0</td>\n",
       "      <td>152.0</td>\n",
       "      <td>18.0</td>\n",
       "      <td>0.228360</td>\n",
       "      <td>0.926829</td>\n",
       "      <td>9.918399</td>\n",
       "    </tr>\n",
       "    <tr>\n",
       "      <th>128</th>\n",
       "      <td>0.119086</td>\n",
       "      <td>(length_of_stay=&lt;week, race=Caucasian, c_charge_degree=M)</td>\n",
       "      <td>504.0</td>\n",
       "      <td>16.0</td>\n",
       "      <td>201.0</td>\n",
       "      <td>14.0</td>\n",
       "      <td>0.227798</td>\n",
       "      <td>0.926267</td>\n",
       "      <td>11.197136</td>\n",
       "    </tr>\n",
       "    <tr>\n",
       "      <th>116</th>\n",
       "      <td>0.127025</td>\n",
       "      <td>(length_of_stay=&lt;week, age_cat=Greater than 45, sex=Male)</td>\n",
       "      <td>549.0</td>\n",
       "      <td>19.0</td>\n",
       "      <td>202.0</td>\n",
       "      <td>14.0</td>\n",
       "      <td>0.215558</td>\n",
       "      <td>0.914027</td>\n",
       "      <td>10.113018</td>\n",
       "    </tr>\n",
       "    <tr>\n",
       "      <th>76</th>\n",
       "      <td>0.158782</td>\n",
       "      <td>(length_of_stay=&lt;week, age_cat=Greater than 45)</td>\n",
       "      <td>706.0</td>\n",
       "      <td>23.0</td>\n",
       "      <td>237.0</td>\n",
       "      <td>14.0</td>\n",
       "      <td>0.213069</td>\n",
       "      <td>0.911538</td>\n",
       "      <td>10.619408</td>\n",
       "    </tr>\n",
       "    <tr>\n",
       "      <th>90</th>\n",
       "      <td>0.146630</td>\n",
       "      <td>(length_of_stay=&lt;week, priors_count=0, c_charge_degree=M)</td>\n",
       "      <td>675.0</td>\n",
       "      <td>19.0</td>\n",
       "      <td>189.0</td>\n",
       "      <td>22.0</td>\n",
       "      <td>0.210185</td>\n",
       "      <td>0.908654</td>\n",
       "      <td>9.390201</td>\n",
       "    </tr>\n",
       "    <tr>\n",
       "      <th>124</th>\n",
       "      <td>0.122165</td>\n",
       "      <td>(age_cat=25 - 45, length_of_stay=&lt;week, sex=Male, priors_count=[1,3])</td>\n",
       "      <td>433.0</td>\n",
       "      <td>28.0</td>\n",
       "      <td>271.0</td>\n",
       "      <td>22.0</td>\n",
       "      <td>0.207885</td>\n",
       "      <td>0.906355</td>\n",
       "      <td>10.773803</td>\n",
       "    </tr>\n",
       "    <tr>\n",
       "      <th>152</th>\n",
       "      <td>0.101102</td>\n",
       "      <td>(length_of_stay=&lt;week, priors_count=0, sex=Male, c_charge_degree=M)</td>\n",
       "      <td>451.0</td>\n",
       "      <td>15.0</td>\n",
       "      <td>144.0</td>\n",
       "      <td>14.0</td>\n",
       "      <td>0.207191</td>\n",
       "      <td>0.905660</td>\n",
       "      <td>8.076216</td>\n",
       "    </tr>\n",
       "  </tbody>\n",
       "</table>\n",
       "</div>"
      ],
      "text/plain": [
       "      support  \\\n",
       "88   0.148250   \n",
       "146  0.102398   \n",
       "147  0.101750   \n",
       "142  0.107097   \n",
       "128  0.119086   \n",
       "116  0.127025   \n",
       "76   0.158782   \n",
       "90   0.146630   \n",
       "124  0.122165   \n",
       "152  0.101102   \n",
       "\n",
       "                                                                  itemsets  \\\n",
       "88                 (age_cat=25 - 45, length_of_stay=<week, priors_count=0)   \n",
       "146          (length_of_stay=<week, c_charge_degree=M, priors_count=[1,3])   \n",
       "147                              (race=Caucasian, age_cat=Greater than 45)   \n",
       "142      (age_cat=25 - 45, length_of_stay=<week, priors_count=0, sex=Male)   \n",
       "128              (length_of_stay=<week, race=Caucasian, c_charge_degree=M)   \n",
       "116              (length_of_stay=<week, age_cat=Greater than 45, sex=Male)   \n",
       "76                         (length_of_stay=<week, age_cat=Greater than 45)   \n",
       "90               (length_of_stay=<week, priors_count=0, c_charge_degree=M)   \n",
       "124  (age_cat=25 - 45, length_of_stay=<week, sex=Male, priors_count=[1,3])   \n",
       "152    (length_of_stay=<week, priors_count=0, sex=Male, c_charge_degree=M)   \n",
       "\n",
       "        tn    tp     fn    fp     d_fnr       fnr  t_value_fn  \n",
       "88   675.0  14.0  201.0  25.0  0.236415  0.934884   12.088217  \n",
       "146  380.0  16.0  219.0  17.0  0.233446  0.931915   12.209479  \n",
       "147  452.0  12.0  158.0   6.0  0.230943  0.929412   10.332685  \n",
       "142  479.0  12.0  152.0  18.0  0.228360  0.926829    9.918399  \n",
       "128  504.0  16.0  201.0  14.0  0.227798  0.926267   11.197136  \n",
       "116  549.0  19.0  202.0  14.0  0.215558  0.914027   10.113018  \n",
       "76   706.0  23.0  237.0  14.0  0.213069  0.911538   10.619408  \n",
       "90   675.0  19.0  189.0  22.0  0.210185  0.908654    9.390201  \n",
       "124  433.0  28.0  271.0  22.0  0.207885  0.906355   10.773803  \n",
       "152  451.0  15.0  144.0  14.0  0.207191  0.905660    8.076216  "
      ]
     },
     "execution_count": 37,
     "metadata": {},
     "output_type": "execute_result"
    }
   ],
   "source": [
    "fp_divergence_ofI.getDivergence(th_redundancy=0)[INFOS].head(10)"
   ]
  },
  {
   "cell_type": "markdown",
   "metadata": {},
   "source": [
    "Top FPR - Only divergence info"
   ]
  },
  {
   "cell_type": "code",
   "execution_count": 38,
   "metadata": {
    "ExecuteTime": {
     "end_time": "2021-03-06T17:09:09.474816Z",
     "start_time": "2021-03-06T17:09:09.454984Z"
    }
   },
   "outputs": [
    {
     "data": {
      "text/html": [
       "<div>\n",
       "<style scoped>\n",
       "    .dataframe tbody tr th:only-of-type {\n",
       "        vertical-align: middle;\n",
       "    }\n",
       "\n",
       "    .dataframe tbody tr th {\n",
       "        vertical-align: top;\n",
       "    }\n",
       "\n",
       "    .dataframe thead th {\n",
       "        text-align: right;\n",
       "    }\n",
       "</style>\n",
       "<table border=\"1\" class=\"dataframe\">\n",
       "  <thead>\n",
       "    <tr style=\"text-align: right;\">\n",
       "      <th></th>\n",
       "      <th>support</th>\n",
       "      <th>itemsets</th>\n",
       "      <th>d_fnr</th>\n",
       "      <th>t_value_fn</th>\n",
       "    </tr>\n",
       "  </thead>\n",
       "  <tbody>\n",
       "    <tr>\n",
       "      <th>88</th>\n",
       "      <td>0.148250</td>\n",
       "      <td>(age_cat=25 - 45, length_of_stay=&lt;week, priors_count=0)</td>\n",
       "      <td>0.236415</td>\n",
       "      <td>12.088217</td>\n",
       "    </tr>\n",
       "    <tr>\n",
       "      <th>146</th>\n",
       "      <td>0.102398</td>\n",
       "      <td>(length_of_stay=&lt;week, c_charge_degree=M, priors_count=[1,3])</td>\n",
       "      <td>0.233446</td>\n",
       "      <td>12.209479</td>\n",
       "    </tr>\n",
       "    <tr>\n",
       "      <th>147</th>\n",
       "      <td>0.101750</td>\n",
       "      <td>(race=Caucasian, age_cat=Greater than 45)</td>\n",
       "      <td>0.230943</td>\n",
       "      <td>10.332685</td>\n",
       "    </tr>\n",
       "    <tr>\n",
       "      <th>142</th>\n",
       "      <td>0.107097</td>\n",
       "      <td>(age_cat=25 - 45, length_of_stay=&lt;week, priors_count=0, sex=Male)</td>\n",
       "      <td>0.228360</td>\n",
       "      <td>9.918399</td>\n",
       "    </tr>\n",
       "    <tr>\n",
       "      <th>128</th>\n",
       "      <td>0.119086</td>\n",
       "      <td>(length_of_stay=&lt;week, race=Caucasian, c_charge_degree=M)</td>\n",
       "      <td>0.227798</td>\n",
       "      <td>11.197136</td>\n",
       "    </tr>\n",
       "  </tbody>\n",
       "</table>\n",
       "</div>"
      ],
      "text/plain": [
       "      support  \\\n",
       "88   0.148250   \n",
       "146  0.102398   \n",
       "147  0.101750   \n",
       "142  0.107097   \n",
       "128  0.119086   \n",
       "\n",
       "                                                              itemsets  \\\n",
       "88             (age_cat=25 - 45, length_of_stay=<week, priors_count=0)   \n",
       "146      (length_of_stay=<week, c_charge_degree=M, priors_count=[1,3])   \n",
       "147                          (race=Caucasian, age_cat=Greater than 45)   \n",
       "142  (age_cat=25 - 45, length_of_stay=<week, priors_count=0, sex=Male)   \n",
       "128          (length_of_stay=<week, race=Caucasian, c_charge_degree=M)   \n",
       "\n",
       "        d_fnr  t_value_fn  \n",
       "88   0.236415   12.088217  \n",
       "146  0.233446   12.209479  \n",
       "147  0.230943   10.332685  \n",
       "142  0.228360    9.918399  \n",
       "128  0.227798   11.197136  "
      ]
     },
     "execution_count": 38,
     "metadata": {},
     "output_type": "execute_result"
    }
   ],
   "source": [
    "fp_divergence_ofI.getDivergence(th_redundancy=0)[[\"support\", \"itemsets\",  fp_divergence_ofI.metric, fp_divergence_ofI.t_value_col]].head(5)"
   ]
  },
  {
   "cell_type": "markdown",
   "metadata": {},
   "source": [
    "Threshold on redundancy"
   ]
  },
  {
   "cell_type": "code",
   "execution_count": 39,
   "metadata": {
    "ExecuteTime": {
     "end_time": "2021-03-06T17:09:09.497383Z",
     "start_time": "2021-03-06T17:09:09.476413Z"
    }
   },
   "outputs": [
    {
     "data": {
      "text/html": [
       "<div>\n",
       "<style scoped>\n",
       "    .dataframe tbody tr th:only-of-type {\n",
       "        vertical-align: middle;\n",
       "    }\n",
       "\n",
       "    .dataframe tbody tr th {\n",
       "        vertical-align: top;\n",
       "    }\n",
       "\n",
       "    .dataframe thead th {\n",
       "        text-align: right;\n",
       "    }\n",
       "</style>\n",
       "<table border=\"1\" class=\"dataframe\">\n",
       "  <thead>\n",
       "    <tr style=\"text-align: right;\">\n",
       "      <th></th>\n",
       "      <th>support</th>\n",
       "      <th>itemsets</th>\n",
       "      <th>d_fnr</th>\n",
       "      <th>t_value_fn</th>\n",
       "    </tr>\n",
       "  </thead>\n",
       "  <tbody>\n",
       "    <tr>\n",
       "      <th>88</th>\n",
       "      <td>0.148250</td>\n",
       "      <td>(age_cat=25 - 45, length_of_stay=&lt;week, priors_count=0)</td>\n",
       "      <td>0.236415</td>\n",
       "      <td>12.088217</td>\n",
       "    </tr>\n",
       "    <tr>\n",
       "      <th>146</th>\n",
       "      <td>0.102398</td>\n",
       "      <td>(length_of_stay=&lt;week, c_charge_degree=M, priors_count=[1,3])</td>\n",
       "      <td>0.233446</td>\n",
       "      <td>12.209479</td>\n",
       "    </tr>\n",
       "    <tr>\n",
       "      <th>147</th>\n",
       "      <td>0.101750</td>\n",
       "      <td>(race=Caucasian, age_cat=Greater than 45)</td>\n",
       "      <td>0.230943</td>\n",
       "      <td>10.332685</td>\n",
       "    </tr>\n",
       "    <tr>\n",
       "      <th>142</th>\n",
       "      <td>0.107097</td>\n",
       "      <td>(age_cat=25 - 45, length_of_stay=&lt;week, priors_count=0, sex=Male)</td>\n",
       "      <td>0.228360</td>\n",
       "      <td>9.918399</td>\n",
       "    </tr>\n",
       "    <tr>\n",
       "      <th>128</th>\n",
       "      <td>0.119086</td>\n",
       "      <td>(length_of_stay=&lt;week, race=Caucasian, c_charge_degree=M)</td>\n",
       "      <td>0.227798</td>\n",
       "      <td>11.197136</td>\n",
       "    </tr>\n",
       "  </tbody>\n",
       "</table>\n",
       "</div>"
      ],
      "text/plain": [
       "      support  \\\n",
       "88   0.148250   \n",
       "146  0.102398   \n",
       "147  0.101750   \n",
       "142  0.107097   \n",
       "128  0.119086   \n",
       "\n",
       "                                                              itemsets  \\\n",
       "88             (age_cat=25 - 45, length_of_stay=<week, priors_count=0)   \n",
       "146      (length_of_stay=<week, c_charge_degree=M, priors_count=[1,3])   \n",
       "147                          (race=Caucasian, age_cat=Greater than 45)   \n",
       "142  (age_cat=25 - 45, length_of_stay=<week, priors_count=0, sex=Male)   \n",
       "128          (length_of_stay=<week, race=Caucasian, c_charge_degree=M)   \n",
       "\n",
       "        d_fnr  t_value_fn  \n",
       "88   0.236415   12.088217  \n",
       "146  0.233446   12.209479  \n",
       "147  0.230943   10.332685  \n",
       "142  0.228360    9.918399  \n",
       "128  0.227798   11.197136  "
      ]
     },
     "execution_count": 39,
     "metadata": {},
     "output_type": "execute_result"
    }
   ],
   "source": [
    "fp_divergence_ofI.getDivergence(th_redundancy=0)[[\"support\", \"itemsets\",  fp_divergence_ofI.metric, fp_divergence_ofI.t_value_col]].head(5)"
   ]
  },
  {
   "cell_type": "markdown",
   "metadata": {},
   "source": [
    "Printable - threshold on redundancy"
   ]
  },
  {
   "cell_type": "code",
   "execution_count": 40,
   "metadata": {
    "ExecuteTime": {
     "end_time": "2021-03-06T17:09:09.517530Z",
     "start_time": "2021-03-06T17:09:09.499107Z"
    }
   },
   "outputs": [
    {
     "name": "stdout",
     "output_type": "stream",
     "text": [
      "compas - #FP: 108 - FNR - th_redundancy: 0.01\n"
     ]
    },
    {
     "data": {
      "text/html": [
       "<div>\n",
       "<style scoped>\n",
       "    .dataframe tbody tr th:only-of-type {\n",
       "        vertical-align: middle;\n",
       "    }\n",
       "\n",
       "    .dataframe tbody tr th {\n",
       "        vertical-align: top;\n",
       "    }\n",
       "\n",
       "    .dataframe thead th {\n",
       "        text-align: right;\n",
       "    }\n",
       "</style>\n",
       "<table border=\"1\" class=\"dataframe\">\n",
       "  <thead>\n",
       "    <tr style=\"text-align: right;\">\n",
       "      <th></th>\n",
       "      <th>support</th>\n",
       "      <th>itemsets</th>\n",
       "      <th>d_fnr</th>\n",
       "      <th>t_value_fn</th>\n",
       "    </tr>\n",
       "  </thead>\n",
       "  <tbody>\n",
       "    <tr>\n",
       "      <th>88</th>\n",
       "      <td>0.148250</td>\n",
       "      <td>(age_cat=25 - 45, length_of_stay=&lt;week, priors_count=0)</td>\n",
       "      <td>0.236415</td>\n",
       "      <td>12.088217</td>\n",
       "    </tr>\n",
       "    <tr>\n",
       "      <th>146</th>\n",
       "      <td>0.102398</td>\n",
       "      <td>(length_of_stay=&lt;week, c_charge_degree=M, priors_count=[1,3])</td>\n",
       "      <td>0.233446</td>\n",
       "      <td>12.209479</td>\n",
       "    </tr>\n",
       "    <tr>\n",
       "      <th>147</th>\n",
       "      <td>0.101750</td>\n",
       "      <td>(race=Caucasian, age_cat=Greater than 45)</td>\n",
       "      <td>0.230943</td>\n",
       "      <td>10.332685</td>\n",
       "    </tr>\n",
       "    <tr>\n",
       "      <th>128</th>\n",
       "      <td>0.119086</td>\n",
       "      <td>(length_of_stay=&lt;week, race=Caucasian, c_charge_degree=M)</td>\n",
       "      <td>0.227798</td>\n",
       "      <td>11.197136</td>\n",
       "    </tr>\n",
       "    <tr>\n",
       "      <th>76</th>\n",
       "      <td>0.158782</td>\n",
       "      <td>(length_of_stay=&lt;week, age_cat=Greater than 45)</td>\n",
       "      <td>0.213069</td>\n",
       "      <td>10.619408</td>\n",
       "    </tr>\n",
       "  </tbody>\n",
       "</table>\n",
       "</div>"
      ],
      "text/plain": [
       "      support                                                       itemsets  \\\n",
       "88   0.148250        (age_cat=25 - 45, length_of_stay=<week, priors_count=0)   \n",
       "146  0.102398  (length_of_stay=<week, c_charge_degree=M, priors_count=[1,3])   \n",
       "147  0.101750                      (race=Caucasian, age_cat=Greater than 45)   \n",
       "128  0.119086      (length_of_stay=<week, race=Caucasian, c_charge_degree=M)   \n",
       "76   0.158782                (length_of_stay=<week, age_cat=Greater than 45)   \n",
       "\n",
       "        d_fnr  t_value_fn  \n",
       "88   0.236415   12.088217  \n",
       "146  0.233446   12.209479  \n",
       "147  0.230943   10.332685  \n",
       "128  0.227798   11.197136  \n",
       "76   0.213069   10.619408  "
      ]
     },
     "metadata": {},
     "output_type": "display_data"
    }
   ],
   "source": [
    "th_redundancy=0.01\n",
    "div_ofI=fp_divergence_ofI.getDivergence(th_redundancy=th_redundancy)[[\"support\", \"itemsets\",  fp_divergence_ofI.metric, fp_divergence_ofI.t_value_col]]\n",
    "print(f\"{dataset_name} - #FP: {len(div_ofI)-1} - {fp_divergence_ofI.metric_name} - th_redundancy: {th_redundancy}\")\n",
    "display(div_ofI.head(5))"
   ]
  },
  {
   "cell_type": "code",
   "execution_count": 41,
   "metadata": {
    "ExecuteTime": {
     "end_time": "2021-03-06T17:09:09.532471Z",
     "start_time": "2021-03-06T17:09:09.518888Z"
    }
   },
   "outputs": [
    {
     "data": {
      "text/html": [
       "<div>\n",
       "<style scoped>\n",
       "    .dataframe tbody tr th:only-of-type {\n",
       "        vertical-align: middle;\n",
       "    }\n",
       "\n",
       "    .dataframe tbody tr th {\n",
       "        vertical-align: top;\n",
       "    }\n",
       "\n",
       "    .dataframe thead th {\n",
       "        text-align: right;\n",
       "    }\n",
       "</style>\n",
       "<table border=\"1\" class=\"dataframe\">\n",
       "  <thead>\n",
       "    <tr style=\"text-align: right;\">\n",
       "      <th></th>\n",
       "      <th>itemsets</th>\n",
       "      <th>d_fnr</th>\n",
       "    </tr>\n",
       "  </thead>\n",
       "  <tbody>\n",
       "    <tr>\n",
       "      <th>88</th>\n",
       "      <td>(age_cat=25 - 45, length_of_stay=&lt;week, priors_count=0)</td>\n",
       "      <td>0.236415</td>\n",
       "    </tr>\n",
       "    <tr>\n",
       "      <th>146</th>\n",
       "      <td>(length_of_stay=&lt;week, c_charge_degree=M, priors_count=[1,3])</td>\n",
       "      <td>0.233446</td>\n",
       "    </tr>\n",
       "    <tr>\n",
       "      <th>147</th>\n",
       "      <td>(race=Caucasian, age_cat=Greater than 45)</td>\n",
       "      <td>0.230943</td>\n",
       "    </tr>\n",
       "    <tr>\n",
       "      <th>142</th>\n",
       "      <td>(age_cat=25 - 45, length_of_stay=&lt;week, priors_count=0, sex=Male)</td>\n",
       "      <td>0.228360</td>\n",
       "    </tr>\n",
       "    <tr>\n",
       "      <th>128</th>\n",
       "      <td>(length_of_stay=&lt;week, race=Caucasian, c_charge_degree=M)</td>\n",
       "      <td>0.227798</td>\n",
       "    </tr>\n",
       "    <tr>\n",
       "      <th>116</th>\n",
       "      <td>(length_of_stay=&lt;week, age_cat=Greater than 45, sex=Male)</td>\n",
       "      <td>0.215558</td>\n",
       "    </tr>\n",
       "    <tr>\n",
       "      <th>76</th>\n",
       "      <td>(length_of_stay=&lt;week, age_cat=Greater than 45)</td>\n",
       "      <td>0.213069</td>\n",
       "    </tr>\n",
       "    <tr>\n",
       "      <th>90</th>\n",
       "      <td>(length_of_stay=&lt;week, priors_count=0, c_charge_degree=M)</td>\n",
       "      <td>0.210185</td>\n",
       "    </tr>\n",
       "    <tr>\n",
       "      <th>124</th>\n",
       "      <td>(age_cat=25 - 45, length_of_stay=&lt;week, sex=Male, priors_count=[1,3])</td>\n",
       "      <td>0.207885</td>\n",
       "    </tr>\n",
       "    <tr>\n",
       "      <th>152</th>\n",
       "      <td>(length_of_stay=&lt;week, priors_count=0, sex=Male, c_charge_degree=M)</td>\n",
       "      <td>0.207191</td>\n",
       "    </tr>\n",
       "  </tbody>\n",
       "</table>\n",
       "</div>"
      ],
      "text/plain": [
       "                                                                  itemsets  \\\n",
       "88                 (age_cat=25 - 45, length_of_stay=<week, priors_count=0)   \n",
       "146          (length_of_stay=<week, c_charge_degree=M, priors_count=[1,3])   \n",
       "147                              (race=Caucasian, age_cat=Greater than 45)   \n",
       "142      (age_cat=25 - 45, length_of_stay=<week, priors_count=0, sex=Male)   \n",
       "128              (length_of_stay=<week, race=Caucasian, c_charge_degree=M)   \n",
       "116              (length_of_stay=<week, age_cat=Greater than 45, sex=Male)   \n",
       "76                         (length_of_stay=<week, age_cat=Greater than 45)   \n",
       "90               (length_of_stay=<week, priors_count=0, c_charge_degree=M)   \n",
       "124  (age_cat=25 - 45, length_of_stay=<week, sex=Male, priors_count=[1,3])   \n",
       "152    (length_of_stay=<week, priors_count=0, sex=Male, c_charge_degree=M)   \n",
       "\n",
       "        d_fnr  \n",
       "88   0.236415  \n",
       "146  0.233446  \n",
       "147  0.230943  \n",
       "142  0.228360  \n",
       "128  0.227798  \n",
       "116  0.215558  \n",
       "76   0.213069  \n",
       "90   0.210185  \n",
       "124  0.207885  \n",
       "152  0.207191  "
      ]
     },
     "execution_count": 41,
     "metadata": {},
     "output_type": "execute_result"
    }
   ],
   "source": [
    "fp_divergence_ofI.getDivergenceTopKDf(K=10, th_redundancy=0)"
   ]
  },
  {
   "cell_type": "markdown",
   "metadata": {
    "ExecuteTime": {
     "end_time": "2020-08-10T10:09:51.315210Z",
     "start_time": "2020-08-10T10:09:51.310814Z"
    }
   },
   "source": [
    "### Shapley value of TOP-K patterns"
   ]
  },
  {
   "cell_type": "code",
   "execution_count": 42,
   "metadata": {
    "ExecuteTime": {
     "end_time": "2021-03-06T17:09:09.548259Z",
     "start_time": "2021-03-06T17:09:09.534772Z"
    }
   },
   "outputs": [
    {
     "data": {
      "text/plain": [
       "{frozenset({'age_cat=25 - 45',\n",
       "            'length_of_stay=<week',\n",
       "            'priors_count=0'}): 0.236414514807057,\n",
       " frozenset({'c_charge_degree=M',\n",
       "            'length_of_stay=<week',\n",
       "            'priors_count=[1,3]'}): 0.23344568749384575,\n",
       " frozenset({'age_cat=Greater than 45', 'race=Caucasian'}): 0.23094255858270685,\n",
       " frozenset({'age_cat=25 - 45',\n",
       "            'length_of_stay=<week',\n",
       "            'priors_count=0',\n",
       "            'sex=Male'}): 0.22836006216950744,\n",
       " frozenset({'c_charge_degree=M',\n",
       "            'length_of_stay=<week',\n",
       "            'race=Caucasian'}): 0.22779807498281524}"
      ]
     },
     "execution_count": 42,
     "metadata": {},
     "output_type": "execute_result"
    }
   ],
   "source": [
    "topK_ofI=fp_divergence_ofI.getDivergenceTopK(K=5, th_redundancy=0)\n",
    "topK_ofI"
   ]
  },
  {
   "cell_type": "code",
   "execution_count": 43,
   "metadata": {
    "ExecuteTime": {
     "end_time": "2021-03-06T17:09:09.968522Z",
     "start_time": "2021-03-06T17:09:09.549484Z"
    },
    "scrolled": true
   },
   "outputs": [
    {
     "data": {
      "image/png": "[encoded data removed]",
      "text/plain": [
       "<Figure size 400x300 with 1 Axes>"
      ]
     },
     "metadata": {
      "needs_background": "light"
     },
     "output_type": "display_data"
    },
    {
     "data": {
      "image/png": "[encoded data removed]",
      "text/plain": [
       "<Figure size 400x300 with 1 Axes>"
      ]
     },
     "metadata": {
      "needs_background": "light"
     },
     "output_type": "display_data"
    },
    {
     "data": {
      "image/png": "[encoded data removed]",
      "text/plain": [
       "<Figure size 400x300 with 1 Axes>"
      ]
     },
     "metadata": {
      "needs_background": "light"
     },
     "output_type": "display_data"
    },
    {
     "data": {
      "image/png": "[encoded data removed]",
      "text/plain": [
       "<Figure size 400x300 with 1 Axes>"
      ]
     },
     "metadata": {
      "needs_background": "light"
     },
     "output_type": "display_data"
    },
    {
     "data": {
      "image/png": "[encoded data removed]",
      "text/plain": [
       "<Figure size 400x300 with 1 Axes>"
      ]
     },
     "metadata": {
      "needs_background": "light"
     },
     "output_type": "display_data"
    }
   ],
   "source": [
    "topK_ofI=fp_divergence_ofI.getDivergenceTopK(K=5, th_redundancy=0)\n",
    "for item in topK_ofI.keys():\n",
    "    fp_divergence_ofI.plotShapleyValue(item)"
   ]
  },
  {
   "cell_type": "code",
   "execution_count": 44,
   "metadata": {
    "ExecuteTime": {
     "end_time": "2021-03-06T17:09:10.058561Z",
     "start_time": "2021-03-06T17:09:09.969910Z"
    }
   },
   "outputs": [
    {
     "name": "stdout",
     "output_type": "stream",
     "text": [
      "{frozenset({'age_cat=25 - 45', 'length_of_stay=<week', 'priors_count=0'}): 0.236414514807057}\n",
      "{frozenset({'age_cat=25 - 45'}): 0.027197818597133917, frozenset({'length_of_stay=<week'}): 0.04758824588792979, frozenset({'priors_count=0'}): 0.16162845032199327}\n"
     ]
    },
    {
     "data": {
      "image/png": "[encoded data removed]",
      "text/plain": [
       "<Figure size 130x120 with 1 Axes>"
      ]
     },
     "metadata": {
      "needs_background": "light"
     },
     "output_type": "display_data"
    }
   ],
   "source": [
    "outputName=f\"{outDirShap}/{dataset_name}_shap_{fp_divergence_ofI.metric_name}_{min_sup}\"\n",
    "itemset_div=fp_divergence_ofI.getDivergenceTopK(K=1, th_redundancy=0)\n",
    "print(itemset_div)\n",
    "itemset_shap=fp_divergence_ofI.computeShapleyValue(list(itemset_div.keys())[0])\n",
    "print(itemset_shap)\n",
    "fp_divergence_ofI.plotShapleyValue(shapley_values=itemset_shap, abbreviations=abbreviations,\\\n",
    "                 height=0.4,\\\n",
    "                 title=f\"{dataset_name} -\", sizeFig=(1.3,1.2), labelsize=8, saveFig=saveFig, nameFig=outputName)"
   ]
  },
  {
   "cell_type": "markdown",
   "metadata": {},
   "source": [
    "#### Lattice Explorer"
   ]
  },
  {
   "cell_type": "code",
   "execution_count": 45,
   "metadata": {
    "ExecuteTime": {
     "end_time": "2021-03-06T17:09:10.213417Z",
     "start_time": "2021-03-06T17:09:10.060370Z"
    },
    "scrolled": true
   },
   "outputs": [],
   "source": [
    "top1=list(fp_divergence_ofI.getDivergenceTopK(K=1, th_redundancy=0).keys())[0]\n",
    "fig1=fp_divergence_ofI.plotLatticeItemset(top1, Th_divergence=0.15, sizeDot=\"small\", getLower=True)"
   ]
  },
  {
   "cell_type": "markdown",
   "metadata": {},
   "source": [
    "### Corrective"
   ]
  },
  {
   "cell_type": "markdown",
   "metadata": {},
   "source": [
    "Given an itemset $I$ and an item $i \\not\\in I$, we say that $i$ is a *corrective item* for $I$ if \n",
    "$|\\Delta(I \\cup i)|<|\\Delta(I)|$.\n",
    "\n",
    "\n",
    "The *corrective factor* of $i$ w.r.t.\\ $I$ is \n",
    "$|\\Delta(I)| - |\\Delta(I \\cup i)|$."
   ]
  },
  {
   "cell_type": "code",
   "execution_count": 46,
   "metadata": {
    "ExecuteTime": {
     "end_time": "2021-03-06T17:09:10.277292Z",
     "start_time": "2021-03-06T17:09:10.215313Z"
    },
    "scrolled": true
   },
   "outputs": [
    {
     "data": {
      "text/html": [
       "<div>\n",
       "<style scoped>\n",
       "    .dataframe tbody tr th:only-of-type {\n",
       "        vertical-align: middle;\n",
       "    }\n",
       "\n",
       "    .dataframe tbody tr th {\n",
       "        vertical-align: top;\n",
       "    }\n",
       "\n",
       "    .dataframe thead th {\n",
       "        text-align: right;\n",
       "    }\n",
       "</style>\n",
       "<table border=\"1\" class=\"dataframe\">\n",
       "  <thead>\n",
       "    <tr style=\"text-align: right;\">\n",
       "      <th></th>\n",
       "      <th>item i</th>\n",
       "      <th>S</th>\n",
       "      <th>S+i</th>\n",
       "      <th>v_i</th>\n",
       "      <th>v_S</th>\n",
       "      <th>v_S+i</th>\n",
       "      <th>t_value_corr</th>\n",
       "      <th>corr_factor</th>\n",
       "    </tr>\n",
       "  </thead>\n",
       "  <tbody>\n",
       "    <tr>\n",
       "      <th>401</th>\n",
       "      <td>(priors_count=[1,3])</td>\n",
       "      <td>(c_charge_degree=F, sex=Male, race=African-American)</td>\n",
       "      <td>(c_charge_degree=F, sex=Male, priors_count=[1,3], race=African-American)</td>\n",
       "      <td>0.093156</td>\n",
       "      <td>-0.122627</td>\n",
       "      <td>-0.010782</td>\n",
       "      <td>3.761896</td>\n",
       "      <td>0.111845</td>\n",
       "    </tr>\n",
       "    <tr>\n",
       "      <th>257</th>\n",
       "      <td>(priors_count=[1,3])</td>\n",
       "      <td>(c_charge_degree=F, race=African-American)</td>\n",
       "      <td>(c_charge_degree=F, priors_count=[1,3], race=African-American)</td>\n",
       "      <td>0.093156</td>\n",
       "      <td>-0.112602</td>\n",
       "      <td>0.004095</td>\n",
       "      <td>4.281193</td>\n",
       "      <td>0.108507</td>\n",
       "    </tr>\n",
       "    <tr>\n",
       "      <th>249</th>\n",
       "      <td>(c_charge_degree=M)</td>\n",
       "      <td>(sex=Male, race=African-American)</td>\n",
       "      <td>(sex=Male, race=African-American, c_charge_degree=M)</td>\n",
       "      <td>0.095470</td>\n",
       "      <td>-0.090102</td>\n",
       "      <td>-0.001033</td>\n",
       "      <td>3.331496</td>\n",
       "      <td>0.089068</td>\n",
       "    </tr>\n",
       "    <tr>\n",
       "      <th>85</th>\n",
       "      <td>(race=African-American)</td>\n",
       "      <td>(c_charge_degree=M)</td>\n",
       "      <td>(c_charge_degree=M, race=African-American)</td>\n",
       "      <td>-0.080167</td>\n",
       "      <td>0.095470</td>\n",
       "      <td>0.008738</td>\n",
       "      <td>3.378966</td>\n",
       "      <td>0.086732</td>\n",
       "    </tr>\n",
       "    <tr>\n",
       "      <th>248</th>\n",
       "      <td>(race=African-American)</td>\n",
       "      <td>(sex=Male, c_charge_degree=M)</td>\n",
       "      <td>(sex=Male, race=African-American, c_charge_degree=M)</td>\n",
       "      <td>-0.080167</td>\n",
       "      <td>0.084265</td>\n",
       "      <td>-0.001033</td>\n",
       "      <td>3.056766</td>\n",
       "      <td>0.083231</td>\n",
       "    </tr>\n",
       "  </tbody>\n",
       "</table>\n",
       "</div>"
      ],
      "text/plain": [
       "                      item i  \\\n",
       "401     (priors_count=[1,3])   \n",
       "257     (priors_count=[1,3])   \n",
       "249      (c_charge_degree=M)   \n",
       "85   (race=African-American)   \n",
       "248  (race=African-American)   \n",
       "\n",
       "                                                        S  \\\n",
       "401  (c_charge_degree=F, sex=Male, race=African-American)   \n",
       "257            (c_charge_degree=F, race=African-American)   \n",
       "249                     (sex=Male, race=African-American)   \n",
       "85                                    (c_charge_degree=M)   \n",
       "248                         (sex=Male, c_charge_degree=M)   \n",
       "\n",
       "                                                                          S+i  \\\n",
       "401  (c_charge_degree=F, sex=Male, priors_count=[1,3], race=African-American)   \n",
       "257            (c_charge_degree=F, priors_count=[1,3], race=African-American)   \n",
       "249                      (sex=Male, race=African-American, c_charge_degree=M)   \n",
       "85                                 (c_charge_degree=M, race=African-American)   \n",
       "248                      (sex=Male, race=African-American, c_charge_degree=M)   \n",
       "\n",
       "          v_i       v_S     v_S+i  t_value_corr  corr_factor  \n",
       "401  0.093156 -0.122627 -0.010782      3.761896     0.111845  \n",
       "257  0.093156 -0.112602  0.004095      4.281193     0.108507  \n",
       "249  0.095470 -0.090102 -0.001033      3.331496     0.089068  \n",
       "85  -0.080167  0.095470  0.008738      3.378966     0.086732  \n",
       "248 -0.080167  0.084265 -0.001033      3.056766     0.083231  "
      ]
     },
     "execution_count": 46,
     "metadata": {},
     "output_type": "execute_result"
    }
   ],
   "source": [
    "#Significant corrective items based on t-value of difference\n",
    "corrSign=fp_divergence_ofI.getCorrectiveItems()\n",
    "corrSign.head(5)"
   ]
  },
  {
   "cell_type": "markdown",
   "metadata": {},
   "source": [
    "Only itemsets with positive divergence"
   ]
  },
  {
   "cell_type": "code",
   "execution_count": 47,
   "metadata": {
    "ExecuteTime": {
     "end_time": "2021-03-06T17:09:08.720016Z",
     "start_time": "2021-03-06T17:09:08.704009Z"
    }
   },
   "outputs": [
    {
     "data": {
      "text/html": [
       "<div>\n",
       "<style scoped>\n",
       "    .dataframe tbody tr th:only-of-type {\n",
       "        vertical-align: middle;\n",
       "    }\n",
       "\n",
       "    .dataframe tbody tr th {\n",
       "        vertical-align: top;\n",
       "    }\n",
       "\n",
       "    .dataframe thead th {\n",
       "        text-align: right;\n",
       "    }\n",
       "</style>\n",
       "<table border=\"1\" class=\"dataframe\">\n",
       "  <thead>\n",
       "    <tr style=\"text-align: right;\">\n",
       "      <th></th>\n",
       "      <th>item i</th>\n",
       "      <th>S</th>\n",
       "      <th>S+i</th>\n",
       "      <th>v_i</th>\n",
       "      <th>v_S</th>\n",
       "      <th>v_S+i</th>\n",
       "      <th>t_value_corr</th>\n",
       "      <th>corr_factor</th>\n",
       "    </tr>\n",
       "  </thead>\n",
       "  <tbody>\n",
       "    <tr>\n",
       "      <th>85</th>\n",
       "      <td>(race=African-American)</td>\n",
       "      <td>(c_charge_degree=M)</td>\n",
       "      <td>(c_charge_degree=M, race=African-American)</td>\n",
       "      <td>-0.080167</td>\n",
       "      <td>0.095470</td>\n",
       "      <td>0.008738</td>\n",
       "      <td>3.378966</td>\n",
       "      <td>0.086732</td>\n",
       "    </tr>\n",
       "    <tr>\n",
       "      <th>248</th>\n",
       "      <td>(race=African-American)</td>\n",
       "      <td>(sex=Male, c_charge_degree=M)</td>\n",
       "      <td>(sex=Male, race=African-American, c_charge_degree=M)</td>\n",
       "      <td>-0.080167</td>\n",
       "      <td>0.084265</td>\n",
       "      <td>-0.001033</td>\n",
       "      <td>3.056766</td>\n",
       "      <td>0.083231</td>\n",
       "    </tr>\n",
       "    <tr>\n",
       "      <th>246</th>\n",
       "      <td>(race=African-American)</td>\n",
       "      <td>(length_of_stay=&lt;week, c_charge_degree=M)</td>\n",
       "      <td>(length_of_stay=&lt;week, c_charge_degree=M, race=African-American)</td>\n",
       "      <td>-0.080167</td>\n",
       "      <td>0.143802</td>\n",
       "      <td>0.065881</td>\n",
       "      <td>2.861090</td>\n",
       "      <td>0.077921</td>\n",
       "    </tr>\n",
       "    <tr>\n",
       "      <th>393</th>\n",
       "      <td>(race=African-American)</td>\n",
       "      <td>(length_of_stay=&lt;week, sex=Male, c_charge_degree=M)</td>\n",
       "      <td>(length_of_stay=&lt;week, sex=Male, race=African-American, c_charge_degree=M)</td>\n",
       "      <td>-0.080167</td>\n",
       "      <td>0.129833</td>\n",
       "      <td>0.053279</td>\n",
       "      <td>2.544816</td>\n",
       "      <td>0.076554</td>\n",
       "    </tr>\n",
       "    <tr>\n",
       "      <th>378</th>\n",
       "      <td>(race=African-American)</td>\n",
       "      <td>(length_of_stay=&lt;week, sex=Male, priors_count=[1,3])</td>\n",
       "      <td>(length_of_stay=&lt;week, sex=Male, priors_count=[1,3], race=African-American)</td>\n",
       "      <td>-0.080167</td>\n",
       "      <td>0.138231</td>\n",
       "      <td>0.071228</td>\n",
       "      <td>2.440267</td>\n",
       "      <td>0.067003</td>\n",
       "    </tr>\n",
       "  </tbody>\n",
       "</table>\n",
       "</div>"
      ],
      "text/plain": [
       "                      item i  \\\n",
       "85   (race=African-American)   \n",
       "248  (race=African-American)   \n",
       "246  (race=African-American)   \n",
       "393  (race=African-American)   \n",
       "378  (race=African-American)   \n",
       "\n",
       "                                                        S  \\\n",
       "85                                    (c_charge_degree=M)   \n",
       "248                         (sex=Male, c_charge_degree=M)   \n",
       "246             (length_of_stay=<week, c_charge_degree=M)   \n",
       "393   (length_of_stay=<week, sex=Male, c_charge_degree=M)   \n",
       "378  (length_of_stay=<week, sex=Male, priors_count=[1,3])   \n",
       "\n",
       "                                                                             S+i  \\\n",
       "85                                    (c_charge_degree=M, race=African-American)   \n",
       "248                         (sex=Male, race=African-American, c_charge_degree=M)   \n",
       "246             (length_of_stay=<week, c_charge_degree=M, race=African-American)   \n",
       "393   (length_of_stay=<week, sex=Male, race=African-American, c_charge_degree=M)   \n",
       "378  (length_of_stay=<week, sex=Male, priors_count=[1,3], race=African-American)   \n",
       "\n",
       "          v_i       v_S     v_S+i  t_value_corr  corr_factor  \n",
       "85  -0.080167  0.095470  0.008738      3.378966     0.086732  \n",
       "248 -0.080167  0.084265 -0.001033      3.056766     0.083231  \n",
       "246 -0.080167  0.143802  0.065881      2.861090     0.077921  \n",
       "393 -0.080167  0.129833  0.053279      2.544816     0.076554  \n",
       "378 -0.080167  0.138231  0.071228      2.440267     0.067003  "
      ]
     },
     "execution_count": 47,
     "metadata": {},
     "output_type": "execute_result"
    }
   ],
   "source": [
    "corrSign_pos=fp_divergence_ofI.getCorrectiveItemsPos()\n",
    "corrSign_pos.head()"
   ]
  },
  {
   "cell_type": "markdown",
   "metadata": {},
   "source": [
    "Details of $S$ and $S \\cup i$ for the top corrective items"
   ]
  },
  {
   "cell_type": "code",
   "execution_count": 48,
   "metadata": {
    "ExecuteTime": {
     "end_time": "2021-03-06T17:09:10.358112Z",
     "start_time": "2021-03-06T17:09:10.314726Z"
    },
    "scrolled": true
   },
   "outputs": [
    {
     "data": {
      "text/html": [
       "<div>\n",
       "<style scoped>\n",
       "    .dataframe tbody tr th:only-of-type {\n",
       "        vertical-align: middle;\n",
       "    }\n",
       "\n",
       "    .dataframe tbody tr th {\n",
       "        vertical-align: top;\n",
       "    }\n",
       "\n",
       "    .dataframe thead th {\n",
       "        text-align: right;\n",
       "    }\n",
       "</style>\n",
       "<table border=\"1\" class=\"dataframe\">\n",
       "  <thead>\n",
       "    <tr style=\"text-align: right;\">\n",
       "      <th></th>\n",
       "      <th>support</th>\n",
       "      <th>itemsets</th>\n",
       "      <th>tn</th>\n",
       "      <th>tp</th>\n",
       "      <th>fn</th>\n",
       "      <th>fp</th>\n",
       "      <th>d_fnr</th>\n",
       "      <th>fnr</th>\n",
       "      <th>t_value_fn</th>\n",
       "    </tr>\n",
       "  </thead>\n",
       "  <tbody>\n",
       "    <tr>\n",
       "      <th>27</th>\n",
       "      <td>0.297472</td>\n",
       "      <td>(c_charge_degree=F, sex=Male, race=African-American)</td>\n",
       "      <td>641.0</td>\n",
       "      <td>453.0</td>\n",
       "      <td>615.0</td>\n",
       "      <td>127.0</td>\n",
       "      <td>-0.122627</td>\n",
       "      <td>0.575843</td>\n",
       "      <td>7.044825</td>\n",
       "    </tr>\n",
       "    <tr>\n",
       "      <th>153</th>\n",
       "      <td>0.100454</td>\n",
       "      <td>(c_charge_degree=F, sex=Male, priors_count=[1,3], race=African-American)</td>\n",
       "      <td>249.0</td>\n",
       "      <td>104.0</td>\n",
       "      <td>229.0</td>\n",
       "      <td>38.0</td>\n",
       "      <td>-0.010782</td>\n",
       "      <td>0.687688</td>\n",
       "      <td>0.439716</td>\n",
       "    </tr>\n",
       "  </tbody>\n",
       "</table>\n",
       "</div>"
      ],
      "text/plain": [
       "      support  \\\n",
       "27   0.297472   \n",
       "153  0.100454   \n",
       "\n",
       "                                                                     itemsets  \\\n",
       "27                       (c_charge_degree=F, sex=Male, race=African-American)   \n",
       "153  (c_charge_degree=F, sex=Male, priors_count=[1,3], race=African-American)   \n",
       "\n",
       "        tn     tp     fn     fp     d_fnr       fnr  t_value_fn  \n",
       "27   641.0  453.0  615.0  127.0 -0.122627  0.575843    7.044825  \n",
       "153  249.0  104.0  229.0   38.0 -0.010782  0.687688    0.439716  "
      ]
     },
     "metadata": {},
     "output_type": "display_data"
    },
    {
     "data": {
      "text/html": [
       "<div>\n",
       "<style scoped>\n",
       "    .dataframe tbody tr th:only-of-type {\n",
       "        vertical-align: middle;\n",
       "    }\n",
       "\n",
       "    .dataframe tbody tr th {\n",
       "        vertical-align: top;\n",
       "    }\n",
       "\n",
       "    .dataframe thead th {\n",
       "        text-align: right;\n",
       "    }\n",
       "</style>\n",
       "<table border=\"1\" class=\"dataframe\">\n",
       "  <thead>\n",
       "    <tr style=\"text-align: right;\">\n",
       "      <th></th>\n",
       "      <th>support</th>\n",
       "      <th>itemsets</th>\n",
       "      <th>tn</th>\n",
       "      <th>tp</th>\n",
       "      <th>fn</th>\n",
       "      <th>fp</th>\n",
       "      <th>d_fnr</th>\n",
       "      <th>fnr</th>\n",
       "      <th>t_value_fn</th>\n",
       "    </tr>\n",
       "  </thead>\n",
       "  <tbody>\n",
       "    <tr>\n",
       "      <th>17</th>\n",
       "      <td>0.355800</td>\n",
       "      <td>(c_charge_degree=F, race=African-American)</td>\n",
       "      <td>826.0</td>\n",
       "      <td>504.0</td>\n",
       "      <td>713.0</td>\n",
       "      <td>153.0</td>\n",
       "      <td>-0.112602</td>\n",
       "      <td>0.585867</td>\n",
       "      <td>6.804881</td>\n",
       "    </tr>\n",
       "    <tr>\n",
       "      <th>119</th>\n",
       "      <td>0.123785</td>\n",
       "      <td>(c_charge_degree=F, priors_count=[1,3], race=African-American)</td>\n",
       "      <td>327.0</td>\n",
       "      <td>116.0</td>\n",
       "      <td>274.0</td>\n",
       "      <td>47.0</td>\n",
       "      <td>0.004095</td>\n",
       "      <td>0.702564</td>\n",
       "      <td>0.129915</td>\n",
       "    </tr>\n",
       "  </tbody>\n",
       "</table>\n",
       "</div>"
      ],
      "text/plain": [
       "      support                                                        itemsets  \\\n",
       "17   0.355800                      (c_charge_degree=F, race=African-American)   \n",
       "119  0.123785  (c_charge_degree=F, priors_count=[1,3], race=African-American)   \n",
       "\n",
       "        tn     tp     fn     fp     d_fnr       fnr  t_value_fn  \n",
       "17   826.0  504.0  713.0  153.0 -0.112602  0.585867    6.804881  \n",
       "119  327.0  116.0  274.0   47.0  0.004095  0.702564    0.129915  "
      ]
     },
     "metadata": {},
     "output_type": "display_data"
    },
    {
     "data": {
      "text/html": [
       "<div>\n",
       "<style scoped>\n",
       "    .dataframe tbody tr th:only-of-type {\n",
       "        vertical-align: middle;\n",
       "    }\n",
       "\n",
       "    .dataframe tbody tr th {\n",
       "        vertical-align: top;\n",
       "    }\n",
       "\n",
       "    .dataframe thead th {\n",
       "        text-align: right;\n",
       "    }\n",
       "</style>\n",
       "<table border=\"1\" class=\"dataframe\">\n",
       "  <thead>\n",
       "    <tr style=\"text-align: right;\">\n",
       "      <th></th>\n",
       "      <th>support</th>\n",
       "      <th>itemsets</th>\n",
       "      <th>tn</th>\n",
       "      <th>tp</th>\n",
       "      <th>fn</th>\n",
       "      <th>fp</th>\n",
       "      <th>d_fnr</th>\n",
       "      <th>fnr</th>\n",
       "      <th>t_value_fn</th>\n",
       "    </tr>\n",
       "  </thead>\n",
       "  <tbody>\n",
       "    <tr>\n",
       "      <th>11</th>\n",
       "      <td>0.425470</td>\n",
       "      <td>(sex=Male, race=African-American)</td>\n",
       "      <td>992.0</td>\n",
       "      <td>571.0</td>\n",
       "      <td>887.0</td>\n",
       "      <td>176.0</td>\n",
       "      <td>-0.090102</td>\n",
       "      <td>0.608368</td>\n",
       "      <td>5.840685</td>\n",
       "    </tr>\n",
       "    <tr>\n",
       "      <th>114</th>\n",
       "      <td>0.127997</td>\n",
       "      <td>(sex=Male, race=African-American, c_charge_degree=M)</td>\n",
       "      <td>351.0</td>\n",
       "      <td>118.0</td>\n",
       "      <td>272.0</td>\n",
       "      <td>49.0</td>\n",
       "      <td>-0.001033</td>\n",
       "      <td>0.697436</td>\n",
       "      <td>0.076725</td>\n",
       "    </tr>\n",
       "  </tbody>\n",
       "</table>\n",
       "</div>"
      ],
      "text/plain": [
       "      support                                              itemsets     tn  \\\n",
       "11   0.425470                     (sex=Male, race=African-American)  992.0   \n",
       "114  0.127997  (sex=Male, race=African-American, c_charge_degree=M)  351.0   \n",
       "\n",
       "        tp     fn     fp     d_fnr       fnr  t_value_fn  \n",
       "11   571.0  887.0  176.0 -0.090102  0.608368    5.840685  \n",
       "114  118.0  272.0   49.0 -0.001033  0.697436    0.076725  "
      ]
     },
     "metadata": {},
     "output_type": "display_data"
    },
    {
     "data": {
      "text/html": [
       "<div>\n",
       "<style scoped>\n",
       "    .dataframe tbody tr th:only-of-type {\n",
       "        vertical-align: middle;\n",
       "    }\n",
       "\n",
       "    .dataframe tbody tr th {\n",
       "        vertical-align: top;\n",
       "    }\n",
       "\n",
       "    .dataframe thead th {\n",
       "        text-align: right;\n",
       "    }\n",
       "</style>\n",
       "<table border=\"1\" class=\"dataframe\">\n",
       "  <thead>\n",
       "    <tr style=\"text-align: right;\">\n",
       "      <th></th>\n",
       "      <th>support</th>\n",
       "      <th>itemsets</th>\n",
       "      <th>tn</th>\n",
       "      <th>tp</th>\n",
       "      <th>fn</th>\n",
       "      <th>fp</th>\n",
       "      <th>d_fnr</th>\n",
       "      <th>fnr</th>\n",
       "      <th>t_value_fn</th>\n",
       "    </tr>\n",
       "  </thead>\n",
       "  <tbody>\n",
       "    <tr>\n",
       "      <th>16</th>\n",
       "      <td>0.356773</td>\n",
       "      <td>(c_charge_degree=M)</td>\n",
       "      <td>1294.0</td>\n",
       "      <td>170.0</td>\n",
       "      <td>655.0</td>\n",
       "      <td>83.0</td>\n",
       "      <td>0.095470</td>\n",
       "      <td>0.793939</td>\n",
       "      <td>5.743590</td>\n",
       "    </tr>\n",
       "    <tr>\n",
       "      <th>77</th>\n",
       "      <td>0.158620</td>\n",
       "      <td>(c_charge_degree=M, race=African-American)</td>\n",
       "      <td>477.0</td>\n",
       "      <td>130.0</td>\n",
       "      <td>314.0</td>\n",
       "      <td>58.0</td>\n",
       "      <td>0.008738</td>\n",
       "      <td>0.707207</td>\n",
       "      <td>0.342429</td>\n",
       "    </tr>\n",
       "  </tbody>\n",
       "</table>\n",
       "</div>"
      ],
      "text/plain": [
       "     support                                    itemsets      tn     tp  \\\n",
       "16  0.356773                         (c_charge_degree=M)  1294.0  170.0   \n",
       "77  0.158620  (c_charge_degree=M, race=African-American)   477.0  130.0   \n",
       "\n",
       "       fn    fp     d_fnr       fnr  t_value_fn  \n",
       "16  655.0  83.0  0.095470  0.793939    5.743590  \n",
       "77  314.0  58.0  0.008738  0.707207    0.342429  "
      ]
     },
     "metadata": {},
     "output_type": "display_data"
    }
   ],
   "source": [
    "d=fp_divergence_ofI.getCorrectiveItems()\n",
    "itemsetsOfI=d[[\"S\", \"S+i\"]].head(4).values\n",
    "for S,S_i in itemsetsOfI:\n",
    "    display(fp_divergence_ofI.getInfoItemsets([S,S_i])[INFOS])"
   ]
  },
  {
   "cell_type": "markdown",
   "metadata": {},
   "source": [
    "#### Plot Shapley comparison corrective"
   ]
  },
  {
   "cell_type": "code",
   "execution_count": 49,
   "metadata": {
    "ExecuteTime": {
     "end_time": "2021-03-06T17:09:10.363353Z",
     "start_time": "2021-03-06T17:09:10.361272Z"
    }
   },
   "outputs": [],
   "source": [
    "from divexplorer.shapley_value_FPx import plotComparisonShapleyValues, compareShapleyValues, normalizeMax"
   ]
  },
  {
   "cell_type": "code",
   "execution_count": 50,
   "metadata": {
    "ExecuteTime": {
     "end_time": "2021-03-06T17:09:10.620333Z",
     "start_time": "2021-03-06T17:09:10.364544Z"
    }
   },
   "outputs": [
    {
     "data": {
      "text/html": [
       "<div>\n",
       "<style scoped>\n",
       "    .dataframe tbody tr th:only-of-type {\n",
       "        vertical-align: middle;\n",
       "    }\n",
       "\n",
       "    .dataframe tbody tr th {\n",
       "        vertical-align: top;\n",
       "    }\n",
       "\n",
       "    .dataframe thead th {\n",
       "        text-align: right;\n",
       "    }\n",
       "</style>\n",
       "<table border=\"1\" class=\"dataframe\">\n",
       "  <thead>\n",
       "    <tr style=\"text-align: right;\">\n",
       "      <th></th>\n",
       "      <th>support</th>\n",
       "      <th>itemsets</th>\n",
       "      <th>tn</th>\n",
       "      <th>tp</th>\n",
       "      <th>fn</th>\n",
       "      <th>fp</th>\n",
       "      <th>d_fnr</th>\n",
       "      <th>fnr</th>\n",
       "      <th>t_value_fn</th>\n",
       "    </tr>\n",
       "  </thead>\n",
       "  <tbody>\n",
       "    <tr>\n",
       "      <th>27</th>\n",
       "      <td>0.297472</td>\n",
       "      <td>(c_charge_degree=F, sex=Male, race=African-American)</td>\n",
       "      <td>641.0</td>\n",
       "      <td>453.0</td>\n",
       "      <td>615.0</td>\n",
       "      <td>127.0</td>\n",
       "      <td>-0.122627</td>\n",
       "      <td>0.575843</td>\n",
       "      <td>7.044825</td>\n",
       "    </tr>\n",
       "    <tr>\n",
       "      <th>153</th>\n",
       "      <td>0.100454</td>\n",
       "      <td>(c_charge_degree=F, sex=Male, priors_count=[1,3], race=African-American)</td>\n",
       "      <td>249.0</td>\n",
       "      <td>104.0</td>\n",
       "      <td>229.0</td>\n",
       "      <td>38.0</td>\n",
       "      <td>-0.010782</td>\n",
       "      <td>0.687688</td>\n",
       "      <td>0.439716</td>\n",
       "    </tr>\n",
       "  </tbody>\n",
       "</table>\n",
       "</div>"
      ],
      "text/plain": [
       "      support  \\\n",
       "27   0.297472   \n",
       "153  0.100454   \n",
       "\n",
       "                                                                     itemsets  \\\n",
       "27                       (c_charge_degree=F, sex=Male, race=African-American)   \n",
       "153  (c_charge_degree=F, sex=Male, priors_count=[1,3], race=African-American)   \n",
       "\n",
       "        tn     tp     fn     fp     d_fnr       fnr  t_value_fn  \n",
       "27   641.0  453.0  615.0  127.0 -0.122627  0.575843    7.044825  \n",
       "153  249.0  104.0  229.0   38.0 -0.010782  0.687688    0.439716  "
      ]
     },
     "metadata": {},
     "output_type": "display_data"
    },
    {
     "name": "stdout",
     "output_type": "stream",
     "text": [
      "∇FNR(S):-0.123 -->  ∇FNR(S U i):-0.011\n"
     ]
    },
    {
     "data": {
      "image/png": "[encoded data removed]",
      "text/plain": [
       "<Figure size 520x190 with 2 Axes>"
      ]
     },
     "metadata": {
      "needs_background": "light"
     },
     "output_type": "display_data"
    }
   ],
   "source": [
    "id_col=0\n",
    "fp_divergence_ofI=fp_divergence_ofI\n",
    "corrSign=fp_divergence_ofI.getCorrectiveItems()\n",
    "\n",
    "if len(corrSign)>id_col:\n",
    "    outputName=f\"{outDirShap}/{dataset_name}_shap_corrective_{fp_divergence_ofI.metric_name}_{min_sup}\"\n",
    "    S,S_i, v_S, v_Si=corrSign[[\"S\", \"S+i\", \"v_S\", \"v_S+i\"]].head(id_col+1).values[id_col].tolist()\n",
    "    display(fp_divergence_ofI.getInfoItemsets([S,S_i])[INFOS])\n",
    "    shap_itemset1=abbreviateDict(fp_divergence_ofI.computeShapleyValue(S), abbreviations)\n",
    "    shap_itemset2=abbreviateDict(fp_divergence_ofI.computeShapleyValue(S_i), abbreviations)\n",
    "    id1, id2=\"$_a$\", \"$_b$\" \n",
    "    t1, t2=f\"$∇_{{{fp_divergence_ofI.metric_name}}}$(α|I{id1})\", f\"$∇_{{{fp_divergence_ofI.metric_name}}}$(α|I{id2})\"\n",
    "    print(f\"∇{fp_divergence_ofI.metric_name}(S):{round(v_S,3)} -->  ∇{fp_divergence_ofI.metric_name}(S U i):{round(v_Si,3)}\")\n",
    "\n",
    "    plotComparisonShapleyValues(shap_itemset1, shap_itemset2, height=[0.3, 0.4], sharedAxis=True, \\\n",
    "                        sizeFig=(5.2, 1.9), title=[t1,t2], saveFig=saveFig, nameFig=outputName, pad=1.5,\\\n",
    "                               metrics_name=[fp_divergence_ofI.metric_name, fp_divergence_ofI.metric_name])"
   ]
  },
  {
   "cell_type": "markdown",
   "metadata": {},
   "source": [
    "#### Lattice"
   ]
  },
  {
   "cell_type": "code",
   "execution_count": 51,
   "metadata": {
    "ExecuteTime": {
     "end_time": "2021-03-06T17:09:10.893650Z",
     "start_time": "2021-03-06T17:09:10.621523Z"
    }
   },
   "outputs": [
    {
     "name": "stdout",
     "output_type": "stream",
     "text": [
      "frozenset({'c_charge_degree=F', 'sex=Male', 'priors_count=[1,3]', 'race=African-American'})\n"
     ]
    }
   ],
   "source": [
    "id_col=0\n",
    "fp_divergence_ofI=fp_divergence_ofI\n",
    "corrSign=fp_divergence_ofI.getCorrectiveItems()\n",
    "if len(corrSign)>id_col:\n",
    "    S_i=corrSign[[\"S+i\"]].head(id_col+1).values[id_col][0]\n",
    "    print(S_i)\n",
    "    fig1=fp_divergence_ofI.plotLatticeItemset(S_i, Th_divergence=0.15, sizeDot=\"small\", getLower=True)\n",
    "    if saveFig:\n",
    "        fig1.write_image(f\"{outDirLattice}/lattice_corrective_{dataset_name}_{fp_divergence_ofI.metric_name}_{min_sup}.pdf\")"
   ]
  },
  {
   "cell_type": "markdown",
   "metadata": {},
   "source": [
    "## Accuracy"
   ]
  },
  {
   "cell_type": "code",
   "execution_count": 52,
   "metadata": {
    "ExecuteTime": {
     "end_time": "2021-03-06T17:09:09.391157Z",
     "start_time": "2021-03-06T17:09:09.386646Z"
    }
   },
   "outputs": [],
   "source": [
    "fp_divergence_ofI=FP_Divergence(FP_fm, \"d_accuracy\")"
   ]
  },
  {
   "cell_type": "code",
   "execution_count": 53,
   "metadata": {
    "ExecuteTime": {
     "end_time": "2021-03-06T17:09:09.396047Z",
     "start_time": "2021-03-06T17:09:09.392881Z"
    }
   },
   "outputs": [],
   "source": [
    "INFOS=ITEMSETS+[fp_divergence_ofI.metric, fp_divergence_ofI.metric_name.lower(), fp_divergence_ofI.t_value_col]"
   ]
  },
  {
   "cell_type": "code",
   "execution_count": 54,
   "metadata": {
    "ExecuteTime": {
     "end_time": "2021-03-06T17:09:09.409181Z",
     "start_time": "2021-03-06T17:09:09.397510Z"
    },
    "scrolled": true
   },
   "outputs": [
    {
     "data": {
      "text/html": [
       "<div>\n",
       "<style scoped>\n",
       "    .dataframe tbody tr th:only-of-type {\n",
       "        vertical-align: middle;\n",
       "    }\n",
       "\n",
       "    .dataframe tbody tr th {\n",
       "        vertical-align: top;\n",
       "    }\n",
       "\n",
       "    .dataframe thead th {\n",
       "        text-align: right;\n",
       "    }\n",
       "</style>\n",
       "<table border=\"1\" class=\"dataframe\">\n",
       "  <thead>\n",
       "    <tr style=\"text-align: right;\">\n",
       "      <th></th>\n",
       "      <th>support</th>\n",
       "      <th>itemsets</th>\n",
       "      <th>tn</th>\n",
       "      <th>tp</th>\n",
       "      <th>fn</th>\n",
       "      <th>fp</th>\n",
       "      <th>d_accuracy</th>\n",
       "      <th>accuracy</th>\n",
       "      <th>t_value_tp_tn</th>\n",
       "    </tr>\n",
       "  </thead>\n",
       "  <tbody>\n",
       "    <tr>\n",
       "      <th>0</th>\n",
       "      <td>1.0</td>\n",
       "      <td>()</td>\n",
       "      <td>3066.0</td>\n",
       "      <td>847.0</td>\n",
       "      <td>1962.0</td>\n",
       "      <td>297.0</td>\n",
       "      <td>0.0</td>\n",
       "      <td>0.633992</td>\n",
       "      <td>0.0</td>\n",
       "    </tr>\n",
       "  </tbody>\n",
       "</table>\n",
       "</div>"
      ],
      "text/plain": [
       "   support itemsets      tn     tp      fn     fp  d_accuracy  accuracy  \\\n",
       "0      1.0       ()  3066.0  847.0  1962.0  297.0         0.0  0.633992   \n",
       "\n",
       "   t_value_tp_tn  \n",
       "0            0.0  "
      ]
     },
     "execution_count": 54,
     "metadata": {},
     "output_type": "execute_result"
    }
   ],
   "source": [
    "fp_divergence_ofI.getInfoItemset(frozenset())[INFOS]"
   ]
  },
  {
   "cell_type": "markdown",
   "metadata": {},
   "source": [
    "### Top K"
   ]
  },
  {
   "cell_type": "code",
   "execution_count": 55,
   "metadata": {
    "ExecuteTime": {
     "end_time": "2021-03-06T17:09:09.453577Z",
     "start_time": "2021-03-06T17:09:09.410476Z"
    }
   },
   "outputs": [
    {
     "data": {
      "text/html": [
       "<div>\n",
       "<style scoped>\n",
       "    .dataframe tbody tr th:only-of-type {\n",
       "        vertical-align: middle;\n",
       "    }\n",
       "\n",
       "    .dataframe tbody tr th {\n",
       "        vertical-align: top;\n",
       "    }\n",
       "\n",
       "    .dataframe thead th {\n",
       "        text-align: right;\n",
       "    }\n",
       "</style>\n",
       "<table border=\"1\" class=\"dataframe\">\n",
       "  <thead>\n",
       "    <tr style=\"text-align: right;\">\n",
       "      <th></th>\n",
       "      <th>support</th>\n",
       "      <th>itemsets</th>\n",
       "      <th>tn</th>\n",
       "      <th>tp</th>\n",
       "      <th>fn</th>\n",
       "      <th>fp</th>\n",
       "      <th>d_accuracy</th>\n",
       "      <th>accuracy</th>\n",
       "      <th>t_value_tp_tn</th>\n",
       "    </tr>\n",
       "  </thead>\n",
       "  <tbody>\n",
       "    <tr>\n",
       "      <th>129</th>\n",
       "      <td>0.118600</td>\n",
       "      <td>(race=Caucasian, length_of_stay=&lt;week, priors_count=0)</td>\n",
       "      <td>547.0</td>\n",
       "      <td>20.0</td>\n",
       "      <td>153.0</td>\n",
       "      <td>12.0</td>\n",
       "      <td>0.140598</td>\n",
       "      <td>0.774590</td>\n",
       "      <td>8.425313</td>\n",
       "    </tr>\n",
       "    <tr>\n",
       "      <th>90</th>\n",
       "      <td>0.146630</td>\n",
       "      <td>(length_of_stay=&lt;week, priors_count=0, c_charge_degree=M)</td>\n",
       "      <td>675.0</td>\n",
       "      <td>19.0</td>\n",
       "      <td>189.0</td>\n",
       "      <td>22.0</td>\n",
       "      <td>0.132859</td>\n",
       "      <td>0.766851</td>\n",
       "      <td>8.634280</td>\n",
       "    </tr>\n",
       "    <tr>\n",
       "      <th>83</th>\n",
       "      <td>0.155541</td>\n",
       "      <td>(priors_count=0, c_charge_degree=M)</td>\n",
       "      <td>703.0</td>\n",
       "      <td>29.0</td>\n",
       "      <td>205.0</td>\n",
       "      <td>23.0</td>\n",
       "      <td>0.128508</td>\n",
       "      <td>0.762500</td>\n",
       "      <td>8.516132</td>\n",
       "    </tr>\n",
       "    <tr>\n",
       "      <th>106</th>\n",
       "      <td>0.133020</td>\n",
       "      <td>(race=Caucasian, priors_count=0)</td>\n",
       "      <td>594.0</td>\n",
       "      <td>32.0</td>\n",
       "      <td>179.0</td>\n",
       "      <td>16.0</td>\n",
       "      <td>0.128493</td>\n",
       "      <td>0.762485</td>\n",
       "      <td>7.966142</td>\n",
       "    </tr>\n",
       "    <tr>\n",
       "      <th>88</th>\n",
       "      <td>0.148250</td>\n",
       "      <td>(age_cat=25 - 45, length_of_stay=&lt;week, priors_count=0)</td>\n",
       "      <td>675.0</td>\n",
       "      <td>14.0</td>\n",
       "      <td>201.0</td>\n",
       "      <td>25.0</td>\n",
       "      <td>0.119013</td>\n",
       "      <td>0.753005</td>\n",
       "      <td>7.641727</td>\n",
       "    </tr>\n",
       "    <tr>\n",
       "      <th>73</th>\n",
       "      <td>0.166235</td>\n",
       "      <td>(age_cat=25 - 45, priors_count=0)</td>\n",
       "      <td>737.0</td>\n",
       "      <td>30.0</td>\n",
       "      <td>230.0</td>\n",
       "      <td>29.0</td>\n",
       "      <td>0.113571</td>\n",
       "      <td>0.747563</td>\n",
       "      <td>7.606603</td>\n",
       "    </tr>\n",
       "    <tr>\n",
       "      <th>152</th>\n",
       "      <td>0.101102</td>\n",
       "      <td>(length_of_stay=&lt;week, priors_count=0, sex=Male, c_charge_degree=M)</td>\n",
       "      <td>451.0</td>\n",
       "      <td>15.0</td>\n",
       "      <td>144.0</td>\n",
       "      <td>14.0</td>\n",
       "      <td>0.112803</td>\n",
       "      <td>0.746795</td>\n",
       "      <td>6.079120</td>\n",
       "    </tr>\n",
       "    <tr>\n",
       "      <th>76</th>\n",
       "      <td>0.158782</td>\n",
       "      <td>(length_of_stay=&lt;week, age_cat=Greater than 45)</td>\n",
       "      <td>706.0</td>\n",
       "      <td>23.0</td>\n",
       "      <td>237.0</td>\n",
       "      <td>14.0</td>\n",
       "      <td>0.109885</td>\n",
       "      <td>0.743878</td>\n",
       "      <td>7.190067</td>\n",
       "    </tr>\n",
       "    <tr>\n",
       "      <th>142</th>\n",
       "      <td>0.107097</td>\n",
       "      <td>(age_cat=25 - 45, length_of_stay=&lt;week, priors_count=0, sex=Male)</td>\n",
       "      <td>479.0</td>\n",
       "      <td>12.0</td>\n",
       "      <td>152.0</td>\n",
       "      <td>18.0</td>\n",
       "      <td>0.108822</td>\n",
       "      <td>0.742814</td>\n",
       "      <td>5.990493</td>\n",
       "    </tr>\n",
       "    <tr>\n",
       "      <th>138</th>\n",
       "      <td>0.108231</td>\n",
       "      <td>(priors_count=0, sex=Male, c_charge_degree=M)</td>\n",
       "      <td>471.0</td>\n",
       "      <td>25.0</td>\n",
       "      <td>157.0</td>\n",
       "      <td>15.0</td>\n",
       "      <td>0.108523</td>\n",
       "      <td>0.742515</td>\n",
       "      <td>6.000220</td>\n",
       "    </tr>\n",
       "  </tbody>\n",
       "</table>\n",
       "</div>"
      ],
      "text/plain": [
       "      support  \\\n",
       "129  0.118600   \n",
       "90   0.146630   \n",
       "83   0.155541   \n",
       "106  0.133020   \n",
       "88   0.148250   \n",
       "73   0.166235   \n",
       "152  0.101102   \n",
       "76   0.158782   \n",
       "142  0.107097   \n",
       "138  0.108231   \n",
       "\n",
       "                                                                itemsets  \\\n",
       "129               (race=Caucasian, length_of_stay=<week, priors_count=0)   \n",
       "90             (length_of_stay=<week, priors_count=0, c_charge_degree=M)   \n",
       "83                                   (priors_count=0, c_charge_degree=M)   \n",
       "106                                     (race=Caucasian, priors_count=0)   \n",
       "88               (age_cat=25 - 45, length_of_stay=<week, priors_count=0)   \n",
       "73                                     (age_cat=25 - 45, priors_count=0)   \n",
       "152  (length_of_stay=<week, priors_count=0, sex=Male, c_charge_degree=M)   \n",
       "76                       (length_of_stay=<week, age_cat=Greater than 45)   \n",
       "142    (age_cat=25 - 45, length_of_stay=<week, priors_count=0, sex=Male)   \n",
       "138                        (priors_count=0, sex=Male, c_charge_degree=M)   \n",
       "\n",
       "        tn    tp     fn    fp  d_accuracy  accuracy  t_value_tp_tn  \n",
       "129  547.0  20.0  153.0  12.0    0.140598  0.774590       8.425313  \n",
       "90   675.0  19.0  189.0  22.0    0.132859  0.766851       8.634280  \n",
       "83   703.0  29.0  205.0  23.0    0.128508  0.762500       8.516132  \n",
       "106  594.0  32.0  179.0  16.0    0.128493  0.762485       7.966142  \n",
       "88   675.0  14.0  201.0  25.0    0.119013  0.753005       7.641727  \n",
       "73   737.0  30.0  230.0  29.0    0.113571  0.747563       7.606603  \n",
       "152  451.0  15.0  144.0  14.0    0.112803  0.746795       6.079120  \n",
       "76   706.0  23.0  237.0  14.0    0.109885  0.743878       7.190067  \n",
       "142  479.0  12.0  152.0  18.0    0.108822  0.742814       5.990493  \n",
       "138  471.0  25.0  157.0  15.0    0.108523  0.742515       6.000220  "
      ]
     },
     "execution_count": 55,
     "metadata": {},
     "output_type": "execute_result"
    }
   ],
   "source": [
    "fp_divergence_ofI.getDivergence(th_redundancy=0)[INFOS].head(10)"
   ]
  },
  {
   "cell_type": "markdown",
   "metadata": {},
   "source": [
    "Top FPR - Only divergence info"
   ]
  },
  {
   "cell_type": "code",
   "execution_count": 56,
   "metadata": {
    "ExecuteTime": {
     "end_time": "2021-03-06T17:09:09.474816Z",
     "start_time": "2021-03-06T17:09:09.454984Z"
    }
   },
   "outputs": [
    {
     "data": {
      "text/html": [
       "<div>\n",
       "<style scoped>\n",
       "    .dataframe tbody tr th:only-of-type {\n",
       "        vertical-align: middle;\n",
       "    }\n",
       "\n",
       "    .dataframe tbody tr th {\n",
       "        vertical-align: top;\n",
       "    }\n",
       "\n",
       "    .dataframe thead th {\n",
       "        text-align: right;\n",
       "    }\n",
       "</style>\n",
       "<table border=\"1\" class=\"dataframe\">\n",
       "  <thead>\n",
       "    <tr style=\"text-align: right;\">\n",
       "      <th></th>\n",
       "      <th>support</th>\n",
       "      <th>itemsets</th>\n",
       "      <th>d_accuracy</th>\n",
       "      <th>t_value_tp_tn</th>\n",
       "    </tr>\n",
       "  </thead>\n",
       "  <tbody>\n",
       "    <tr>\n",
       "      <th>129</th>\n",
       "      <td>0.118600</td>\n",
       "      <td>(race=Caucasian, length_of_stay=&lt;week, priors_count=0)</td>\n",
       "      <td>0.140598</td>\n",
       "      <td>8.425313</td>\n",
       "    </tr>\n",
       "    <tr>\n",
       "      <th>90</th>\n",
       "      <td>0.146630</td>\n",
       "      <td>(length_of_stay=&lt;week, priors_count=0, c_charge_degree=M)</td>\n",
       "      <td>0.132859</td>\n",
       "      <td>8.634280</td>\n",
       "    </tr>\n",
       "    <tr>\n",
       "      <th>83</th>\n",
       "      <td>0.155541</td>\n",
       "      <td>(priors_count=0, c_charge_degree=M)</td>\n",
       "      <td>0.128508</td>\n",
       "      <td>8.516132</td>\n",
       "    </tr>\n",
       "    <tr>\n",
       "      <th>106</th>\n",
       "      <td>0.133020</td>\n",
       "      <td>(race=Caucasian, priors_count=0)</td>\n",
       "      <td>0.128493</td>\n",
       "      <td>7.966142</td>\n",
       "    </tr>\n",
       "    <tr>\n",
       "      <th>88</th>\n",
       "      <td>0.148250</td>\n",
       "      <td>(age_cat=25 - 45, length_of_stay=&lt;week, priors_count=0)</td>\n",
       "      <td>0.119013</td>\n",
       "      <td>7.641727</td>\n",
       "    </tr>\n",
       "  </tbody>\n",
       "</table>\n",
       "</div>"
      ],
      "text/plain": [
       "      support                                                   itemsets  \\\n",
       "129  0.118600     (race=Caucasian, length_of_stay=<week, priors_count=0)   \n",
       "90   0.146630  (length_of_stay=<week, priors_count=0, c_charge_degree=M)   \n",
       "83   0.155541                        (priors_count=0, c_charge_degree=M)   \n",
       "106  0.133020                           (race=Caucasian, priors_count=0)   \n",
       "88   0.148250    (age_cat=25 - 45, length_of_stay=<week, priors_count=0)   \n",
       "\n",
       "     d_accuracy  t_value_tp_tn  \n",
       "129    0.140598       8.425313  \n",
       "90     0.132859       8.634280  \n",
       "83     0.128508       8.516132  \n",
       "106    0.128493       7.966142  \n",
       "88     0.119013       7.641727  "
      ]
     },
     "execution_count": 56,
     "metadata": {},
     "output_type": "execute_result"
    }
   ],
   "source": [
    "fp_divergence_ofI.getDivergence(th_redundancy=0)[[\"support\", \"itemsets\",  fp_divergence_ofI.metric, fp_divergence_ofI.t_value_col]].head(5)"
   ]
  },
  {
   "cell_type": "markdown",
   "metadata": {},
   "source": [
    "Threshold on redundancy"
   ]
  },
  {
   "cell_type": "code",
   "execution_count": 57,
   "metadata": {
    "ExecuteTime": {
     "end_time": "2021-03-06T17:09:09.497383Z",
     "start_time": "2021-03-06T17:09:09.476413Z"
    }
   },
   "outputs": [
    {
     "data": {
      "text/html": [
       "<div>\n",
       "<style scoped>\n",
       "    .dataframe tbody tr th:only-of-type {\n",
       "        vertical-align: middle;\n",
       "    }\n",
       "\n",
       "    .dataframe tbody tr th {\n",
       "        vertical-align: top;\n",
       "    }\n",
       "\n",
       "    .dataframe thead th {\n",
       "        text-align: right;\n",
       "    }\n",
       "</style>\n",
       "<table border=\"1\" class=\"dataframe\">\n",
       "  <thead>\n",
       "    <tr style=\"text-align: right;\">\n",
       "      <th></th>\n",
       "      <th>support</th>\n",
       "      <th>itemsets</th>\n",
       "      <th>d_accuracy</th>\n",
       "      <th>t_value_tp_tn</th>\n",
       "    </tr>\n",
       "  </thead>\n",
       "  <tbody>\n",
       "    <tr>\n",
       "      <th>129</th>\n",
       "      <td>0.118600</td>\n",
       "      <td>(race=Caucasian, length_of_stay=&lt;week, priors_count=0)</td>\n",
       "      <td>0.140598</td>\n",
       "      <td>8.425313</td>\n",
       "    </tr>\n",
       "    <tr>\n",
       "      <th>90</th>\n",
       "      <td>0.146630</td>\n",
       "      <td>(length_of_stay=&lt;week, priors_count=0, c_charge_degree=M)</td>\n",
       "      <td>0.132859</td>\n",
       "      <td>8.634280</td>\n",
       "    </tr>\n",
       "    <tr>\n",
       "      <th>83</th>\n",
       "      <td>0.155541</td>\n",
       "      <td>(priors_count=0, c_charge_degree=M)</td>\n",
       "      <td>0.128508</td>\n",
       "      <td>8.516132</td>\n",
       "    </tr>\n",
       "    <tr>\n",
       "      <th>106</th>\n",
       "      <td>0.133020</td>\n",
       "      <td>(race=Caucasian, priors_count=0)</td>\n",
       "      <td>0.128493</td>\n",
       "      <td>7.966142</td>\n",
       "    </tr>\n",
       "    <tr>\n",
       "      <th>88</th>\n",
       "      <td>0.148250</td>\n",
       "      <td>(age_cat=25 - 45, length_of_stay=&lt;week, priors_count=0)</td>\n",
       "      <td>0.119013</td>\n",
       "      <td>7.641727</td>\n",
       "    </tr>\n",
       "  </tbody>\n",
       "</table>\n",
       "</div>"
      ],
      "text/plain": [
       "      support                                                   itemsets  \\\n",
       "129  0.118600     (race=Caucasian, length_of_stay=<week, priors_count=0)   \n",
       "90   0.146630  (length_of_stay=<week, priors_count=0, c_charge_degree=M)   \n",
       "83   0.155541                        (priors_count=0, c_charge_degree=M)   \n",
       "106  0.133020                           (race=Caucasian, priors_count=0)   \n",
       "88   0.148250    (age_cat=25 - 45, length_of_stay=<week, priors_count=0)   \n",
       "\n",
       "     d_accuracy  t_value_tp_tn  \n",
       "129    0.140598       8.425313  \n",
       "90     0.132859       8.634280  \n",
       "83     0.128508       8.516132  \n",
       "106    0.128493       7.966142  \n",
       "88     0.119013       7.641727  "
      ]
     },
     "execution_count": 57,
     "metadata": {},
     "output_type": "execute_result"
    }
   ],
   "source": [
    "fp_divergence_ofI.getDivergence(th_redundancy=0)[[\"support\", \"itemsets\",  fp_divergence_ofI.metric, fp_divergence_ofI.t_value_col]].head(5)"
   ]
  },
  {
   "cell_type": "markdown",
   "metadata": {},
   "source": [
    "Printable - threshold on redundancy"
   ]
  },
  {
   "cell_type": "code",
   "execution_count": 58,
   "metadata": {
    "ExecuteTime": {
     "end_time": "2021-03-06T17:09:09.517530Z",
     "start_time": "2021-03-06T17:09:09.499107Z"
    }
   },
   "outputs": [
    {
     "name": "stdout",
     "output_type": "stream",
     "text": [
      "compas - #FP: 57 - ACCURACY - th_redundancy: 0.01\n"
     ]
    },
    {
     "data": {
      "text/html": [
       "<div>\n",
       "<style scoped>\n",
       "    .dataframe tbody tr th:only-of-type {\n",
       "        vertical-align: middle;\n",
       "    }\n",
       "\n",
       "    .dataframe tbody tr th {\n",
       "        vertical-align: top;\n",
       "    }\n",
       "\n",
       "    .dataframe thead th {\n",
       "        text-align: right;\n",
       "    }\n",
       "</style>\n",
       "<table border=\"1\" class=\"dataframe\">\n",
       "  <thead>\n",
       "    <tr style=\"text-align: right;\">\n",
       "      <th></th>\n",
       "      <th>support</th>\n",
       "      <th>itemsets</th>\n",
       "      <th>d_accuracy</th>\n",
       "      <th>t_value_tp_tn</th>\n",
       "    </tr>\n",
       "  </thead>\n",
       "  <tbody>\n",
       "    <tr>\n",
       "      <th>129</th>\n",
       "      <td>0.118600</td>\n",
       "      <td>(race=Caucasian, length_of_stay=&lt;week, priors_count=0)</td>\n",
       "      <td>0.140598</td>\n",
       "      <td>8.425313</td>\n",
       "    </tr>\n",
       "    <tr>\n",
       "      <th>83</th>\n",
       "      <td>0.155541</td>\n",
       "      <td>(priors_count=0, c_charge_degree=M)</td>\n",
       "      <td>0.128508</td>\n",
       "      <td>8.516132</td>\n",
       "    </tr>\n",
       "    <tr>\n",
       "      <th>106</th>\n",
       "      <td>0.133020</td>\n",
       "      <td>(race=Caucasian, priors_count=0)</td>\n",
       "      <td>0.128493</td>\n",
       "      <td>7.966142</td>\n",
       "    </tr>\n",
       "    <tr>\n",
       "      <th>73</th>\n",
       "      <td>0.166235</td>\n",
       "      <td>(age_cat=25 - 45, priors_count=0)</td>\n",
       "      <td>0.113571</td>\n",
       "      <td>7.606603</td>\n",
       "    </tr>\n",
       "    <tr>\n",
       "      <th>76</th>\n",
       "      <td>0.158782</td>\n",
       "      <td>(length_of_stay=&lt;week, age_cat=Greater than 45)</td>\n",
       "      <td>0.109885</td>\n",
       "      <td>7.190067</td>\n",
       "    </tr>\n",
       "  </tbody>\n",
       "</table>\n",
       "</div>"
      ],
      "text/plain": [
       "      support                                                itemsets  \\\n",
       "129  0.118600  (race=Caucasian, length_of_stay=<week, priors_count=0)   \n",
       "83   0.155541                     (priors_count=0, c_charge_degree=M)   \n",
       "106  0.133020                        (race=Caucasian, priors_count=0)   \n",
       "73   0.166235                       (age_cat=25 - 45, priors_count=0)   \n",
       "76   0.158782         (length_of_stay=<week, age_cat=Greater than 45)   \n",
       "\n",
       "     d_accuracy  t_value_tp_tn  \n",
       "129    0.140598       8.425313  \n",
       "83     0.128508       8.516132  \n",
       "106    0.128493       7.966142  \n",
       "73     0.113571       7.606603  \n",
       "76     0.109885       7.190067  "
      ]
     },
     "metadata": {},
     "output_type": "display_data"
    }
   ],
   "source": [
    "th_redundancy=0.01\n",
    "div_ofI=fp_divergence_ofI.getDivergence(th_redundancy=th_redundancy)[[\"support\", \"itemsets\",  fp_divergence_ofI.metric, fp_divergence_ofI.t_value_col]]\n",
    "print(f\"{dataset_name} - #FP: {len(div_ofI)-1} - {fp_divergence_ofI.metric_name} - th_redundancy: {th_redundancy}\")\n",
    "display(div_ofI.head(5))"
   ]
  },
  {
   "cell_type": "code",
   "execution_count": 59,
   "metadata": {
    "ExecuteTime": {
     "end_time": "2021-03-06T17:09:09.532471Z",
     "start_time": "2021-03-06T17:09:09.518888Z"
    }
   },
   "outputs": [
    {
     "data": {
      "text/html": [
       "<div>\n",
       "<style scoped>\n",
       "    .dataframe tbody tr th:only-of-type {\n",
       "        vertical-align: middle;\n",
       "    }\n",
       "\n",
       "    .dataframe tbody tr th {\n",
       "        vertical-align: top;\n",
       "    }\n",
       "\n",
       "    .dataframe thead th {\n",
       "        text-align: right;\n",
       "    }\n",
       "</style>\n",
       "<table border=\"1\" class=\"dataframe\">\n",
       "  <thead>\n",
       "    <tr style=\"text-align: right;\">\n",
       "      <th></th>\n",
       "      <th>itemsets</th>\n",
       "      <th>d_accuracy</th>\n",
       "    </tr>\n",
       "  </thead>\n",
       "  <tbody>\n",
       "    <tr>\n",
       "      <th>129</th>\n",
       "      <td>(race=Caucasian, length_of_stay=&lt;week, priors_count=0)</td>\n",
       "      <td>0.140598</td>\n",
       "    </tr>\n",
       "    <tr>\n",
       "      <th>90</th>\n",
       "      <td>(length_of_stay=&lt;week, priors_count=0, c_charge_degree=M)</td>\n",
       "      <td>0.132859</td>\n",
       "    </tr>\n",
       "    <tr>\n",
       "      <th>83</th>\n",
       "      <td>(priors_count=0, c_charge_degree=M)</td>\n",
       "      <td>0.128508</td>\n",
       "    </tr>\n",
       "    <tr>\n",
       "      <th>106</th>\n",
       "      <td>(race=Caucasian, priors_count=0)</td>\n",
       "      <td>0.128493</td>\n",
       "    </tr>\n",
       "    <tr>\n",
       "      <th>88</th>\n",
       "      <td>(age_cat=25 - 45, length_of_stay=&lt;week, priors_count=0)</td>\n",
       "      <td>0.119013</td>\n",
       "    </tr>\n",
       "    <tr>\n",
       "      <th>73</th>\n",
       "      <td>(age_cat=25 - 45, priors_count=0)</td>\n",
       "      <td>0.113571</td>\n",
       "    </tr>\n",
       "    <tr>\n",
       "      <th>152</th>\n",
       "      <td>(length_of_stay=&lt;week, priors_count=0, sex=Male, c_charge_degree=M)</td>\n",
       "      <td>0.112803</td>\n",
       "    </tr>\n",
       "    <tr>\n",
       "      <th>76</th>\n",
       "      <td>(length_of_stay=&lt;week, age_cat=Greater than 45)</td>\n",
       "      <td>0.109885</td>\n",
       "    </tr>\n",
       "    <tr>\n",
       "      <th>142</th>\n",
       "      <td>(age_cat=25 - 45, length_of_stay=&lt;week, priors_count=0, sex=Male)</td>\n",
       "      <td>0.108822</td>\n",
       "    </tr>\n",
       "    <tr>\n",
       "      <th>138</th>\n",
       "      <td>(priors_count=0, sex=Male, c_charge_degree=M)</td>\n",
       "      <td>0.108523</td>\n",
       "    </tr>\n",
       "  </tbody>\n",
       "</table>\n",
       "</div>"
      ],
      "text/plain": [
       "                                                                itemsets  \\\n",
       "129               (race=Caucasian, length_of_stay=<week, priors_count=0)   \n",
       "90             (length_of_stay=<week, priors_count=0, c_charge_degree=M)   \n",
       "83                                   (priors_count=0, c_charge_degree=M)   \n",
       "106                                     (race=Caucasian, priors_count=0)   \n",
       "88               (age_cat=25 - 45, length_of_stay=<week, priors_count=0)   \n",
       "73                                     (age_cat=25 - 45, priors_count=0)   \n",
       "152  (length_of_stay=<week, priors_count=0, sex=Male, c_charge_degree=M)   \n",
       "76                       (length_of_stay=<week, age_cat=Greater than 45)   \n",
       "142    (age_cat=25 - 45, length_of_stay=<week, priors_count=0, sex=Male)   \n",
       "138                        (priors_count=0, sex=Male, c_charge_degree=M)   \n",
       "\n",
       "     d_accuracy  \n",
       "129    0.140598  \n",
       "90     0.132859  \n",
       "83     0.128508  \n",
       "106    0.128493  \n",
       "88     0.119013  \n",
       "73     0.113571  \n",
       "152    0.112803  \n",
       "76     0.109885  \n",
       "142    0.108822  \n",
       "138    0.108523  "
      ]
     },
     "execution_count": 59,
     "metadata": {},
     "output_type": "execute_result"
    }
   ],
   "source": [
    "fp_divergence_ofI.getDivergenceTopKDf(K=10, th_redundancy=0)"
   ]
  },
  {
   "cell_type": "markdown",
   "metadata": {
    "ExecuteTime": {
     "end_time": "2020-08-10T10:09:51.315210Z",
     "start_time": "2020-08-10T10:09:51.310814Z"
    }
   },
   "source": [
    "### Shapley value of TOP-K patterns"
   ]
  },
  {
   "cell_type": "code",
   "execution_count": 60,
   "metadata": {
    "ExecuteTime": {
     "end_time": "2021-03-06T17:09:09.548259Z",
     "start_time": "2021-03-06T17:09:09.534772Z"
    }
   },
   "outputs": [
    {
     "data": {
      "text/plain": [
       "{frozenset({'length_of_stay=<week',\n",
       "            'priors_count=0',\n",
       "            'race=Caucasian'}): 0.1405979409921061,\n",
       " frozenset({'c_charge_degree=M',\n",
       "            'length_of_stay=<week',\n",
       "            'priors_count=0'}): 0.13285860578696163,\n",
       " frozenset({'c_charge_degree=M', 'priors_count=0'}): 0.1285077770576798,\n",
       " frozenset({'priors_count=0', 'race=Caucasian'}): 0.12849255172272245,\n",
       " frozenset({'age_cat=25 - 45',\n",
       "            'length_of_stay=<week',\n",
       "            'priors_count=0'}): 0.1190132415385542}"
      ]
     },
     "execution_count": 60,
     "metadata": {},
     "output_type": "execute_result"
    }
   ],
   "source": [
    "topK_ofI=fp_divergence_ofI.getDivergenceTopK(K=5, th_redundancy=0)\n",
    "topK_ofI"
   ]
  },
  {
   "cell_type": "code",
   "execution_count": 61,
   "metadata": {
    "ExecuteTime": {
     "end_time": "2021-03-06T17:09:09.968522Z",
     "start_time": "2021-03-06T17:09:09.549484Z"
    },
    "scrolled": true
   },
   "outputs": [
    {
     "data": {
      "image/png": "[encoded data removed]",
      "text/plain": [
       "<Figure size 400x300 with 1 Axes>"
      ]
     },
     "metadata": {
      "needs_background": "light"
     },
     "output_type": "display_data"
    },
    {
     "data": {
      "image/png": "[encoded data removed]",
      "text/plain": [
       "<Figure size 400x300 with 1 Axes>"
      ]
     },
     "metadata": {
      "needs_background": "light"
     },
     "output_type": "display_data"
    },
    {
     "data": {
      "image/png": "[encoded data removed]",
      "text/plain": [
       "<Figure size 400x300 with 1 Axes>"
      ]
     },
     "metadata": {
      "needs_background": "light"
     },
     "output_type": "display_data"
    },
    {
     "data": {
      "image/png": "[encoded data removed]",
      "text/plain": [
       "<Figure size 400x300 with 1 Axes>"
      ]
     },
     "metadata": {
      "needs_background": "light"
     },
     "output_type": "display_data"
    },
    {
     "data": {
      "image/png": "[encoded data removed]",
      "text/plain": [
       "<Figure size 400x300 with 1 Axes>"
      ]
     },
     "metadata": {
      "needs_background": "light"
     },
     "output_type": "display_data"
    }
   ],
   "source": [
    "topK_ofI=fp_divergence_ofI.getDivergenceTopK(K=5, th_redundancy=0)\n",
    "for item in topK_ofI.keys():\n",
    "    fp_divergence_ofI.plotShapleyValue(item)"
   ]
  },
  {
   "cell_type": "code",
   "execution_count": 62,
   "metadata": {
    "ExecuteTime": {
     "end_time": "2021-03-06T17:09:10.058561Z",
     "start_time": "2021-03-06T17:09:09.969910Z"
    }
   },
   "outputs": [
    {
     "name": "stdout",
     "output_type": "stream",
     "text": [
      "{frozenset({'race=Caucasian', 'length_of_stay=<week', 'priors_count=0'}): 0.1405979409921061}\n",
      "{frozenset({'race=Caucasian'}): 0.03276797432372586, frozenset({'length_of_stay=<week'}): 0.013688858066902398, frozenset({'priors_count=0'}): 0.09414110860147784}\n"
     ]
    },
    {
     "data": {
      "image/png": "[encoded data removed]",
      "text/plain": [
       "<Figure size 130x120 with 1 Axes>"
      ]
     },
     "metadata": {
      "needs_background": "light"
     },
     "output_type": "display_data"
    }
   ],
   "source": [
    "outputName=f\"{outDirShap}/{dataset_name}_shap_{fp_divergence_ofI.metric_name}_{min_sup}\"\n",
    "itemset_div=fp_divergence_ofI.getDivergenceTopK(K=1, th_redundancy=0)\n",
    "print(itemset_div)\n",
    "itemset_shap=fp_divergence_ofI.computeShapleyValue(list(itemset_div.keys())[0])\n",
    "print(itemset_shap)\n",
    "fp_divergence_ofI.plotShapleyValue(shapley_values=itemset_shap, abbreviations=abbreviations,\\\n",
    "                 height=0.4,\\\n",
    "                 title=f\"{dataset_name} -\", sizeFig=(1.3,1.2), labelsize=8, saveFig=saveFig, nameFig=outputName)"
   ]
  },
  {
   "cell_type": "markdown",
   "metadata": {},
   "source": [
    "#### Lattice Explorer"
   ]
  },
  {
   "cell_type": "code",
   "execution_count": 63,
   "metadata": {
    "ExecuteTime": {
     "end_time": "2021-03-06T17:09:10.213417Z",
     "start_time": "2021-03-06T17:09:10.060370Z"
    },
    "scrolled": true
   },
   "outputs": [],
   "source": [
    "top1=list(fp_divergence_ofI.getDivergenceTopK(K=1, th_redundancy=0).keys())[0]\n",
    "fig1=fp_divergence_ofI.plotLatticeItemset(top1, Th_divergence=0.15, sizeDot=\"small\", getLower=True)"
   ]
  },
  {
   "cell_type": "markdown",
   "metadata": {},
   "source": [
    "### Corrective"
   ]
  },
  {
   "cell_type": "markdown",
   "metadata": {},
   "source": [
    "Given an itemset $I$ and an item $i \\not\\in I$, we say that $i$ is a *corrective item* for $I$ if \n",
    "$|\\Delta(I \\cup i)|<|\\Delta(I)|$.\n",
    "\n",
    "\n",
    "The *corrective factor* of $i$ w.r.t.\\ $I$ is \n",
    "$|\\Delta(I)| - |\\Delta(I \\cup i)|$."
   ]
  },
  {
   "cell_type": "code",
   "execution_count": 64,
   "metadata": {
    "ExecuteTime": {
     "end_time": "2021-03-06T17:09:10.277292Z",
     "start_time": "2021-03-06T17:09:10.215313Z"
    },
    "scrolled": true
   },
   "outputs": [
    {
     "data": {
      "text/html": [
       "<div>\n",
       "<style scoped>\n",
       "    .dataframe tbody tr th:only-of-type {\n",
       "        vertical-align: middle;\n",
       "    }\n",
       "\n",
       "    .dataframe tbody tr th {\n",
       "        vertical-align: top;\n",
       "    }\n",
       "\n",
       "    .dataframe thead th {\n",
       "        text-align: right;\n",
       "    }\n",
       "</style>\n",
       "<table border=\"1\" class=\"dataframe\">\n",
       "  <thead>\n",
       "    <tr style=\"text-align: right;\">\n",
       "      <th></th>\n",
       "      <th>item i</th>\n",
       "      <th>S</th>\n",
       "      <th>S+i</th>\n",
       "      <th>v_i</th>\n",
       "      <th>v_S</th>\n",
       "      <th>v_S+i</th>\n",
       "      <th>t_value_corr</th>\n",
       "      <th>corr_factor</th>\n",
       "    </tr>\n",
       "  </thead>\n",
       "  <tbody>\n",
       "    <tr>\n",
       "      <th>291</th>\n",
       "      <td>(race=African-American)</td>\n",
       "      <td>(priors_count=0, sex=Male)</td>\n",
       "      <td>(priors_count=0, sex=Male, race=African-American)</td>\n",
       "      <td>-0.023913</td>\n",
       "      <td>0.076534</td>\n",
       "      <td>0.015379</td>\n",
       "      <td>2.776289</td>\n",
       "      <td>0.061155</td>\n",
       "    </tr>\n",
       "    <tr>\n",
       "      <th>261</th>\n",
       "      <td>(race=African-American)</td>\n",
       "      <td>(length_of_stay=&lt;week, priors_count=0)</td>\n",
       "      <td>(length_of_stay=&lt;week, priors_count=0, race=African-American)</td>\n",
       "      <td>-0.023913</td>\n",
       "      <td>0.101443</td>\n",
       "      <td>0.043215</td>\n",
       "      <td>2.955671</td>\n",
       "      <td>0.058229</td>\n",
       "    </tr>\n",
       "    <tr>\n",
       "      <th>97</th>\n",
       "      <td>(race=African-American)</td>\n",
       "      <td>(priors_count=0)</td>\n",
       "      <td>(priors_count=0, race=African-American)</td>\n",
       "      <td>-0.023913</td>\n",
       "      <td>0.092626</td>\n",
       "      <td>0.039767</td>\n",
       "      <td>2.818701</td>\n",
       "      <td>0.052860</td>\n",
       "    </tr>\n",
       "    <tr>\n",
       "      <th>297</th>\n",
       "      <td>(priors_count=[1,3])</td>\n",
       "      <td>(length_of_stay=&lt;week, c_charge_degree=M)</td>\n",
       "      <td>(length_of_stay=&lt;week, c_charge_degree=M, priors_count=[1,3])</td>\n",
       "      <td>-0.023711</td>\n",
       "      <td>0.044867</td>\n",
       "      <td>-0.007410</td>\n",
       "      <td>2.381362</td>\n",
       "      <td>0.037457</td>\n",
       "    </tr>\n",
       "    <tr>\n",
       "      <th>246</th>\n",
       "      <td>(race=African-American)</td>\n",
       "      <td>(length_of_stay=&lt;week, c_charge_degree=M)</td>\n",
       "      <td>(length_of_stay=&lt;week, c_charge_degree=M, race=African-American)</td>\n",
       "      <td>-0.023913</td>\n",
       "      <td>0.044867</td>\n",
       "      <td>-0.009307</td>\n",
       "      <td>2.676936</td>\n",
       "      <td>0.035560</td>\n",
       "    </tr>\n",
       "  </tbody>\n",
       "</table>\n",
       "</div>"
      ],
      "text/plain": [
       "                      item i                                          S  \\\n",
       "291  (race=African-American)                 (priors_count=0, sex=Male)   \n",
       "261  (race=African-American)     (length_of_stay=<week, priors_count=0)   \n",
       "97   (race=African-American)                           (priors_count=0)   \n",
       "297     (priors_count=[1,3])  (length_of_stay=<week, c_charge_degree=M)   \n",
       "246  (race=African-American)  (length_of_stay=<week, c_charge_degree=M)   \n",
       "\n",
       "                                                                  S+i  \\\n",
       "291                 (priors_count=0, sex=Male, race=African-American)   \n",
       "261     (length_of_stay=<week, priors_count=0, race=African-American)   \n",
       "97                            (priors_count=0, race=African-American)   \n",
       "297     (length_of_stay=<week, c_charge_degree=M, priors_count=[1,3])   \n",
       "246  (length_of_stay=<week, c_charge_degree=M, race=African-American)   \n",
       "\n",
       "          v_i       v_S     v_S+i  t_value_corr  corr_factor  \n",
       "291 -0.023913  0.076534  0.015379      2.776289     0.061155  \n",
       "261 -0.023913  0.101443  0.043215      2.955671     0.058229  \n",
       "97  -0.023913  0.092626  0.039767      2.818701     0.052860  \n",
       "297 -0.023711  0.044867 -0.007410      2.381362     0.037457  \n",
       "246 -0.023913  0.044867 -0.009307      2.676936     0.035560  "
      ]
     },
     "execution_count": 64,
     "metadata": {},
     "output_type": "execute_result"
    }
   ],
   "source": [
    "#Significant corrective items based on t-value of difference\n",
    "corrSign=fp_divergence_ofI.getCorrectiveItems()\n",
    "corrSign.head(5)"
   ]
  },
  {
   "cell_type": "markdown",
   "metadata": {},
   "source": [
    "Only itemsets with positive divergence"
   ]
  },
  {
   "cell_type": "code",
   "execution_count": 65,
   "metadata": {
    "ExecuteTime": {
     "end_time": "2021-03-06T17:09:10.300131Z",
     "start_time": "2021-03-06T17:09:10.278898Z"
    }
   },
   "outputs": [
    {
     "data": {
      "text/html": [
       "<div>\n",
       "<style scoped>\n",
       "    .dataframe tbody tr th:only-of-type {\n",
       "        vertical-align: middle;\n",
       "    }\n",
       "\n",
       "    .dataframe tbody tr th {\n",
       "        vertical-align: top;\n",
       "    }\n",
       "\n",
       "    .dataframe thead th {\n",
       "        text-align: right;\n",
       "    }\n",
       "</style>\n",
       "<table border=\"1\" class=\"dataframe\">\n",
       "  <thead>\n",
       "    <tr style=\"text-align: right;\">\n",
       "      <th></th>\n",
       "      <th>item i</th>\n",
       "      <th>S</th>\n",
       "      <th>S+i</th>\n",
       "      <th>v_i</th>\n",
       "      <th>v_S</th>\n",
       "      <th>v_S+i</th>\n",
       "      <th>t_value_corr</th>\n",
       "      <th>corr_factor</th>\n",
       "    </tr>\n",
       "  </thead>\n",
       "  <tbody>\n",
       "    <tr>\n",
       "      <th>291</th>\n",
       "      <td>(race=African-American)</td>\n",
       "      <td>(priors_count=0, sex=Male)</td>\n",
       "      <td>(priors_count=0, sex=Male, race=African-American)</td>\n",
       "      <td>-0.023913</td>\n",
       "      <td>0.076534</td>\n",
       "      <td>0.015379</td>\n",
       "      <td>2.776289</td>\n",
       "      <td>0.061155</td>\n",
       "    </tr>\n",
       "    <tr>\n",
       "      <th>261</th>\n",
       "      <td>(race=African-American)</td>\n",
       "      <td>(length_of_stay=&lt;week, priors_count=0)</td>\n",
       "      <td>(length_of_stay=&lt;week, priors_count=0, race=African-American)</td>\n",
       "      <td>-0.023913</td>\n",
       "      <td>0.101443</td>\n",
       "      <td>0.043215</td>\n",
       "      <td>2.955671</td>\n",
       "      <td>0.058229</td>\n",
       "    </tr>\n",
       "    <tr>\n",
       "      <th>97</th>\n",
       "      <td>(race=African-American)</td>\n",
       "      <td>(priors_count=0)</td>\n",
       "      <td>(priors_count=0, race=African-American)</td>\n",
       "      <td>-0.023913</td>\n",
       "      <td>0.092626</td>\n",
       "      <td>0.039767</td>\n",
       "      <td>2.818701</td>\n",
       "      <td>0.052860</td>\n",
       "    </tr>\n",
       "    <tr>\n",
       "      <th>297</th>\n",
       "      <td>(priors_count=[1,3])</td>\n",
       "      <td>(length_of_stay=&lt;week, c_charge_degree=M)</td>\n",
       "      <td>(length_of_stay=&lt;week, c_charge_degree=M, priors_count=[1,3])</td>\n",
       "      <td>-0.023711</td>\n",
       "      <td>0.044867</td>\n",
       "      <td>-0.007410</td>\n",
       "      <td>2.381362</td>\n",
       "      <td>0.037457</td>\n",
       "    </tr>\n",
       "    <tr>\n",
       "      <th>246</th>\n",
       "      <td>(race=African-American)</td>\n",
       "      <td>(length_of_stay=&lt;week, c_charge_degree=M)</td>\n",
       "      <td>(length_of_stay=&lt;week, c_charge_degree=M, race=African-American)</td>\n",
       "      <td>-0.023913</td>\n",
       "      <td>0.044867</td>\n",
       "      <td>-0.009307</td>\n",
       "      <td>2.676936</td>\n",
       "      <td>0.035560</td>\n",
       "    </tr>\n",
       "  </tbody>\n",
       "</table>\n",
       "</div>"
      ],
      "text/plain": [
       "                      item i                                          S  \\\n",
       "291  (race=African-American)                 (priors_count=0, sex=Male)   \n",
       "261  (race=African-American)     (length_of_stay=<week, priors_count=0)   \n",
       "97   (race=African-American)                           (priors_count=0)   \n",
       "297     (priors_count=[1,3])  (length_of_stay=<week, c_charge_degree=M)   \n",
       "246  (race=African-American)  (length_of_stay=<week, c_charge_degree=M)   \n",
       "\n",
       "                                                                  S+i  \\\n",
       "291                 (priors_count=0, sex=Male, race=African-American)   \n",
       "261     (length_of_stay=<week, priors_count=0, race=African-American)   \n",
       "97                            (priors_count=0, race=African-American)   \n",
       "297     (length_of_stay=<week, c_charge_degree=M, priors_count=[1,3])   \n",
       "246  (length_of_stay=<week, c_charge_degree=M, race=African-American)   \n",
       "\n",
       "          v_i       v_S     v_S+i  t_value_corr  corr_factor  \n",
       "291 -0.023913  0.076534  0.015379      2.776289     0.061155  \n",
       "261 -0.023913  0.101443  0.043215      2.955671     0.058229  \n",
       "97  -0.023913  0.092626  0.039767      2.818701     0.052860  \n",
       "297 -0.023711  0.044867 -0.007410      2.381362     0.037457  \n",
       "246 -0.023913  0.044867 -0.009307      2.676936     0.035560  "
      ]
     },
     "execution_count": 65,
     "metadata": {},
     "output_type": "execute_result"
    }
   ],
   "source": [
    "corrSign_pos=fp_divergence_ofI.getCorrectiveItemsPos()\n",
    "corrSign_pos.head()"
   ]
  },
  {
   "cell_type": "markdown",
   "metadata": {},
   "source": [
    "Details of $S$ and $S \\cup i$ for the top corrective items"
   ]
  },
  {
   "cell_type": "code",
   "execution_count": 66,
   "metadata": {
    "ExecuteTime": {
     "end_time": "2021-03-06T17:09:10.358112Z",
     "start_time": "2021-03-06T17:09:10.314726Z"
    },
    "scrolled": true
   },
   "outputs": [
    {
     "data": {
      "text/html": [
       "<div>\n",
       "<style scoped>\n",
       "    .dataframe tbody tr th:only-of-type {\n",
       "        vertical-align: middle;\n",
       "    }\n",
       "\n",
       "    .dataframe tbody tr th {\n",
       "        vertical-align: top;\n",
       "    }\n",
       "\n",
       "    .dataframe thead th {\n",
       "        text-align: right;\n",
       "    }\n",
       "</style>\n",
       "<table border=\"1\" class=\"dataframe\">\n",
       "  <thead>\n",
       "    <tr style=\"text-align: right;\">\n",
       "      <th></th>\n",
       "      <th>support</th>\n",
       "      <th>itemsets</th>\n",
       "      <th>tn</th>\n",
       "      <th>tp</th>\n",
       "      <th>fn</th>\n",
       "      <th>fp</th>\n",
       "      <th>d_accuracy</th>\n",
       "      <th>accuracy</th>\n",
       "      <th>t_value_tp_tn</th>\n",
       "    </tr>\n",
       "  </thead>\n",
       "  <tbody>\n",
       "    <tr>\n",
       "      <th>37</th>\n",
       "      <td>0.252430</td>\n",
       "      <td>(priors_count=0, sex=Male)</td>\n",
       "      <td>1022.0</td>\n",
       "      <td>85.0</td>\n",
       "      <td>396.0</td>\n",
       "      <td>55.0</td>\n",
       "      <td>0.076534</td>\n",
       "      <td>0.710526</td>\n",
       "      <td>5.862642</td>\n",
       "    </tr>\n",
       "    <tr>\n",
       "      <th>144</th>\n",
       "      <td>0.103046</td>\n",
       "      <td>(priors_count=0, sex=Male, race=African-American)</td>\n",
       "      <td>360.0</td>\n",
       "      <td>53.0</td>\n",
       "      <td>184.0</td>\n",
       "      <td>39.0</td>\n",
       "      <td>0.015379</td>\n",
       "      <td>0.649371</td>\n",
       "      <td>0.753259</td>\n",
       "    </tr>\n",
       "  </tbody>\n",
       "</table>\n",
       "</div>"
      ],
      "text/plain": [
       "      support                                           itemsets      tn  \\\n",
       "37   0.252430                         (priors_count=0, sex=Male)  1022.0   \n",
       "144  0.103046  (priors_count=0, sex=Male, race=African-American)   360.0   \n",
       "\n",
       "       tp     fn    fp  d_accuracy  accuracy  t_value_tp_tn  \n",
       "37   85.0  396.0  55.0    0.076534  0.710526       5.862642  \n",
       "144  53.0  184.0  39.0    0.015379  0.649371       0.753259  "
      ]
     },
     "metadata": {},
     "output_type": "display_data"
    },
    {
     "data": {
      "text/html": [
       "<div>\n",
       "<style scoped>\n",
       "    .dataframe tbody tr th:only-of-type {\n",
       "        vertical-align: middle;\n",
       "    }\n",
       "\n",
       "    .dataframe tbody tr th {\n",
       "        vertical-align: top;\n",
       "    }\n",
       "\n",
       "    .dataframe thead th {\n",
       "        text-align: right;\n",
       "    }\n",
       "</style>\n",
       "<table border=\"1\" class=\"dataframe\">\n",
       "  <thead>\n",
       "    <tr style=\"text-align: right;\">\n",
       "      <th></th>\n",
       "      <th>support</th>\n",
       "      <th>itemsets</th>\n",
       "      <th>tn</th>\n",
       "      <th>tp</th>\n",
       "      <th>fn</th>\n",
       "      <th>fp</th>\n",
       "      <th>d_accuracy</th>\n",
       "      <th>accuracy</th>\n",
       "      <th>t_value_tp_tn</th>\n",
       "    </tr>\n",
       "  </thead>\n",
       "  <tbody>\n",
       "    <tr>\n",
       "      <th>23</th>\n",
       "      <td>0.303143</td>\n",
       "      <td>(length_of_stay=&lt;week, priors_count=0)</td>\n",
       "      <td>1309.0</td>\n",
       "      <td>67.0</td>\n",
       "      <td>434.0</td>\n",
       "      <td>61.0</td>\n",
       "      <td>0.101443</td>\n",
       "      <td>0.735436</td>\n",
       "      <td>8.511401</td>\n",
       "    </tr>\n",
       "    <tr>\n",
       "      <th>121</th>\n",
       "      <td>0.122975</td>\n",
       "      <td>(length_of_stay=&lt;week, priors_count=0, race=African-American)</td>\n",
       "      <td>472.0</td>\n",
       "      <td>42.0</td>\n",
       "      <td>201.0</td>\n",
       "      <td>44.0</td>\n",
       "      <td>0.043215</td>\n",
       "      <td>0.677207</td>\n",
       "      <td>2.374896</td>\n",
       "    </tr>\n",
       "  </tbody>\n",
       "</table>\n",
       "</div>"
      ],
      "text/plain": [
       "      support                                                       itemsets  \\\n",
       "23   0.303143                         (length_of_stay=<week, priors_count=0)   \n",
       "121  0.122975  (length_of_stay=<week, priors_count=0, race=African-American)   \n",
       "\n",
       "         tn    tp     fn    fp  d_accuracy  accuracy  t_value_tp_tn  \n",
       "23   1309.0  67.0  434.0  61.0    0.101443  0.735436       8.511401  \n",
       "121   472.0  42.0  201.0  44.0    0.043215  0.677207       2.374896  "
      ]
     },
     "metadata": {},
     "output_type": "display_data"
    },
    {
     "data": {
      "text/html": [
       "<div>\n",
       "<style scoped>\n",
       "    .dataframe tbody tr th:only-of-type {\n",
       "        vertical-align: middle;\n",
       "    }\n",
       "\n",
       "    .dataframe tbody tr th {\n",
       "        vertical-align: top;\n",
       "    }\n",
       "\n",
       "    .dataframe thead th {\n",
       "        text-align: right;\n",
       "    }\n",
       "</style>\n",
       "<table border=\"1\" class=\"dataframe\">\n",
       "  <thead>\n",
       "    <tr style=\"text-align: right;\">\n",
       "      <th></th>\n",
       "      <th>support</th>\n",
       "      <th>itemsets</th>\n",
       "      <th>tn</th>\n",
       "      <th>tp</th>\n",
       "      <th>fn</th>\n",
       "      <th>fp</th>\n",
       "      <th>d_accuracy</th>\n",
       "      <th>accuracy</th>\n",
       "      <th>t_value_tp_tn</th>\n",
       "    </tr>\n",
       "  </thead>\n",
       "  <tbody>\n",
       "    <tr>\n",
       "      <th>20</th>\n",
       "      <td>0.337816</td>\n",
       "      <td>(priors_count=0)</td>\n",
       "      <td>1416.0</td>\n",
       "      <td>99.0</td>\n",
       "      <td>498.0</td>\n",
       "      <td>72.0</td>\n",
       "      <td>0.092626</td>\n",
       "      <td>0.726619</td>\n",
       "      <td>8.023810</td>\n",
       "    </tr>\n",
       "    <tr>\n",
       "      <th>100</th>\n",
       "      <td>0.137071</td>\n",
       "      <td>(priors_count=0, race=African-American)</td>\n",
       "      <td>509.0</td>\n",
       "      <td>61.0</td>\n",
       "      <td>227.0</td>\n",
       "      <td>49.0</td>\n",
       "      <td>0.039767</td>\n",
       "      <td>0.673759</td>\n",
       "      <td>2.287583</td>\n",
       "    </tr>\n",
       "  </tbody>\n",
       "</table>\n",
       "</div>"
      ],
      "text/plain": [
       "      support                                 itemsets      tn    tp     fn  \\\n",
       "20   0.337816                         (priors_count=0)  1416.0  99.0  498.0   \n",
       "100  0.137071  (priors_count=0, race=African-American)   509.0  61.0  227.0   \n",
       "\n",
       "       fp  d_accuracy  accuracy  t_value_tp_tn  \n",
       "20   72.0    0.092626  0.726619       8.023810  \n",
       "100  49.0    0.039767  0.673759       2.287583  "
      ]
     },
     "metadata": {},
     "output_type": "display_data"
    },
    {
     "data": {
      "text/html": [
       "<div>\n",
       "<style scoped>\n",
       "    .dataframe tbody tr th:only-of-type {\n",
       "        vertical-align: middle;\n",
       "    }\n",
       "\n",
       "    .dataframe tbody tr th {\n",
       "        vertical-align: top;\n",
       "    }\n",
       "\n",
       "    .dataframe thead th {\n",
       "        text-align: right;\n",
       "    }\n",
       "</style>\n",
       "<table border=\"1\" class=\"dataframe\">\n",
       "  <thead>\n",
       "    <tr style=\"text-align: right;\">\n",
       "      <th></th>\n",
       "      <th>support</th>\n",
       "      <th>itemsets</th>\n",
       "      <th>tn</th>\n",
       "      <th>tp</th>\n",
       "      <th>fn</th>\n",
       "      <th>fp</th>\n",
       "      <th>d_accuracy</th>\n",
       "      <th>accuracy</th>\n",
       "      <th>t_value_tp_tn</th>\n",
       "    </tr>\n",
       "  </thead>\n",
       "  <tbody>\n",
       "    <tr>\n",
       "      <th>24</th>\n",
       "      <td>0.301199</td>\n",
       "      <td>(length_of_stay=&lt;week, c_charge_degree=M)</td>\n",
       "      <td>1162.0</td>\n",
       "      <td>100.0</td>\n",
       "      <td>534.0</td>\n",
       "      <td>63.0</td>\n",
       "      <td>0.044867</td>\n",
       "      <td>0.678860</td>\n",
       "      <td>3.595357</td>\n",
       "    </tr>\n",
       "    <tr>\n",
       "      <th>146</th>\n",
       "      <td>0.102398</td>\n",
       "      <td>(length_of_stay=&lt;week, c_charge_degree=M, priors_count=[1,3])</td>\n",
       "      <td>380.0</td>\n",
       "      <td>16.0</td>\n",
       "      <td>219.0</td>\n",
       "      <td>17.0</td>\n",
       "      <td>-0.007410</td>\n",
       "      <td>0.626582</td>\n",
       "      <td>0.385315</td>\n",
       "    </tr>\n",
       "  </tbody>\n",
       "</table>\n",
       "</div>"
      ],
      "text/plain": [
       "      support                                                       itemsets  \\\n",
       "24   0.301199                      (length_of_stay=<week, c_charge_degree=M)   \n",
       "146  0.102398  (length_of_stay=<week, c_charge_degree=M, priors_count=[1,3])   \n",
       "\n",
       "         tn     tp     fn    fp  d_accuracy  accuracy  t_value_tp_tn  \n",
       "24   1162.0  100.0  534.0  63.0    0.044867  0.678860       3.595357  \n",
       "146   380.0   16.0  219.0  17.0   -0.007410  0.626582       0.385315  "
      ]
     },
     "metadata": {},
     "output_type": "display_data"
    }
   ],
   "source": [
    "d=fp_divergence_ofI.getCorrectiveItems()\n",
    "itemsetsOfI=d[[\"S\", \"S+i\"]].head(4).values\n",
    "for S,S_i in itemsetsOfI:\n",
    "    display(fp_divergence_ofI.getInfoItemsets([S,S_i])[INFOS])"
   ]
  },
  {
   "cell_type": "markdown",
   "metadata": {},
   "source": [
    "#### Plot Shapley comparison corrective"
   ]
  },
  {
   "cell_type": "code",
   "execution_count": 67,
   "metadata": {
    "ExecuteTime": {
     "end_time": "2021-03-06T17:09:10.363353Z",
     "start_time": "2021-03-06T17:09:10.361272Z"
    }
   },
   "outputs": [],
   "source": [
    "from divexplorer.shapley_value_FPx import plotComparisonShapleyValues, compareShapleyValues, normalizeMax"
   ]
  },
  {
   "cell_type": "code",
   "execution_count": 68,
   "metadata": {
    "ExecuteTime": {
     "end_time": "2021-03-06T17:09:10.620333Z",
     "start_time": "2021-03-06T17:09:10.364544Z"
    }
   },
   "outputs": [
    {
     "data": {
      "text/html": [
       "<div>\n",
       "<style scoped>\n",
       "    .dataframe tbody tr th:only-of-type {\n",
       "        vertical-align: middle;\n",
       "    }\n",
       "\n",
       "    .dataframe tbody tr th {\n",
       "        vertical-align: top;\n",
       "    }\n",
       "\n",
       "    .dataframe thead th {\n",
       "        text-align: right;\n",
       "    }\n",
       "</style>\n",
       "<table border=\"1\" class=\"dataframe\">\n",
       "  <thead>\n",
       "    <tr style=\"text-align: right;\">\n",
       "      <th></th>\n",
       "      <th>support</th>\n",
       "      <th>itemsets</th>\n",
       "      <th>tn</th>\n",
       "      <th>tp</th>\n",
       "      <th>fn</th>\n",
       "      <th>fp</th>\n",
       "      <th>d_accuracy</th>\n",
       "      <th>accuracy</th>\n",
       "      <th>t_value_tp_tn</th>\n",
       "    </tr>\n",
       "  </thead>\n",
       "  <tbody>\n",
       "    <tr>\n",
       "      <th>37</th>\n",
       "      <td>0.252430</td>\n",
       "      <td>(priors_count=0, sex=Male)</td>\n",
       "      <td>1022.0</td>\n",
       "      <td>85.0</td>\n",
       "      <td>396.0</td>\n",
       "      <td>55.0</td>\n",
       "      <td>0.076534</td>\n",
       "      <td>0.710526</td>\n",
       "      <td>5.862642</td>\n",
       "    </tr>\n",
       "    <tr>\n",
       "      <th>144</th>\n",
       "      <td>0.103046</td>\n",
       "      <td>(priors_count=0, sex=Male, race=African-American)</td>\n",
       "      <td>360.0</td>\n",
       "      <td>53.0</td>\n",
       "      <td>184.0</td>\n",
       "      <td>39.0</td>\n",
       "      <td>0.015379</td>\n",
       "      <td>0.649371</td>\n",
       "      <td>0.753259</td>\n",
       "    </tr>\n",
       "  </tbody>\n",
       "</table>\n",
       "</div>"
      ],
      "text/plain": [
       "      support                                           itemsets      tn  \\\n",
       "37   0.252430                         (priors_count=0, sex=Male)  1022.0   \n",
       "144  0.103046  (priors_count=0, sex=Male, race=African-American)   360.0   \n",
       "\n",
       "       tp     fn    fp  d_accuracy  accuracy  t_value_tp_tn  \n",
       "37   85.0  396.0  55.0    0.076534  0.710526       5.862642  \n",
       "144  53.0  184.0  39.0    0.015379  0.649371       0.753259  "
      ]
     },
     "metadata": {},
     "output_type": "display_data"
    },
    {
     "name": "stdout",
     "output_type": "stream",
     "text": [
      "∇ACCURACY(S):0.077 -->  ∇ACCURACY(S U i):0.015\n"
     ]
    },
    {
     "data": {
      "image/png": "[encoded data removed]",
      "text/plain": [
       "<Figure size 520x190 with 2 Axes>"
      ]
     },
     "metadata": {
      "needs_background": "light"
     },
     "output_type": "display_data"
    }
   ],
   "source": [
    "id_col=0\n",
    "fp_divergence_ofI=fp_divergence_ofI\n",
    "corrSign=fp_divergence_ofI.getCorrectiveItems()\n",
    "\n",
    "if len(corrSign)>id_col:\n",
    "    outputName=f\"{outDirShap}/{dataset_name}_shap_corrective_{fp_divergence_ofI.metric_name}_{min_sup}\"\n",
    "    S,S_i, v_S, v_Si=corrSign[[\"S\", \"S+i\", \"v_S\", \"v_S+i\"]].head(id_col+1).values[id_col].tolist()\n",
    "    display(fp_divergence_ofI.getInfoItemsets([S,S_i])[INFOS])\n",
    "    shap_itemset1=abbreviateDict(fp_divergence_ofI.computeShapleyValue(S), abbreviations)\n",
    "    shap_itemset2=abbreviateDict(fp_divergence_ofI.computeShapleyValue(S_i), abbreviations)\n",
    "    id1, id2=\"$_a$\", \"$_b$\" \n",
    "    t1, t2=f\"$∇_{{{fp_divergence_ofI.metric_name}}}$(α|I{id1})\", f\"$∇_{{{fp_divergence_ofI.metric_name}}}$(α|I{id2})\"\n",
    "    print(f\"∇{fp_divergence_ofI.metric_name}(S):{round(v_S,3)} -->  ∇{fp_divergence_ofI.metric_name}(S U i):{round(v_Si,3)}\")\n",
    "\n",
    "    plotComparisonShapleyValues(shap_itemset1, shap_itemset2, height=[0.3, 0.4], sharedAxis=True, \\\n",
    "                        sizeFig=(5.2, 1.9), title=[t1,t2], saveFig=saveFig, nameFig=outputName, pad=1.5,\\\n",
    "                               metrics_name=[fp_divergence_ofI.metric_name, fp_divergence_ofI.metric_name])"
   ]
  },
  {
   "cell_type": "markdown",
   "metadata": {},
   "source": [
    "#### Lattice"
   ]
  },
  {
   "cell_type": "code",
   "execution_count": 69,
   "metadata": {
    "ExecuteTime": {
     "end_time": "2021-03-06T17:09:10.893650Z",
     "start_time": "2021-03-06T17:09:10.621523Z"
    }
   },
   "outputs": [
    {
     "name": "stdout",
     "output_type": "stream",
     "text": [
      "frozenset({'priors_count=0', 'sex=Male', 'race=African-American'})\n"
     ]
    }
   ],
   "source": [
    "id_col=0\n",
    "fp_divergence_ofI=fp_divergence_ofI\n",
    "corrSign=fp_divergence_ofI.getCorrectiveItems()\n",
    "if len(corrSign)>id_col:\n",
    "    S_i=corrSign[[\"S+i\"]].head(id_col+1).values[id_col][0]\n",
    "    print(S_i)\n",
    "    fig1=fp_divergence_ofI.plotLatticeItemset(S_i, Th_divergence=0.15, sizeDot=\"small\", getLower=True)\n",
    "    if saveFig:\n",
    "        fig1.write_image(f\"{outDirLattice}/lattice_corrective_{dataset_name}_{fp_divergence_ofI.metric_name}_{min_sup}.pdf\")"
   ]
  },
  {
   "cell_type": "markdown",
   "metadata": {},
   "source": [
    "## Classification error"
   ]
  },
  {
   "cell_type": "code",
   "execution_count": 70,
   "metadata": {
    "ExecuteTime": {
     "end_time": "2021-03-06T17:09:10.907373Z",
     "start_time": "2021-03-06T17:09:10.895409Z"
    }
   },
   "outputs": [],
   "source": [
    "fp_divergence_ofI=FP_Divergence(FP_fm, \"d_error\")"
   ]
  },
  {
   "cell_type": "code",
   "execution_count": 71,
   "metadata": {
    "ExecuteTime": {
     "end_time": "2021-03-06T17:09:10.918692Z",
     "start_time": "2021-03-06T17:09:10.913359Z"
    }
   },
   "outputs": [],
   "source": [
    "INFOS=ITEMSETS+[fp_divergence_ofI.metric, fp_divergence_ofI.metric_name.lower(), fp_divergence_ofI.t_value_col]"
   ]
  },
  {
   "cell_type": "code",
   "execution_count": 72,
   "metadata": {
    "ExecuteTime": {
     "end_time": "2021-03-06T17:09:10.934436Z",
     "start_time": "2021-03-06T17:09:10.921775Z"
    },
    "scrolled": true
   },
   "outputs": [
    {
     "data": {
      "text/html": [
       "<div>\n",
       "<style scoped>\n",
       "    .dataframe tbody tr th:only-of-type {\n",
       "        vertical-align: middle;\n",
       "    }\n",
       "\n",
       "    .dataframe tbody tr th {\n",
       "        vertical-align: top;\n",
       "    }\n",
       "\n",
       "    .dataframe thead th {\n",
       "        text-align: right;\n",
       "    }\n",
       "</style>\n",
       "<table border=\"1\" class=\"dataframe\">\n",
       "  <thead>\n",
       "    <tr style=\"text-align: right;\">\n",
       "      <th></th>\n",
       "      <th>support</th>\n",
       "      <th>itemsets</th>\n",
       "      <th>tn</th>\n",
       "      <th>tp</th>\n",
       "      <th>fn</th>\n",
       "      <th>fp</th>\n",
       "      <th>d_error</th>\n",
       "      <th>error</th>\n",
       "      <th>t_value_fp_fn</th>\n",
       "    </tr>\n",
       "  </thead>\n",
       "  <tbody>\n",
       "    <tr>\n",
       "      <th>0</th>\n",
       "      <td>1.0</td>\n",
       "      <td>()</td>\n",
       "      <td>3066.0</td>\n",
       "      <td>847.0</td>\n",
       "      <td>1962.0</td>\n",
       "      <td>297.0</td>\n",
       "      <td>0.0</td>\n",
       "      <td>0.366008</td>\n",
       "      <td>0.0</td>\n",
       "    </tr>\n",
       "  </tbody>\n",
       "</table>\n",
       "</div>"
      ],
      "text/plain": [
       "   support itemsets      tn     tp      fn     fp  d_error     error  \\\n",
       "0      1.0       ()  3066.0  847.0  1962.0  297.0      0.0  0.366008   \n",
       "\n",
       "   t_value_fp_fn  \n",
       "0            0.0  "
      ]
     },
     "execution_count": 72,
     "metadata": {},
     "output_type": "execute_result"
    }
   ],
   "source": [
    "fp_divergence_ofI.getInfoItemset(frozenset())[INFOS]"
   ]
  },
  {
   "cell_type": "markdown",
   "metadata": {},
   "source": [
    "### Top K"
   ]
  },
  {
   "cell_type": "code",
   "execution_count": 73,
   "metadata": {
    "ExecuteTime": {
     "end_time": "2021-03-06T17:09:10.961929Z",
     "start_time": "2021-03-06T17:09:10.936575Z"
    }
   },
   "outputs": [
    {
     "data": {
      "text/html": [
       "<div>\n",
       "<style scoped>\n",
       "    .dataframe tbody tr th:only-of-type {\n",
       "        vertical-align: middle;\n",
       "    }\n",
       "\n",
       "    .dataframe tbody tr th {\n",
       "        vertical-align: top;\n",
       "    }\n",
       "\n",
       "    .dataframe thead th {\n",
       "        text-align: right;\n",
       "    }\n",
       "</style>\n",
       "<table border=\"1\" class=\"dataframe\">\n",
       "  <thead>\n",
       "    <tr style=\"text-align: right;\">\n",
       "      <th></th>\n",
       "      <th>support</th>\n",
       "      <th>itemsets</th>\n",
       "      <th>tn</th>\n",
       "      <th>tp</th>\n",
       "      <th>fn</th>\n",
       "      <th>fp</th>\n",
       "      <th>d_error</th>\n",
       "      <th>error</th>\n",
       "      <th>t_value_fp_fn</th>\n",
       "    </tr>\n",
       "  </thead>\n",
       "  <tbody>\n",
       "    <tr>\n",
       "      <th>151</th>\n",
       "      <td>0.101264</td>\n",
       "      <td>(length_of_stay=&lt;week, age_cat=Less than 25, race=African-American)</td>\n",
       "      <td>218.0</td>\n",
       "      <td>117.0</td>\n",
       "      <td>242.0</td>\n",
       "      <td>48.0</td>\n",
       "      <td>0.097992</td>\n",
       "      <td>0.464000</td>\n",
       "      <td>4.709274</td>\n",
       "    </tr>\n",
       "    <tr>\n",
       "      <th>104</th>\n",
       "      <td>0.134964</td>\n",
       "      <td>(length_of_stay=&lt;week, age_cat=Less than 25, sex=Male)</td>\n",
       "      <td>304.0</td>\n",
       "      <td>145.0</td>\n",
       "      <td>327.0</td>\n",
       "      <td>57.0</td>\n",
       "      <td>0.094977</td>\n",
       "      <td>0.460984</td>\n",
       "      <td>5.193325</td>\n",
       "    </tr>\n",
       "    <tr>\n",
       "      <th>141</th>\n",
       "      <td>0.107583</td>\n",
       "      <td>(age_cat=Less than 25, sex=Male, race=African-American)</td>\n",
       "      <td>185.0</td>\n",
       "      <td>176.0</td>\n",
       "      <td>251.0</td>\n",
       "      <td>52.0</td>\n",
       "      <td>0.090318</td>\n",
       "      <td>0.456325</td>\n",
       "      <td>4.467250</td>\n",
       "    </tr>\n",
       "    <tr>\n",
       "      <th>107</th>\n",
       "      <td>0.133020</td>\n",
       "      <td>(c_charge_degree=F, age_cat=Less than 25, sex=Male)</td>\n",
       "      <td>252.0</td>\n",
       "      <td>195.0</td>\n",
       "      <td>309.0</td>\n",
       "      <td>65.0</td>\n",
       "      <td>0.089534</td>\n",
       "      <td>0.455542</td>\n",
       "      <td>4.869280</td>\n",
       "    </tr>\n",
       "    <tr>\n",
       "      <th>64</th>\n",
       "      <td>0.178386</td>\n",
       "      <td>(age_cat=Less than 25, sex=Male)</td>\n",
       "      <td>357.0</td>\n",
       "      <td>247.0</td>\n",
       "      <td>414.0</td>\n",
       "      <td>83.0</td>\n",
       "      <td>0.085400</td>\n",
       "      <td>0.451408</td>\n",
       "      <td>5.279817</td>\n",
       "    </tr>\n",
       "    <tr>\n",
       "      <th>94</th>\n",
       "      <td>0.142417</td>\n",
       "      <td>(age_cat=25 - 45, priors_count=&gt;3, length_of_stay=&lt;week)</td>\n",
       "      <td>230.0</td>\n",
       "      <td>254.0</td>\n",
       "      <td>333.0</td>\n",
       "      <td>62.0</td>\n",
       "      <td>0.083367</td>\n",
       "      <td>0.449374</td>\n",
       "      <td>4.677985</td>\n",
       "    </tr>\n",
       "    <tr>\n",
       "      <th>56</th>\n",
       "      <td>0.194426</td>\n",
       "      <td>(priors_count=&gt;3, length_of_stay=&lt;week)</td>\n",
       "      <td>349.0</td>\n",
       "      <td>312.0</td>\n",
       "      <td>457.0</td>\n",
       "      <td>82.0</td>\n",
       "      <td>0.083159</td>\n",
       "      <td>0.449167</td>\n",
       "      <td>5.334509</td>\n",
       "    </tr>\n",
       "    <tr>\n",
       "      <th>127</th>\n",
       "      <td>0.120058</td>\n",
       "      <td>(c_charge_degree=F, length_of_stay=&lt;week, age_cat=Less than 25)</td>\n",
       "      <td>275.0</td>\n",
       "      <td>134.0</td>\n",
       "      <td>275.0</td>\n",
       "      <td>57.0</td>\n",
       "      <td>0.082035</td>\n",
       "      <td>0.448043</td>\n",
       "      <td>4.269873</td>\n",
       "    </tr>\n",
       "    <tr>\n",
       "      <th>72</th>\n",
       "      <td>0.169313</td>\n",
       "      <td>(priors_count=&gt;3, length_of_stay=&lt;week, sex=Male)</td>\n",
       "      <td>297.0</td>\n",
       "      <td>280.0</td>\n",
       "      <td>398.0</td>\n",
       "      <td>70.0</td>\n",
       "      <td>0.081839</td>\n",
       "      <td>0.447847</td>\n",
       "      <td>4.951597</td>\n",
       "    </tr>\n",
       "    <tr>\n",
       "      <th>108</th>\n",
       "      <td>0.131076</td>\n",
       "      <td>(age_cat=Less than 25, race=African-American)</td>\n",
       "      <td>252.0</td>\n",
       "      <td>196.0</td>\n",
       "      <td>295.0</td>\n",
       "      <td>66.0</td>\n",
       "      <td>0.080222</td>\n",
       "      <td>0.446230</td>\n",
       "      <td>4.343255</td>\n",
       "    </tr>\n",
       "  </tbody>\n",
       "</table>\n",
       "</div>"
      ],
      "text/plain": [
       "      support  \\\n",
       "151  0.101264   \n",
       "104  0.134964   \n",
       "141  0.107583   \n",
       "107  0.133020   \n",
       "64   0.178386   \n",
       "94   0.142417   \n",
       "56   0.194426   \n",
       "127  0.120058   \n",
       "72   0.169313   \n",
       "108  0.131076   \n",
       "\n",
       "                                                                itemsets  \\\n",
       "151  (length_of_stay=<week, age_cat=Less than 25, race=African-American)   \n",
       "104               (length_of_stay=<week, age_cat=Less than 25, sex=Male)   \n",
       "141              (age_cat=Less than 25, sex=Male, race=African-American)   \n",
       "107                  (c_charge_degree=F, age_cat=Less than 25, sex=Male)   \n",
       "64                                      (age_cat=Less than 25, sex=Male)   \n",
       "94              (age_cat=25 - 45, priors_count=>3, length_of_stay=<week)   \n",
       "56                               (priors_count=>3, length_of_stay=<week)   \n",
       "127      (c_charge_degree=F, length_of_stay=<week, age_cat=Less than 25)   \n",
       "72                     (priors_count=>3, length_of_stay=<week, sex=Male)   \n",
       "108                        (age_cat=Less than 25, race=African-American)   \n",
       "\n",
       "        tn     tp     fn    fp   d_error     error  t_value_fp_fn  \n",
       "151  218.0  117.0  242.0  48.0  0.097992  0.464000       4.709274  \n",
       "104  304.0  145.0  327.0  57.0  0.094977  0.460984       5.193325  \n",
       "141  185.0  176.0  251.0  52.0  0.090318  0.456325       4.467250  \n",
       "107  252.0  195.0  309.0  65.0  0.089534  0.455542       4.869280  \n",
       "64   357.0  247.0  414.0  83.0  0.085400  0.451408       5.279817  \n",
       "94   230.0  254.0  333.0  62.0  0.083367  0.449374       4.677985  \n",
       "56   349.0  312.0  457.0  82.0  0.083159  0.449167       5.334509  \n",
       "127  275.0  134.0  275.0  57.0  0.082035  0.448043       4.269873  \n",
       "72   297.0  280.0  398.0  70.0  0.081839  0.447847       4.951597  \n",
       "108  252.0  196.0  295.0  66.0  0.080222  0.446230       4.343255  "
      ]
     },
     "execution_count": 73,
     "metadata": {},
     "output_type": "execute_result"
    }
   ],
   "source": [
    "fp_divergence_ofI.getDivergence(th_redundancy=0)[INFOS].head(10)"
   ]
  },
  {
   "cell_type": "markdown",
   "metadata": {},
   "source": [
    "Top FPR - Only divergence info"
   ]
  },
  {
   "cell_type": "code",
   "execution_count": 74,
   "metadata": {
    "ExecuteTime": {
     "end_time": "2021-03-06T17:09:10.977567Z",
     "start_time": "2021-03-06T17:09:10.963182Z"
    }
   },
   "outputs": [
    {
     "data": {
      "text/html": [
       "<div>\n",
       "<style scoped>\n",
       "    .dataframe tbody tr th:only-of-type {\n",
       "        vertical-align: middle;\n",
       "    }\n",
       "\n",
       "    .dataframe tbody tr th {\n",
       "        vertical-align: top;\n",
       "    }\n",
       "\n",
       "    .dataframe thead th {\n",
       "        text-align: right;\n",
       "    }\n",
       "</style>\n",
       "<table border=\"1\" class=\"dataframe\">\n",
       "  <thead>\n",
       "    <tr style=\"text-align: right;\">\n",
       "      <th></th>\n",
       "      <th>support</th>\n",
       "      <th>itemsets</th>\n",
       "      <th>d_error</th>\n",
       "      <th>t_value_fp_fn</th>\n",
       "    </tr>\n",
       "  </thead>\n",
       "  <tbody>\n",
       "    <tr>\n",
       "      <th>151</th>\n",
       "      <td>0.101264</td>\n",
       "      <td>(length_of_stay=&lt;week, age_cat=Less than 25, race=African-American)</td>\n",
       "      <td>0.097992</td>\n",
       "      <td>4.709274</td>\n",
       "    </tr>\n",
       "    <tr>\n",
       "      <th>104</th>\n",
       "      <td>0.134964</td>\n",
       "      <td>(length_of_stay=&lt;week, age_cat=Less than 25, sex=Male)</td>\n",
       "      <td>0.094977</td>\n",
       "      <td>5.193325</td>\n",
       "    </tr>\n",
       "    <tr>\n",
       "      <th>141</th>\n",
       "      <td>0.107583</td>\n",
       "      <td>(age_cat=Less than 25, sex=Male, race=African-American)</td>\n",
       "      <td>0.090318</td>\n",
       "      <td>4.467250</td>\n",
       "    </tr>\n",
       "    <tr>\n",
       "      <th>107</th>\n",
       "      <td>0.133020</td>\n",
       "      <td>(c_charge_degree=F, age_cat=Less than 25, sex=Male)</td>\n",
       "      <td>0.089534</td>\n",
       "      <td>4.869280</td>\n",
       "    </tr>\n",
       "    <tr>\n",
       "      <th>64</th>\n",
       "      <td>0.178386</td>\n",
       "      <td>(age_cat=Less than 25, sex=Male)</td>\n",
       "      <td>0.085400</td>\n",
       "      <td>5.279817</td>\n",
       "    </tr>\n",
       "  </tbody>\n",
       "</table>\n",
       "</div>"
      ],
      "text/plain": [
       "      support  \\\n",
       "151  0.101264   \n",
       "104  0.134964   \n",
       "141  0.107583   \n",
       "107  0.133020   \n",
       "64   0.178386   \n",
       "\n",
       "                                                                itemsets  \\\n",
       "151  (length_of_stay=<week, age_cat=Less than 25, race=African-American)   \n",
       "104               (length_of_stay=<week, age_cat=Less than 25, sex=Male)   \n",
       "141              (age_cat=Less than 25, sex=Male, race=African-American)   \n",
       "107                  (c_charge_degree=F, age_cat=Less than 25, sex=Male)   \n",
       "64                                      (age_cat=Less than 25, sex=Male)   \n",
       "\n",
       "      d_error  t_value_fp_fn  \n",
       "151  0.097992       4.709274  \n",
       "104  0.094977       5.193325  \n",
       "141  0.090318       4.467250  \n",
       "107  0.089534       4.869280  \n",
       "64   0.085400       5.279817  "
      ]
     },
     "execution_count": 74,
     "metadata": {},
     "output_type": "execute_result"
    }
   ],
   "source": [
    "fp_divergence_ofI.getDivergence(th_redundancy=0)[[\"support\", \"itemsets\",  fp_divergence_ofI.metric, fp_divergence_ofI.t_value_col]].head(5)"
   ]
  },
  {
   "cell_type": "markdown",
   "metadata": {},
   "source": [
    "Threshold on redundancy"
   ]
  },
  {
   "cell_type": "code",
   "execution_count": 75,
   "metadata": {
    "ExecuteTime": {
     "end_time": "2021-03-06T17:09:10.993042Z",
     "start_time": "2021-03-06T17:09:10.979007Z"
    }
   },
   "outputs": [
    {
     "data": {
      "text/html": [
       "<div>\n",
       "<style scoped>\n",
       "    .dataframe tbody tr th:only-of-type {\n",
       "        vertical-align: middle;\n",
       "    }\n",
       "\n",
       "    .dataframe tbody tr th {\n",
       "        vertical-align: top;\n",
       "    }\n",
       "\n",
       "    .dataframe thead th {\n",
       "        text-align: right;\n",
       "    }\n",
       "</style>\n",
       "<table border=\"1\" class=\"dataframe\">\n",
       "  <thead>\n",
       "    <tr style=\"text-align: right;\">\n",
       "      <th></th>\n",
       "      <th>support</th>\n",
       "      <th>itemsets</th>\n",
       "      <th>d_error</th>\n",
       "      <th>t_value_fp_fn</th>\n",
       "    </tr>\n",
       "  </thead>\n",
       "  <tbody>\n",
       "    <tr>\n",
       "      <th>151</th>\n",
       "      <td>0.101264</td>\n",
       "      <td>(length_of_stay=&lt;week, age_cat=Less than 25, race=African-American)</td>\n",
       "      <td>0.097992</td>\n",
       "      <td>4.709274</td>\n",
       "    </tr>\n",
       "    <tr>\n",
       "      <th>104</th>\n",
       "      <td>0.134964</td>\n",
       "      <td>(length_of_stay=&lt;week, age_cat=Less than 25, sex=Male)</td>\n",
       "      <td>0.094977</td>\n",
       "      <td>5.193325</td>\n",
       "    </tr>\n",
       "    <tr>\n",
       "      <th>141</th>\n",
       "      <td>0.107583</td>\n",
       "      <td>(age_cat=Less than 25, sex=Male, race=African-American)</td>\n",
       "      <td>0.090318</td>\n",
       "      <td>4.467250</td>\n",
       "    </tr>\n",
       "    <tr>\n",
       "      <th>107</th>\n",
       "      <td>0.133020</td>\n",
       "      <td>(c_charge_degree=F, age_cat=Less than 25, sex=Male)</td>\n",
       "      <td>0.089534</td>\n",
       "      <td>4.869280</td>\n",
       "    </tr>\n",
       "    <tr>\n",
       "      <th>64</th>\n",
       "      <td>0.178386</td>\n",
       "      <td>(age_cat=Less than 25, sex=Male)</td>\n",
       "      <td>0.085400</td>\n",
       "      <td>5.279817</td>\n",
       "    </tr>\n",
       "  </tbody>\n",
       "</table>\n",
       "</div>"
      ],
      "text/plain": [
       "      support  \\\n",
       "151  0.101264   \n",
       "104  0.134964   \n",
       "141  0.107583   \n",
       "107  0.133020   \n",
       "64   0.178386   \n",
       "\n",
       "                                                                itemsets  \\\n",
       "151  (length_of_stay=<week, age_cat=Less than 25, race=African-American)   \n",
       "104               (length_of_stay=<week, age_cat=Less than 25, sex=Male)   \n",
       "141              (age_cat=Less than 25, sex=Male, race=African-American)   \n",
       "107                  (c_charge_degree=F, age_cat=Less than 25, sex=Male)   \n",
       "64                                      (age_cat=Less than 25, sex=Male)   \n",
       "\n",
       "      d_error  t_value_fp_fn  \n",
       "151  0.097992       4.709274  \n",
       "104  0.094977       5.193325  \n",
       "141  0.090318       4.467250  \n",
       "107  0.089534       4.869280  \n",
       "64   0.085400       5.279817  "
      ]
     },
     "execution_count": 75,
     "metadata": {},
     "output_type": "execute_result"
    }
   ],
   "source": [
    "fp_divergence_ofI.getDivergence(th_redundancy=0)[[\"support\", \"itemsets\",  fp_divergence_ofI.metric, fp_divergence_ofI.t_value_col]].head(5)"
   ]
  },
  {
   "cell_type": "markdown",
   "metadata": {},
   "source": [
    "Printable - threshold on redundancy"
   ]
  },
  {
   "cell_type": "code",
   "execution_count": 76,
   "metadata": {
    "ExecuteTime": {
     "end_time": "2021-03-06T17:09:11.011956Z",
     "start_time": "2021-03-06T17:09:10.994502Z"
    }
   },
   "outputs": [
    {
     "name": "stdout",
     "output_type": "stream",
     "text": [
      "compas - #FP: 57 - ERROR - th_redundancy: 0.01\n"
     ]
    },
    {
     "data": {
      "text/html": [
       "<div>\n",
       "<style scoped>\n",
       "    .dataframe tbody tr th:only-of-type {\n",
       "        vertical-align: middle;\n",
       "    }\n",
       "\n",
       "    .dataframe tbody tr th {\n",
       "        vertical-align: top;\n",
       "    }\n",
       "\n",
       "    .dataframe thead th {\n",
       "        text-align: right;\n",
       "    }\n",
       "</style>\n",
       "<table border=\"1\" class=\"dataframe\">\n",
       "  <thead>\n",
       "    <tr style=\"text-align: right;\">\n",
       "      <th></th>\n",
       "      <th>support</th>\n",
       "      <th>itemsets</th>\n",
       "      <th>d_error</th>\n",
       "      <th>t_value_fp_fn</th>\n",
       "    </tr>\n",
       "  </thead>\n",
       "  <tbody>\n",
       "    <tr>\n",
       "      <th>151</th>\n",
       "      <td>0.101264</td>\n",
       "      <td>(length_of_stay=&lt;week, age_cat=Less than 25, race=African-American)</td>\n",
       "      <td>0.097992</td>\n",
       "      <td>4.709274</td>\n",
       "    </tr>\n",
       "    <tr>\n",
       "      <th>64</th>\n",
       "      <td>0.178386</td>\n",
       "      <td>(age_cat=Less than 25, sex=Male)</td>\n",
       "      <td>0.085400</td>\n",
       "      <td>5.279817</td>\n",
       "    </tr>\n",
       "    <tr>\n",
       "      <th>108</th>\n",
       "      <td>0.131076</td>\n",
       "      <td>(age_cat=Less than 25, race=African-American)</td>\n",
       "      <td>0.080222</td>\n",
       "      <td>4.343255</td>\n",
       "    </tr>\n",
       "    <tr>\n",
       "      <th>80</th>\n",
       "      <td>0.156837</td>\n",
       "      <td>(c_charge_degree=F, age_cat=Less than 25)</td>\n",
       "      <td>0.077174</td>\n",
       "      <td>4.522632</td>\n",
       "    </tr>\n",
       "    <tr>\n",
       "      <th>28</th>\n",
       "      <td>0.293422</td>\n",
       "      <td>(priors_count=&gt;3)</td>\n",
       "      <td>0.076841</td>\n",
       "      <td>5.833525</td>\n",
       "    </tr>\n",
       "  </tbody>\n",
       "</table>\n",
       "</div>"
      ],
      "text/plain": [
       "      support  \\\n",
       "151  0.101264   \n",
       "64   0.178386   \n",
       "108  0.131076   \n",
       "80   0.156837   \n",
       "28   0.293422   \n",
       "\n",
       "                                                                itemsets  \\\n",
       "151  (length_of_stay=<week, age_cat=Less than 25, race=African-American)   \n",
       "64                                      (age_cat=Less than 25, sex=Male)   \n",
       "108                        (age_cat=Less than 25, race=African-American)   \n",
       "80                             (c_charge_degree=F, age_cat=Less than 25)   \n",
       "28                                                     (priors_count=>3)   \n",
       "\n",
       "      d_error  t_value_fp_fn  \n",
       "151  0.097992       4.709274  \n",
       "64   0.085400       5.279817  \n",
       "108  0.080222       4.343255  \n",
       "80   0.077174       4.522632  \n",
       "28   0.076841       5.833525  "
      ]
     },
     "metadata": {},
     "output_type": "display_data"
    }
   ],
   "source": [
    "th_redundancy=0.01\n",
    "div_ofI=fp_divergence_ofI.getDivergence(th_redundancy=th_redundancy)[[\"support\", \"itemsets\",  fp_divergence_ofI.metric, fp_divergence_ofI.t_value_col]]\n",
    "print(f\"{dataset_name} - #FP: {len(div_ofI)-1} - {fp_divergence_ofI.metric_name} - th_redundancy: {th_redundancy}\")\n",
    "display(div_ofI.head(5))"
   ]
  },
  {
   "cell_type": "code",
   "execution_count": 77,
   "metadata": {
    "ExecuteTime": {
     "end_time": "2021-03-06T17:09:11.029851Z",
     "start_time": "2021-03-06T17:09:11.013581Z"
    }
   },
   "outputs": [
    {
     "data": {
      "text/html": [
       "<div>\n",
       "<style scoped>\n",
       "    .dataframe tbody tr th:only-of-type {\n",
       "        vertical-align: middle;\n",
       "    }\n",
       "\n",
       "    .dataframe tbody tr th {\n",
       "        vertical-align: top;\n",
       "    }\n",
       "\n",
       "    .dataframe thead th {\n",
       "        text-align: right;\n",
       "    }\n",
       "</style>\n",
       "<table border=\"1\" class=\"dataframe\">\n",
       "  <thead>\n",
       "    <tr style=\"text-align: right;\">\n",
       "      <th></th>\n",
       "      <th>itemsets</th>\n",
       "      <th>d_error</th>\n",
       "    </tr>\n",
       "  </thead>\n",
       "  <tbody>\n",
       "    <tr>\n",
       "      <th>151</th>\n",
       "      <td>(length_of_stay=&lt;week, age_cat=Less than 25, race=African-American)</td>\n",
       "      <td>0.097992</td>\n",
       "    </tr>\n",
       "    <tr>\n",
       "      <th>104</th>\n",
       "      <td>(length_of_stay=&lt;week, age_cat=Less than 25, sex=Male)</td>\n",
       "      <td>0.094977</td>\n",
       "    </tr>\n",
       "    <tr>\n",
       "      <th>141</th>\n",
       "      <td>(age_cat=Less than 25, sex=Male, race=African-American)</td>\n",
       "      <td>0.090318</td>\n",
       "    </tr>\n",
       "    <tr>\n",
       "      <th>107</th>\n",
       "      <td>(c_charge_degree=F, age_cat=Less than 25, sex=Male)</td>\n",
       "      <td>0.089534</td>\n",
       "    </tr>\n",
       "    <tr>\n",
       "      <th>64</th>\n",
       "      <td>(age_cat=Less than 25, sex=Male)</td>\n",
       "      <td>0.085400</td>\n",
       "    </tr>\n",
       "    <tr>\n",
       "      <th>94</th>\n",
       "      <td>(age_cat=25 - 45, priors_count=&gt;3, length_of_stay=&lt;week)</td>\n",
       "      <td>0.083367</td>\n",
       "    </tr>\n",
       "    <tr>\n",
       "      <th>56</th>\n",
       "      <td>(priors_count=&gt;3, length_of_stay=&lt;week)</td>\n",
       "      <td>0.083159</td>\n",
       "    </tr>\n",
       "    <tr>\n",
       "      <th>127</th>\n",
       "      <td>(c_charge_degree=F, length_of_stay=&lt;week, age_cat=Less than 25)</td>\n",
       "      <td>0.082035</td>\n",
       "    </tr>\n",
       "    <tr>\n",
       "      <th>72</th>\n",
       "      <td>(priors_count=&gt;3, length_of_stay=&lt;week, sex=Male)</td>\n",
       "      <td>0.081839</td>\n",
       "    </tr>\n",
       "    <tr>\n",
       "      <th>108</th>\n",
       "      <td>(age_cat=Less than 25, race=African-American)</td>\n",
       "      <td>0.080222</td>\n",
       "    </tr>\n",
       "  </tbody>\n",
       "</table>\n",
       "</div>"
      ],
      "text/plain": [
       "                                                                itemsets  \\\n",
       "151  (length_of_stay=<week, age_cat=Less than 25, race=African-American)   \n",
       "104               (length_of_stay=<week, age_cat=Less than 25, sex=Male)   \n",
       "141              (age_cat=Less than 25, sex=Male, race=African-American)   \n",
       "107                  (c_charge_degree=F, age_cat=Less than 25, sex=Male)   \n",
       "64                                      (age_cat=Less than 25, sex=Male)   \n",
       "94              (age_cat=25 - 45, priors_count=>3, length_of_stay=<week)   \n",
       "56                               (priors_count=>3, length_of_stay=<week)   \n",
       "127      (c_charge_degree=F, length_of_stay=<week, age_cat=Less than 25)   \n",
       "72                     (priors_count=>3, length_of_stay=<week, sex=Male)   \n",
       "108                        (age_cat=Less than 25, race=African-American)   \n",
       "\n",
       "      d_error  \n",
       "151  0.097992  \n",
       "104  0.094977  \n",
       "141  0.090318  \n",
       "107  0.089534  \n",
       "64   0.085400  \n",
       "94   0.083367  \n",
       "56   0.083159  \n",
       "127  0.082035  \n",
       "72   0.081839  \n",
       "108  0.080222  "
      ]
     },
     "execution_count": 77,
     "metadata": {},
     "output_type": "execute_result"
    }
   ],
   "source": [
    "fp_divergence_ofI.getDivergenceTopKDf(K=10, th_redundancy=0)"
   ]
  },
  {
   "cell_type": "markdown",
   "metadata": {
    "ExecuteTime": {
     "end_time": "2020-08-10T10:09:51.315210Z",
     "start_time": "2020-08-10T10:09:51.310814Z"
    }
   },
   "source": [
    "### Shapley value of TOP-K patterns"
   ]
  },
  {
   "cell_type": "code",
   "execution_count": 78,
   "metadata": {
    "ExecuteTime": {
     "end_time": "2021-03-06T17:09:11.044716Z",
     "start_time": "2021-03-06T17:09:11.031573Z"
    }
   },
   "outputs": [
    {
     "data": {
      "text/plain": [
       "{frozenset({'age_cat=Less than 25',\n",
       "            'length_of_stay=<week',\n",
       "            'race=African-American'}): 0.09799222294232013,\n",
       " frozenset({'age_cat=Less than 25',\n",
       "            'length_of_stay=<week',\n",
       "            'sex=Male'}): 0.09497661669982316,\n",
       " frozenset({'age_cat=Less than 25',\n",
       "            'race=African-American',\n",
       "            'sex=Male'}): 0.09031752414713945,\n",
       " frozenset({'age_cat=Less than 25',\n",
       "            'c_charge_degree=F',\n",
       "            'sex=Male'}): 0.0895342448668025,\n",
       " frozenset({'age_cat=Less than 25', 'sex=Male'}): 0.08540003402315577}"
      ]
     },
     "execution_count": 78,
     "metadata": {},
     "output_type": "execute_result"
    }
   ],
   "source": [
    "topK_ofI=fp_divergence_ofI.getDivergenceTopK(K=5, th_redundancy=0)\n",
    "topK_ofI"
   ]
  },
  {
   "cell_type": "code",
   "execution_count": 79,
   "metadata": {
    "ExecuteTime": {
     "end_time": "2021-03-06T17:09:11.500835Z",
     "start_time": "2021-03-06T17:09:11.046639Z"
    },
    "scrolled": true
   },
   "outputs": [
    {
     "data": {
      "image/png": "[encoded data removed]",
      "text/plain": [
       "<Figure size 400x300 with 1 Axes>"
      ]
     },
     "metadata": {
      "needs_background": "light"
     },
     "output_type": "display_data"
    },
    {
     "data": {
      "image/png": "[encoded data removed]",
      "text/plain": [
       "<Figure size 400x300 with 1 Axes>"
      ]
     },
     "metadata": {
      "needs_background": "light"
     },
     "output_type": "display_data"
    },
    {
     "data": {
      "image/png": "[encoded data removed]",
      "text/plain": [
       "<Figure size 400x300 with 1 Axes>"
      ]
     },
     "metadata": {
      "needs_background": "light"
     },
     "output_type": "display_data"
    },
    {
     "data": {
      "image/png": "[encoded data removed]",
      "text/plain": [
       "<Figure size 400x300 with 1 Axes>"
      ]
     },
     "metadata": {
      "needs_background": "light"
     },
     "output_type": "display_data"
    },
    {
     "data": {
      "image/png": "[encoded data removed]",
      "text/plain": [
       "<Figure size 400x300 with 1 Axes>"
      ]
     },
     "metadata": {
      "needs_background": "light"
     },
     "output_type": "display_data"
    }
   ],
   "source": [
    "topK_ofI=fp_divergence_ofI.getDivergenceTopK(K=5, th_redundancy=0)\n",
    "for item in topK_ofI.keys():\n",
    "    fp_divergence_ofI.plotShapleyValue(item)"
   ]
  },
  {
   "cell_type": "code",
   "execution_count": 80,
   "metadata": {
    "ExecuteTime": {
     "end_time": "2021-03-06T17:09:11.596157Z",
     "start_time": "2021-03-06T17:09:11.502219Z"
    }
   },
   "outputs": [
    {
     "name": "stdout",
     "output_type": "stream",
     "text": [
      "{frozenset({'length_of_stay=<week', 'age_cat=Less than 25', 'race=African-American'}): 0.09799222294232013}\n",
      "{frozenset({'length_of_stay=<week'}): 0.002490267681201678, frozenset({'age_cat=Less than 25'}): 0.07096002527465936, frozenset({'race=African-American'}): 0.024541929986459078}\n"
     ]
    },
    {
     "data": {
      "image/png": "[encoded data removed]",
      "text/plain": [
       "<Figure size 130x120 with 1 Axes>"
      ]
     },
     "metadata": {
      "needs_background": "light"
     },
     "output_type": "display_data"
    }
   ],
   "source": [
    "outputName=f\"{outDirShap}/{dataset_name}_shap_{fp_divergence_ofI.metric_name}_{min_sup}\"\n",
    "itemset_div=fp_divergence_ofI.getDivergenceTopK(K=1, th_redundancy=0)\n",
    "print(itemset_div)\n",
    "itemset_shap=fp_divergence_ofI.computeShapleyValue(list(itemset_div.keys())[0])\n",
    "print(itemset_shap)\n",
    "fp_divergence_ofI.plotShapleyValue(shapley_values=itemset_shap, abbreviations=abbreviations,\\\n",
    "                 height=0.4,\\\n",
    "                 title=f\"{dataset_name} -\", sizeFig=(1.3,1.2), labelsize=8, saveFig=saveFig, nameFig=outputName)"
   ]
  },
  {
   "cell_type": "markdown",
   "metadata": {},
   "source": [
    "#### Lattice Explorer"
   ]
  },
  {
   "cell_type": "code",
   "execution_count": 81,
   "metadata": {
    "ExecuteTime": {
     "end_time": "2021-03-06T18:14:47.376030Z",
     "start_time": "2021-03-06T18:14:47.156170Z"
    },
    "scrolled": true
   },
   "outputs": [],
   "source": [
    "top1=list(fp_divergence_ofI.getDivergenceTopK(K=1, th_redundancy=0).keys())[0]\n",
    "fig1=fp_divergence_ofI.plotLatticeItemset(top1, Th_divergence=0.15, sizeDot=\"small\", getLower=True)"
   ]
  },
  {
   "cell_type": "markdown",
   "metadata": {},
   "source": [
    "### Corrective"
   ]
  },
  {
   "cell_type": "markdown",
   "metadata": {},
   "source": [
    "Given an itemset $I$ and an item $i \\not\\in I$, we say that $i$ is a *corrective item* for $I$ if \n",
    "$|\\Delta(I \\cup i)|<|\\Delta(I)|$.\n",
    "\n",
    "\n",
    "The *corrective factor* of $i$ w.r.t.\\ $I$ is \n",
    "$|\\Delta(I)| - |\\Delta(I \\cup i)|$."
   ]
  },
  {
   "cell_type": "code",
   "execution_count": 82,
   "metadata": {
    "ExecuteTime": {
     "end_time": "2021-03-06T17:09:11.824799Z",
     "start_time": "2021-03-06T17:09:11.775673Z"
    },
    "scrolled": true
   },
   "outputs": [
    {
     "data": {
      "text/html": [
       "<div>\n",
       "<style scoped>\n",
       "    .dataframe tbody tr th:only-of-type {\n",
       "        vertical-align: middle;\n",
       "    }\n",
       "\n",
       "    .dataframe tbody tr th {\n",
       "        vertical-align: top;\n",
       "    }\n",
       "\n",
       "    .dataframe thead th {\n",
       "        text-align: right;\n",
       "    }\n",
       "</style>\n",
       "<table border=\"1\" class=\"dataframe\">\n",
       "  <thead>\n",
       "    <tr style=\"text-align: right;\">\n",
       "      <th></th>\n",
       "      <th>item i</th>\n",
       "      <th>S</th>\n",
       "      <th>S+i</th>\n",
       "      <th>v_i</th>\n",
       "      <th>v_S</th>\n",
       "      <th>v_S+i</th>\n",
       "      <th>t_value_corr</th>\n",
       "      <th>corr_factor</th>\n",
       "    </tr>\n",
       "  </thead>\n",
       "  <tbody>\n",
       "    <tr>\n",
       "      <th>291</th>\n",
       "      <td>(race=African-American)</td>\n",
       "      <td>(priors_count=0, sex=Male)</td>\n",
       "      <td>(priors_count=0, sex=Male, race=African-American)</td>\n",
       "      <td>0.023913</td>\n",
       "      <td>-0.076534</td>\n",
       "      <td>-0.015379</td>\n",
       "      <td>2.776289</td>\n",
       "      <td>0.061155</td>\n",
       "    </tr>\n",
       "    <tr>\n",
       "      <th>261</th>\n",
       "      <td>(race=African-American)</td>\n",
       "      <td>(length_of_stay=&lt;week, priors_count=0)</td>\n",
       "      <td>(length_of_stay=&lt;week, priors_count=0, race=African-American)</td>\n",
       "      <td>0.023913</td>\n",
       "      <td>-0.101443</td>\n",
       "      <td>-0.043215</td>\n",
       "      <td>2.955671</td>\n",
       "      <td>0.058229</td>\n",
       "    </tr>\n",
       "    <tr>\n",
       "      <th>97</th>\n",
       "      <td>(race=African-American)</td>\n",
       "      <td>(priors_count=0)</td>\n",
       "      <td>(priors_count=0, race=African-American)</td>\n",
       "      <td>0.023913</td>\n",
       "      <td>-0.092626</td>\n",
       "      <td>-0.039767</td>\n",
       "      <td>2.818701</td>\n",
       "      <td>0.052860</td>\n",
       "    </tr>\n",
       "    <tr>\n",
       "      <th>297</th>\n",
       "      <td>(priors_count=[1,3])</td>\n",
       "      <td>(length_of_stay=&lt;week, c_charge_degree=M)</td>\n",
       "      <td>(length_of_stay=&lt;week, c_charge_degree=M, priors_count=[1,3])</td>\n",
       "      <td>0.023711</td>\n",
       "      <td>-0.044867</td>\n",
       "      <td>0.007410</td>\n",
       "      <td>2.381362</td>\n",
       "      <td>0.037457</td>\n",
       "    </tr>\n",
       "    <tr>\n",
       "      <th>246</th>\n",
       "      <td>(race=African-American)</td>\n",
       "      <td>(length_of_stay=&lt;week, c_charge_degree=M)</td>\n",
       "      <td>(length_of_stay=&lt;week, c_charge_degree=M, race=African-American)</td>\n",
       "      <td>0.023913</td>\n",
       "      <td>-0.044867</td>\n",
       "      <td>0.009307</td>\n",
       "      <td>2.676936</td>\n",
       "      <td>0.035560</td>\n",
       "    </tr>\n",
       "  </tbody>\n",
       "</table>\n",
       "</div>"
      ],
      "text/plain": [
       "                      item i                                          S  \\\n",
       "291  (race=African-American)                 (priors_count=0, sex=Male)   \n",
       "261  (race=African-American)     (length_of_stay=<week, priors_count=0)   \n",
       "97   (race=African-American)                           (priors_count=0)   \n",
       "297     (priors_count=[1,3])  (length_of_stay=<week, c_charge_degree=M)   \n",
       "246  (race=African-American)  (length_of_stay=<week, c_charge_degree=M)   \n",
       "\n",
       "                                                                  S+i  \\\n",
       "291                 (priors_count=0, sex=Male, race=African-American)   \n",
       "261     (length_of_stay=<week, priors_count=0, race=African-American)   \n",
       "97                            (priors_count=0, race=African-American)   \n",
       "297     (length_of_stay=<week, c_charge_degree=M, priors_count=[1,3])   \n",
       "246  (length_of_stay=<week, c_charge_degree=M, race=African-American)   \n",
       "\n",
       "          v_i       v_S     v_S+i  t_value_corr  corr_factor  \n",
       "291  0.023913 -0.076534 -0.015379      2.776289     0.061155  \n",
       "261  0.023913 -0.101443 -0.043215      2.955671     0.058229  \n",
       "97   0.023913 -0.092626 -0.039767      2.818701     0.052860  \n",
       "297  0.023711 -0.044867  0.007410      2.381362     0.037457  \n",
       "246  0.023913 -0.044867  0.009307      2.676936     0.035560  "
      ]
     },
     "execution_count": 82,
     "metadata": {},
     "output_type": "execute_result"
    }
   ],
   "source": [
    "#Significant corrective items based on t-value of difference\n",
    "corrSign=fp_divergence_ofI.getCorrectiveItems()\n",
    "corrSign.head(5)"
   ]
  },
  {
   "cell_type": "markdown",
   "metadata": {},
   "source": [
    "Only itemsets with positive divergence"
   ]
  },
  {
   "cell_type": "code",
   "execution_count": 83,
   "metadata": {
    "ExecuteTime": {
     "end_time": "2021-03-06T17:09:11.835782Z",
     "start_time": "2021-03-06T17:09:11.826025Z"
    }
   },
   "outputs": [
    {
     "data": {
      "text/html": [
       "<div>\n",
       "<style scoped>\n",
       "    .dataframe tbody tr th:only-of-type {\n",
       "        vertical-align: middle;\n",
       "    }\n",
       "\n",
       "    .dataframe tbody tr th {\n",
       "        vertical-align: top;\n",
       "    }\n",
       "\n",
       "    .dataframe thead th {\n",
       "        text-align: right;\n",
       "    }\n",
       "</style>\n",
       "<table border=\"1\" class=\"dataframe\">\n",
       "  <thead>\n",
       "    <tr style=\"text-align: right;\">\n",
       "      <th></th>\n",
       "      <th>item i</th>\n",
       "      <th>S</th>\n",
       "      <th>S+i</th>\n",
       "      <th>v_i</th>\n",
       "      <th>v_S</th>\n",
       "      <th>v_S+i</th>\n",
       "      <th>t_value_corr</th>\n",
       "      <th>corr_factor</th>\n",
       "    </tr>\n",
       "  </thead>\n",
       "  <tbody>\n",
       "    <tr>\n",
       "      <th>289</th>\n",
       "      <td>(priors_count=0)</td>\n",
       "      <td>(sex=Male, race=African-American)</td>\n",
       "      <td>(priors_count=0, sex=Male, race=African-American)</td>\n",
       "      <td>-0.092626</td>\n",
       "      <td>0.03879</td>\n",
       "      <td>-0.015379</td>\n",
       "      <td>2.54002</td>\n",
       "      <td>0.023412</td>\n",
       "    </tr>\n",
       "  </tbody>\n",
       "</table>\n",
       "</div>"
      ],
      "text/plain": [
       "               item i                                  S  \\\n",
       "289  (priors_count=0)  (sex=Male, race=African-American)   \n",
       "\n",
       "                                                   S+i       v_i      v_S  \\\n",
       "289  (priors_count=0, sex=Male, race=African-American) -0.092626  0.03879   \n",
       "\n",
       "        v_S+i  t_value_corr  corr_factor  \n",
       "289 -0.015379       2.54002     0.023412  "
      ]
     },
     "execution_count": 83,
     "metadata": {},
     "output_type": "execute_result"
    }
   ],
   "source": [
    "corrSign_pos=fp_divergence_ofI.getCorrectiveItemsPos()\n",
    "corrSign_pos.head()"
   ]
  },
  {
   "cell_type": "markdown",
   "metadata": {},
   "source": [
    "Details of $S$ and $S \\cup i$ for the top corrective items"
   ]
  },
  {
   "cell_type": "code",
   "execution_count": 84,
   "metadata": {
    "ExecuteTime": {
     "end_time": "2021-03-06T17:09:11.880397Z",
     "start_time": "2021-03-06T17:09:11.837178Z"
    },
    "scrolled": true
   },
   "outputs": [
    {
     "data": {
      "text/html": [
       "<div>\n",
       "<style scoped>\n",
       "    .dataframe tbody tr th:only-of-type {\n",
       "        vertical-align: middle;\n",
       "    }\n",
       "\n",
       "    .dataframe tbody tr th {\n",
       "        vertical-align: top;\n",
       "    }\n",
       "\n",
       "    .dataframe thead th {\n",
       "        text-align: right;\n",
       "    }\n",
       "</style>\n",
       "<table border=\"1\" class=\"dataframe\">\n",
       "  <thead>\n",
       "    <tr style=\"text-align: right;\">\n",
       "      <th></th>\n",
       "      <th>support</th>\n",
       "      <th>itemsets</th>\n",
       "      <th>tn</th>\n",
       "      <th>tp</th>\n",
       "      <th>fn</th>\n",
       "      <th>fp</th>\n",
       "      <th>d_error</th>\n",
       "      <th>error</th>\n",
       "      <th>t_value_fp_fn</th>\n",
       "    </tr>\n",
       "  </thead>\n",
       "  <tbody>\n",
       "    <tr>\n",
       "      <th>37</th>\n",
       "      <td>0.252430</td>\n",
       "      <td>(priors_count=0, sex=Male)</td>\n",
       "      <td>1022.0</td>\n",
       "      <td>85.0</td>\n",
       "      <td>396.0</td>\n",
       "      <td>55.0</td>\n",
       "      <td>-0.076534</td>\n",
       "      <td>0.289474</td>\n",
       "      <td>5.862642</td>\n",
       "    </tr>\n",
       "    <tr>\n",
       "      <th>144</th>\n",
       "      <td>0.103046</td>\n",
       "      <td>(priors_count=0, sex=Male, race=African-American)</td>\n",
       "      <td>360.0</td>\n",
       "      <td>53.0</td>\n",
       "      <td>184.0</td>\n",
       "      <td>39.0</td>\n",
       "      <td>-0.015379</td>\n",
       "      <td>0.350629</td>\n",
       "      <td>0.753259</td>\n",
       "    </tr>\n",
       "  </tbody>\n",
       "</table>\n",
       "</div>"
      ],
      "text/plain": [
       "      support                                           itemsets      tn  \\\n",
       "37   0.252430                         (priors_count=0, sex=Male)  1022.0   \n",
       "144  0.103046  (priors_count=0, sex=Male, race=African-American)   360.0   \n",
       "\n",
       "       tp     fn    fp   d_error     error  t_value_fp_fn  \n",
       "37   85.0  396.0  55.0 -0.076534  0.289474       5.862642  \n",
       "144  53.0  184.0  39.0 -0.015379  0.350629       0.753259  "
      ]
     },
     "metadata": {},
     "output_type": "display_data"
    },
    {
     "data": {
      "text/html": [
       "<div>\n",
       "<style scoped>\n",
       "    .dataframe tbody tr th:only-of-type {\n",
       "        vertical-align: middle;\n",
       "    }\n",
       "\n",
       "    .dataframe tbody tr th {\n",
       "        vertical-align: top;\n",
       "    }\n",
       "\n",
       "    .dataframe thead th {\n",
       "        text-align: right;\n",
       "    }\n",
       "</style>\n",
       "<table border=\"1\" class=\"dataframe\">\n",
       "  <thead>\n",
       "    <tr style=\"text-align: right;\">\n",
       "      <th></th>\n",
       "      <th>support</th>\n",
       "      <th>itemsets</th>\n",
       "      <th>tn</th>\n",
       "      <th>tp</th>\n",
       "      <th>fn</th>\n",
       "      <th>fp</th>\n",
       "      <th>d_error</th>\n",
       "      <th>error</th>\n",
       "      <th>t_value_fp_fn</th>\n",
       "    </tr>\n",
       "  </thead>\n",
       "  <tbody>\n",
       "    <tr>\n",
       "      <th>23</th>\n",
       "      <td>0.303143</td>\n",
       "      <td>(length_of_stay=&lt;week, priors_count=0)</td>\n",
       "      <td>1309.0</td>\n",
       "      <td>67.0</td>\n",
       "      <td>434.0</td>\n",
       "      <td>61.0</td>\n",
       "      <td>-0.101443</td>\n",
       "      <td>0.264564</td>\n",
       "      <td>8.511401</td>\n",
       "    </tr>\n",
       "    <tr>\n",
       "      <th>121</th>\n",
       "      <td>0.122975</td>\n",
       "      <td>(length_of_stay=&lt;week, priors_count=0, race=African-American)</td>\n",
       "      <td>472.0</td>\n",
       "      <td>42.0</td>\n",
       "      <td>201.0</td>\n",
       "      <td>44.0</td>\n",
       "      <td>-0.043215</td>\n",
       "      <td>0.322793</td>\n",
       "      <td>2.374896</td>\n",
       "    </tr>\n",
       "  </tbody>\n",
       "</table>\n",
       "</div>"
      ],
      "text/plain": [
       "      support                                                       itemsets  \\\n",
       "23   0.303143                         (length_of_stay=<week, priors_count=0)   \n",
       "121  0.122975  (length_of_stay=<week, priors_count=0, race=African-American)   \n",
       "\n",
       "         tn    tp     fn    fp   d_error     error  t_value_fp_fn  \n",
       "23   1309.0  67.0  434.0  61.0 -0.101443  0.264564       8.511401  \n",
       "121   472.0  42.0  201.0  44.0 -0.043215  0.322793       2.374896  "
      ]
     },
     "metadata": {},
     "output_type": "display_data"
    },
    {
     "data": {
      "text/html": [
       "<div>\n",
       "<style scoped>\n",
       "    .dataframe tbody tr th:only-of-type {\n",
       "        vertical-align: middle;\n",
       "    }\n",
       "\n",
       "    .dataframe tbody tr th {\n",
       "        vertical-align: top;\n",
       "    }\n",
       "\n",
       "    .dataframe thead th {\n",
       "        text-align: right;\n",
       "    }\n",
       "</style>\n",
       "<table border=\"1\" class=\"dataframe\">\n",
       "  <thead>\n",
       "    <tr style=\"text-align: right;\">\n",
       "      <th></th>\n",
       "      <th>support</th>\n",
       "      <th>itemsets</th>\n",
       "      <th>tn</th>\n",
       "      <th>tp</th>\n",
       "      <th>fn</th>\n",
       "      <th>fp</th>\n",
       "      <th>d_error</th>\n",
       "      <th>error</th>\n",
       "      <th>t_value_fp_fn</th>\n",
       "    </tr>\n",
       "  </thead>\n",
       "  <tbody>\n",
       "    <tr>\n",
       "      <th>20</th>\n",
       "      <td>0.337816</td>\n",
       "      <td>(priors_count=0)</td>\n",
       "      <td>1416.0</td>\n",
       "      <td>99.0</td>\n",
       "      <td>498.0</td>\n",
       "      <td>72.0</td>\n",
       "      <td>-0.092626</td>\n",
       "      <td>0.273381</td>\n",
       "      <td>8.023810</td>\n",
       "    </tr>\n",
       "    <tr>\n",
       "      <th>100</th>\n",
       "      <td>0.137071</td>\n",
       "      <td>(priors_count=0, race=African-American)</td>\n",
       "      <td>509.0</td>\n",
       "      <td>61.0</td>\n",
       "      <td>227.0</td>\n",
       "      <td>49.0</td>\n",
       "      <td>-0.039767</td>\n",
       "      <td>0.326241</td>\n",
       "      <td>2.287583</td>\n",
       "    </tr>\n",
       "  </tbody>\n",
       "</table>\n",
       "</div>"
      ],
      "text/plain": [
       "      support                                 itemsets      tn    tp     fn  \\\n",
       "20   0.337816                         (priors_count=0)  1416.0  99.0  498.0   \n",
       "100  0.137071  (priors_count=0, race=African-American)   509.0  61.0  227.0   \n",
       "\n",
       "       fp   d_error     error  t_value_fp_fn  \n",
       "20   72.0 -0.092626  0.273381       8.023810  \n",
       "100  49.0 -0.039767  0.326241       2.287583  "
      ]
     },
     "metadata": {},
     "output_type": "display_data"
    },
    {
     "data": {
      "text/html": [
       "<div>\n",
       "<style scoped>\n",
       "    .dataframe tbody tr th:only-of-type {\n",
       "        vertical-align: middle;\n",
       "    }\n",
       "\n",
       "    .dataframe tbody tr th {\n",
       "        vertical-align: top;\n",
       "    }\n",
       "\n",
       "    .dataframe thead th {\n",
       "        text-align: right;\n",
       "    }\n",
       "</style>\n",
       "<table border=\"1\" class=\"dataframe\">\n",
       "  <thead>\n",
       "    <tr style=\"text-align: right;\">\n",
       "      <th></th>\n",
       "      <th>support</th>\n",
       "      <th>itemsets</th>\n",
       "      <th>tn</th>\n",
       "      <th>tp</th>\n",
       "      <th>fn</th>\n",
       "      <th>fp</th>\n",
       "      <th>d_error</th>\n",
       "      <th>error</th>\n",
       "      <th>t_value_fp_fn</th>\n",
       "    </tr>\n",
       "  </thead>\n",
       "  <tbody>\n",
       "    <tr>\n",
       "      <th>24</th>\n",
       "      <td>0.301199</td>\n",
       "      <td>(length_of_stay=&lt;week, c_charge_degree=M)</td>\n",
       "      <td>1162.0</td>\n",
       "      <td>100.0</td>\n",
       "      <td>534.0</td>\n",
       "      <td>63.0</td>\n",
       "      <td>-0.044867</td>\n",
       "      <td>0.321140</td>\n",
       "      <td>3.595357</td>\n",
       "    </tr>\n",
       "    <tr>\n",
       "      <th>146</th>\n",
       "      <td>0.102398</td>\n",
       "      <td>(length_of_stay=&lt;week, c_charge_degree=M, priors_count=[1,3])</td>\n",
       "      <td>380.0</td>\n",
       "      <td>16.0</td>\n",
       "      <td>219.0</td>\n",
       "      <td>17.0</td>\n",
       "      <td>0.007410</td>\n",
       "      <td>0.373418</td>\n",
       "      <td>0.385315</td>\n",
       "    </tr>\n",
       "  </tbody>\n",
       "</table>\n",
       "</div>"
      ],
      "text/plain": [
       "      support                                                       itemsets  \\\n",
       "24   0.301199                      (length_of_stay=<week, c_charge_degree=M)   \n",
       "146  0.102398  (length_of_stay=<week, c_charge_degree=M, priors_count=[1,3])   \n",
       "\n",
       "         tn     tp     fn    fp   d_error     error  t_value_fp_fn  \n",
       "24   1162.0  100.0  534.0  63.0 -0.044867  0.321140       3.595357  \n",
       "146   380.0   16.0  219.0  17.0  0.007410  0.373418       0.385315  "
      ]
     },
     "metadata": {},
     "output_type": "display_data"
    }
   ],
   "source": [
    "d=fp_divergence_ofI.getCorrectiveItems()\n",
    "itemsetsOfI=d[[\"S\", \"S+i\"]].head(4).values\n",
    "for S,S_i in itemsetsOfI:\n",
    "    display(fp_divergence_ofI.getInfoItemsets([S,S_i])[INFOS])"
   ]
  },
  {
   "cell_type": "markdown",
   "metadata": {},
   "source": [
    "#### Plot Shapley comparison corrective"
   ]
  },
  {
   "cell_type": "code",
   "execution_count": 85,
   "metadata": {
    "ExecuteTime": {
     "end_time": "2021-03-06T17:09:11.885553Z",
     "start_time": "2021-03-06T17:09:11.882050Z"
    }
   },
   "outputs": [],
   "source": [
    "from divexplorer.shapley_value_FPx import plotComparisonShapleyValues, compareShapleyValues, normalizeMax"
   ]
  },
  {
   "cell_type": "code",
   "execution_count": 86,
   "metadata": {
    "ExecuteTime": {
     "end_time": "2021-03-06T17:09:12.185991Z",
     "start_time": "2021-03-06T17:09:11.887166Z"
    }
   },
   "outputs": [
    {
     "data": {
      "text/html": [
       "<div>\n",
       "<style scoped>\n",
       "    .dataframe tbody tr th:only-of-type {\n",
       "        vertical-align: middle;\n",
       "    }\n",
       "\n",
       "    .dataframe tbody tr th {\n",
       "        vertical-align: top;\n",
       "    }\n",
       "\n",
       "    .dataframe thead th {\n",
       "        text-align: right;\n",
       "    }\n",
       "</style>\n",
       "<table border=\"1\" class=\"dataframe\">\n",
       "  <thead>\n",
       "    <tr style=\"text-align: right;\">\n",
       "      <th></th>\n",
       "      <th>support</th>\n",
       "      <th>itemsets</th>\n",
       "      <th>tn</th>\n",
       "      <th>tp</th>\n",
       "      <th>fn</th>\n",
       "      <th>fp</th>\n",
       "      <th>d_error</th>\n",
       "      <th>error</th>\n",
       "      <th>t_value_fp_fn</th>\n",
       "    </tr>\n",
       "  </thead>\n",
       "  <tbody>\n",
       "    <tr>\n",
       "      <th>37</th>\n",
       "      <td>0.252430</td>\n",
       "      <td>(priors_count=0, sex=Male)</td>\n",
       "      <td>1022.0</td>\n",
       "      <td>85.0</td>\n",
       "      <td>396.0</td>\n",
       "      <td>55.0</td>\n",
       "      <td>-0.076534</td>\n",
       "      <td>0.289474</td>\n",
       "      <td>5.862642</td>\n",
       "    </tr>\n",
       "    <tr>\n",
       "      <th>144</th>\n",
       "      <td>0.103046</td>\n",
       "      <td>(priors_count=0, sex=Male, race=African-American)</td>\n",
       "      <td>360.0</td>\n",
       "      <td>53.0</td>\n",
       "      <td>184.0</td>\n",
       "      <td>39.0</td>\n",
       "      <td>-0.015379</td>\n",
       "      <td>0.350629</td>\n",
       "      <td>0.753259</td>\n",
       "    </tr>\n",
       "  </tbody>\n",
       "</table>\n",
       "</div>"
      ],
      "text/plain": [
       "      support                                           itemsets      tn  \\\n",
       "37   0.252430                         (priors_count=0, sex=Male)  1022.0   \n",
       "144  0.103046  (priors_count=0, sex=Male, race=African-American)   360.0   \n",
       "\n",
       "       tp     fn    fp   d_error     error  t_value_fp_fn  \n",
       "37   85.0  396.0  55.0 -0.076534  0.289474       5.862642  \n",
       "144  53.0  184.0  39.0 -0.015379  0.350629       0.753259  "
      ]
     },
     "metadata": {},
     "output_type": "display_data"
    },
    {
     "name": "stdout",
     "output_type": "stream",
     "text": [
      "∇ERROR(S):-0.077 -->  ∇ERROR(S U i):-0.015\n"
     ]
    },
    {
     "data": {
      "image/png": "[encoded data removed]",
      "text/plain": [
       "<Figure size 520x190 with 2 Axes>"
      ]
     },
     "metadata": {
      "needs_background": "light"
     },
     "output_type": "display_data"
    }
   ],
   "source": [
    "id_col=0\n",
    "fp_divergence_ofI=fp_divergence_ofI\n",
    "corrSign=fp_divergence_ofI.getCorrectiveItems()\n",
    "\n",
    "if len(corrSign)>id_col:\n",
    "    outputName=f\"{outDirShap}/{dataset_name}_shap_corrective_{fp_divergence_ofI.metric_name}_{min_sup}\"\n",
    "    S,S_i, v_S, v_Si=corrSign[[\"S\", \"S+i\", \"v_S\", \"v_S+i\"]].head(id_col+1).values[id_col].tolist()\n",
    "    display(fp_divergence_ofI.getInfoItemsets([S,S_i])[INFOS])\n",
    "    shap_itemset1=abbreviateDict(fp_divergence_ofI.computeShapleyValue(S), abbreviations)\n",
    "    shap_itemset2=abbreviateDict(fp_divergence_ofI.computeShapleyValue(S_i), abbreviations)\n",
    "    id1, id2=\"$_a$\", \"$_b$\" \n",
    "    t1, t2=f\"$∇_{{{fp_divergence_ofI.metric_name}}}$(α|I{id1})\", f\"$∇_{{{fp_divergence_ofI.metric_name}}}$(α|I{id2})\"\n",
    "    print(f\"∇{fp_divergence_ofI.metric_name}(S):{round(v_S,3)} -->  ∇{fp_divergence_ofI.metric_name}(S U i):{round(v_Si,3)}\")\n",
    "\n",
    "    plotComparisonShapleyValues(shap_itemset1, shap_itemset2, height=[0.3, 0.4], sharedAxis=True, \\\n",
    "                        sizeFig=(5.2, 1.9), title=[t1,t2], saveFig=saveFig, nameFig=outputName, pad=1.5,\\\n",
    "                               metrics_name=[fp_divergence_ofI.metric_name, fp_divergence_ofI.metric_name])"
   ]
  },
  {
   "cell_type": "markdown",
   "metadata": {},
   "source": [
    "#### Lattice"
   ]
  },
  {
   "cell_type": "code",
   "execution_count": 87,
   "metadata": {
    "ExecuteTime": {
     "end_time": "2021-03-06T17:09:12.363634Z",
     "start_time": "2021-03-06T17:09:12.187643Z"
    }
   },
   "outputs": [
    {
     "name": "stdout",
     "output_type": "stream",
     "text": [
      "frozenset({'priors_count=0', 'sex=Male', 'race=African-American'})\n"
     ]
    }
   ],
   "source": [
    "id_col=0\n",
    "fp_divergence_ofI=fp_divergence_ofI\n",
    "corrSign=fp_divergence_ofI.getCorrectiveItems()\n",
    "if len(corrSign)>id_col:\n",
    "    S_i=corrSign[[\"S+i\"]].head(id_col+1).values[id_col][0]\n",
    "    print(S_i)\n",
    "    fig1=fp_divergence_ofI.plotLatticeItemset(S_i, Th_divergence=0.15, sizeDot=\"small\", getLower=True)\n",
    "    if saveFig:\n",
    "        fig1.write_image(f\"{outDirLattice}/lattice_corrective_{dataset_name}_{fp_divergence_ofI.metric_name}_{min_sup}.pdf\")"
   ]
  },
  {
   "cell_type": "markdown",
   "metadata": {},
   "source": [
    "# Global"
   ]
  },
  {
   "cell_type": "code",
   "execution_count": 88,
   "metadata": {
    "ExecuteTime": {
     "end_time": "2021-03-06T17:09:12.434870Z",
     "start_time": "2021-03-06T17:09:12.364917Z"
    },
    "scrolled": true
   },
   "outputs": [
    {
     "data": {
      "application/vnd.jupyter.widget-view+json": {
       "model_id": "4bb1b4c7948d408ab45050b81ffd257c",
       "version_major": 2,
       "version_minor": 0
      },
      "text/plain": [
       "VBox(children=(Dropdown(description='c_charge_degree', options=('', 'c_charge_degree=F', 'c_charge_degree=M'),…"
      ]
     },
     "metadata": {},
     "output_type": "display_data"
    },
    {
     "data": {
      "application/vnd.jupyter.widget-view+json": {
       "model_id": "06c1ffbe372a4017bd1b89fae8d41fc6",
       "version_major": 2,
       "version_minor": 0
      },
      "text/plain": [
       "Button(description='Select items', style=ButtonStyle())"
      ]
     },
     "metadata": {},
     "output_type": "display_data"
    }
   ],
   "source": [
    "selectItemsInteractive(fp_divergence_ofI)"
   ]
  },
  {
   "cell_type": "code",
   "execution_count": 89,
   "metadata": {
    "ExecuteTime": {
     "end_time": "2021-03-06T17:09:12.441240Z",
     "start_time": "2021-03-06T17:09:12.436781Z"
    }
   },
   "outputs": [],
   "source": [
    "saveFig=saveFig\n",
    "outDirGlobal=\"./results/figures/global\"\n",
    "if saveFig:\n",
    "    createDir(outDirGlobal)"
   ]
  },
  {
   "cell_type": "markdown",
   "metadata": {},
   "source": [
    "## Classification error"
   ]
  },
  {
   "cell_type": "code",
   "execution_count": 90,
   "metadata": {
    "ExecuteTime": {
     "end_time": "2021-03-06T17:09:12.464055Z",
     "start_time": "2021-03-06T17:09:12.444643Z"
    }
   },
   "outputs": [],
   "source": [
    "u_h_ofI=fp_divergence_ofI.computeGlobalShapleyValue()"
   ]
  },
  {
   "cell_type": "code",
   "execution_count": 91,
   "metadata": {
    "ExecuteTime": {
     "end_time": "2021-03-06T17:09:12.740102Z",
     "start_time": "2021-03-06T17:09:12.465451Z"
    }
   },
   "outputs": [
    {
     "data": {
      "image/png": "[encoded data removed]",
      "text/plain": [
       "<Figure size 500x600 with 1 Axes>"
      ]
     },
     "metadata": {
      "needs_background": "light"
     },
     "output_type": "display_data"
    }
   ],
   "source": [
    "fp_divergence_ofI.plotShapleyValue(shapley_values=u_h_ofI,sizeFig=(5,6))"
   ]
  },
  {
   "cell_type": "code",
   "execution_count": 92,
   "metadata": {
    "ExecuteTime": {
     "end_time": "2021-03-06T17:09:13.200709Z",
     "start_time": "2021-03-06T17:09:12.743491Z"
    }
   },
   "outputs": [
    {
     "data": {
      "image/png": "[encoded data removed]",
      "text/plain": [
       "<Figure size 600x500 with 2 Axes>"
      ]
     },
     "metadata": {
      "needs_background": "light"
     },
     "output_type": "display_data"
    }
   ],
   "source": [
    "compareShapleyValues(normalizeMax(abbreviateDict(u_h_ofI, abbreviations)),\\\n",
    "                     normalizeMax(abbreviateDict(fp_divergence_ofI.getFItemsetsDivergence()[1], abbreviations)), \\\n",
    "                     title=[f\"$\\Delta^g_{{{fp_divergence_ofI.metric_name}}}$\", f\"$\\Delta_{{{fp_divergence_ofI.metric_name}}}$\"], \\\n",
    "                      labelsize=8, height=0.5, sizeFig=(6,5),\\\n",
    "                     saveFig=saveFig, subcaption=True,\\\n",
    "                     nameFig=f\"{outDirGlobal}/{dataset_name}_{fp_divergence_ofI.metric_name}_shap_gl_compare_{min_sup}\")"
   ]
  },
  {
   "cell_type": "code",
   "execution_count": 93,
   "metadata": {
    "ExecuteTime": {
     "end_time": "2021-03-06T17:09:13.206199Z",
     "start_time": "2021-03-06T17:09:13.202233Z"
    }
   },
   "outputs": [],
   "source": [
    "## Compare FPR,FNR"
   ]
  },
  {
   "cell_type": "code",
   "execution_count": 94,
   "metadata": {
    "ExecuteTime": {
     "end_time": "2021-03-06T17:09:13.211894Z",
     "start_time": "2021-03-06T17:09:13.208958Z"
    }
   },
   "outputs": [],
   "source": [
    "# compareShapleyValues(normalizeMax(abbreviateDict(u_h_ofI, abbreviations)), normalizeMax(abbreviateDict(u_h_fnr, abbreviations)), \\\n",
    "#                      title=[f\"$\\Delta^g_{{{fp_divergence_ofI.metric_name}}}$\", f\"$\\Delta^g_{{{fp_divergence_fnr.metric_name}}}$\"], \\\n",
    "#                       labelsize=8, height=0.5, sizeFig=(4,3), \\\n",
    "#                      saveFig=saveFig, subcaption=True,\\\n",
    "#                      nameFig=f\"{outDirGlobal}/{dataset_name}_FPR_FNR_shap_gl_compare_{min_sup}\")"
   ]
  },
  {
   "cell_type": "markdown",
   "metadata": {},
   "source": [
    "## Top K Global plot"
   ]
  },
  {
   "cell_type": "code",
   "execution_count": 95,
   "metadata": {
    "ExecuteTime": {
     "end_time": "2021-03-06T17:09:13.722937Z",
     "start_time": "2021-03-06T17:09:13.213124Z"
    }
   },
   "outputs": [
    {
     "data": {
      "image/png": "[encoded data removed]",
      "text/plain": [
       "<Figure size 500x400 with 2 Axes>"
      ]
     },
     "metadata": {
      "needs_background": "light"
     },
     "output_type": "display_data"
    }
   ],
   "source": [
    "K=25\n",
    "topK_global={k:v for k,v in u_h_ofI.items() if k in sorted(u_h_ofI, key=lambda x: abs(u_h_ofI[x]))[::-1][:K]}\n",
    "topK_I_len1={k:v for k,v in fp_divergence_ofI.getFItemsetsDivergence()[1].items() if k in topK_global.keys()}\n",
    "\n",
    "compareShapleyValues(normalizeMax(abbreviateDict(topK_global, abbreviations)),\\\n",
    "                     normalizeMax(abbreviateDict(topK_I_len1, abbreviations)), \\\n",
    "                     title=[f\"$\\Delta^g_{{{fp_divergence_ofI.metric_name}}}$\", f\"$\\Delta_{{{fp_divergence_ofI.metric_name}}}$\"], \\\n",
    "                      labelsize=8, height=0.5, sizeFig=(5,4),\\\n",
    "                     saveFig=saveFig, subcaption=True,\\\n",
    "                     pad=0.5,\\\n",
    "                     nameFig=f\"{outDirGlobal}/{dataset_name}_{fp_divergence_ofI.metric_name}_shap_gl_compare_{min_sup}_top{K}\")"
   ]
  },
  {
   "cell_type": "markdown",
   "metadata": {},
   "source": [
    "## All metrics of interest"
   ]
  },
  {
   "cell_type": "code",
   "execution_count": 96,
   "metadata": {
    "ExecuteTime": {
     "end_time": "2021-03-06T17:22:27.514047Z",
     "start_time": "2021-03-06T17:22:26.548483Z"
    },
    "scrolled": false
   },
   "outputs": [
    {
     "data": {
      "image/png": "[encoded data removed]",
      "text/plain": [
       "<Figure size 300x400 with 1 Axes>"
      ]
     },
     "metadata": {
      "needs_background": "light"
     },
     "output_type": "display_data"
    },
    {
     "data": {
      "image/png": "[encoded data removed]",
      "text/plain": [
       "<Figure size 300x400 with 1 Axes>"
      ]
     },
     "metadata": {
      "needs_background": "light"
     },
     "output_type": "display_data"
    },
    {
     "data": {
      "image/png": "[encoded data removed]",
      "text/plain": [
       "<Figure size 300x400 with 1 Axes>"
      ]
     },
     "metadata": {
      "needs_background": "light"
     },
     "output_type": "display_data"
    },
    {
     "data": {
      "image/png": "[encoded data removed]",
      "text/plain": [
       "<Figure size 300x400 with 1 Axes>"
      ]
     },
     "metadata": {
      "needs_background": "light"
     },
     "output_type": "display_data"
    }
   ],
   "source": [
    "for metric_ofI in metrics:\n",
    "    fp_divergence_ofI=FP_Divergence(FP_fm, metric_ofI)\n",
    "    u_h_ofI=fp_divergence_ofI.computeGlobalShapleyValue()\n",
    "    u_h_ofI_normalized=normalizeMax(abbreviateDict(u_h_ofI, abbreviations))\n",
    "    title=rf\"$\\tilde{{Δ}}^g_{{{fp_divergence_ofI.metric_name}}}$\"\n",
    "    fp_divergence_ofI.plotShapleyValue(shapley_values=u_h_ofI_normalized,sizeFig=(3,4), title=title, labelsize=8, titlesize=12  )"
   ]
  },
  {
   "cell_type": "markdown",
   "metadata": {
    "ExecuteTime": {
     "end_time": "2021-03-06T17:12:08.621841Z",
     "start_time": "2021-03-06T17:12:08.614510Z"
    }
   },
   "source": [
    "## Top K terms"
   ]
  },
  {
   "cell_type": "code",
   "execution_count": 97,
   "metadata": {
    "ExecuteTime": {
     "end_time": "2021-03-06T17:23:50.372674Z",
     "start_time": "2021-03-06T17:23:49.699976Z"
    }
   },
   "outputs": [
    {
     "data": {
      "image/png": "[encoded data removed]",
      "text/plain": [
       "<Figure size 300x400 with 1 Axes>"
      ]
     },
     "metadata": {
      "needs_background": "light"
     },
     "output_type": "display_data"
    },
    {
     "data": {
      "image/png": "[encoded data removed]",
      "text/plain": [
       "<Figure size 300x400 with 1 Axes>"
      ]
     },
     "metadata": {
      "needs_background": "light"
     },
     "output_type": "display_data"
    },
    {
     "data": {
      "image/png": "[encoded data removed]",
      "text/plain": [
       "<Figure size 300x400 with 1 Axes>"
      ]
     },
     "metadata": {
      "needs_background": "light"
     },
     "output_type": "display_data"
    },
    {
     "data": {
      "image/png": "[encoded data removed]",
      "text/plain": [
       "<Figure size 300x400 with 1 Axes>"
      ]
     },
     "metadata": {
      "needs_background": "light"
     },
     "output_type": "display_data"
    }
   ],
   "source": [
    "K=10\n",
    "\n",
    "for metric_ofI in metrics:\n",
    "    fp_divergence_ofI=FP_Divergence(FP_fm, metric_ofI)\n",
    "    u_h_ofI=fp_divergence_ofI.computeGlobalShapleyValue()\n",
    "    topK_global={k:v for k,v in u_h_ofI.items() if k in sorted(u_h_ofI, key=lambda x: abs(u_h_ofI[x]))[::-1][:K]}\n",
    "    topK_global_normalized=normalizeMax(abbreviateDict(topK_global, abbreviations))\n",
    "    title=rf\"$\\tilde{{Δ}}^g_{{{fp_divergence_ofI.metric_name}}}$\"\n",
    "    fp_divergence_ofI.plotShapleyValue(shapley_values=topK_global,sizeFig=(3,4), title=title, labelsize=8, titlesize=12  )"
   ]
  }
 ],
 "metadata": {
  "hide_input": false,
  "kernelspec": {
   "display_name": "divexplorerp",
   "language": "python",
   "name": "divexplorerp"
  },
  "language_info": {
   "codemirror_mode": {
    "name": "ipython",
    "version": 3
   },
   "file_extension": ".py",
   "mimetype": "text/x-python",
   "name": "python",
   "nbconvert_exporter": "python",
   "pygments_lexer": "ipython3",
   "version": "3.10.4"
  },
  "toc": {
   "base_numbering": 1,
   "nav_menu": {},
   "number_sections": true,
   "sideBar": true,
   "skip_h1_title": false,
   "title_cell": "Table of Contents",
   "title_sidebar": "Contents",
   "toc_cell": false,
   "toc_position": {
    "height": "522px",
    "left": "26px",
    "top": "109.301px",
    "width": "182px"
   },
   "toc_section_display": true,
   "toc_window_display": true
  },
  "varInspector": {
   "cols": {
    "lenName": 16,
    "lenType": 16,
    "lenVar": 40
   },
   "kernels_config": {
    "python": {
     "delete_cmd_postfix": "",
     "delete_cmd_prefix": "del ",
     "library": "var_list.py",
     "varRefreshCmd": "print(var_dic_list())"
    },
    "r": {
     "delete_cmd_postfix": ") ",
     "delete_cmd_prefix": "rm(",
     "library": "var_list.r",
     "varRefreshCmd": "cat(var_dic_list()) "
    }
   },
   "types_to_exclude": [
    "module",
    "function",
    "builtin_function_or_method",
    "instance",
    "_Feature"
   ],
   "window_display": false
  }
 },
 "nbformat": 4,
 "nbformat_minor": 2
}
