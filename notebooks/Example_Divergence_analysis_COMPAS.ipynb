{
 "cells": [
  {
   "cell_type": "markdown",
   "metadata": {},
   "source": [
    "# DivExplorer analysis - Example with COMPAS dataset "
   ]
  },
  {
   "cell_type": "markdown",
   "metadata": {
    "ExecuteTime": {
     "end_time": "2021-06-17T15:55:54.734640Z",
     "start_time": "2021-06-17T15:55:54.702181Z"
    }
   },
   "source": [
    "This notebook shows an example of the use of DivExplorer."
   ]
  },
  {
   "cell_type": "markdown",
   "metadata": {
    "ExecuteTime": {
     "end_time": "2021-06-11T14:57:33.227374Z",
     "start_time": "2021-06-11T14:57:33.204664Z"
    }
   },
   "source": [
    "# Import dataset"
   ]
  },
  {
   "cell_type": "markdown",
   "metadata": {
    "ExecuteTime": {
     "end_time": "2021-06-11T17:27:41.995139Z",
     "start_time": "2021-06-11T17:27:41.990917Z"
    }
   },
   "source": [
    "In this running example we analyze the [COMPAS](https://www.propublica.org/article/how-we-analyzed-the-compas-recidivism-algorithm) dataset.\n",
    "\n",
    "We import an already pre-processed and discretized version. You can refer to this [notebook](www.google.com) for its pre-processing.\n",
    "\n",
    "The COMPAS dataset contains demographic information and the criminal history of defendants.\n",
    "For each criminal defendant, the following attributes are available:\n",
    "- *age_cat*: age category of the defendant. \n",
    "- *c_charge_degree*: severity of the charge. 'M'='Misdemeanor','F'='Felony' \n",
    "- *race*: 'Afr-Am', 'Asian', 'Cauc', 'Hispanic', 'Native American', 'Other'\n",
    "- *sex*: 'Female', 'Male'\n",
    "- *length_of_stay*: the days spent in jail, derived from the records of the date in which the person entered lastly the jail and the date in which the person was released.\n",
    "- *priors_count*: the number of prior crimes committed.\n",
    "\n",
    "\n",
    "For each defendant, the dataset also records:\n",
    "- the *class*, whether the defendant recidivated (was arrested again) in the next two years. It is 1 if the defendant recidivated, 0 otherwise.\n",
    "- the *predicted* recidivism, derived from the COMPAS score of recidivism risk assesses the defendant’s likelihood of committing another offense in a period of two years. It is 1 if the risk is high."
   ]
  },
  {
   "cell_type": "code",
   "execution_count": 1,
   "metadata": {
    "ExecuteTime": {
     "end_time": "2021-06-18T07:26:37.039171Z",
     "start_time": "2021-06-18T07:26:36.542321Z"
    }
   },
   "outputs": [
    {
     "data": {
      "text/html": [
       "<div>\n",
       "<style scoped>\n",
       "    .dataframe tbody tr th:only-of-type {\n",
       "        vertical-align: middle;\n",
       "    }\n",
       "\n",
       "    .dataframe tbody tr th {\n",
       "        vertical-align: top;\n",
       "    }\n",
       "\n",
       "    .dataframe thead th {\n",
       "        text-align: right;\n",
       "    }\n",
       "</style>\n",
       "<table border=\"1\" class=\"dataframe\">\n",
       "  <thead>\n",
       "    <tr style=\"text-align: right;\">\n",
       "      <th></th>\n",
       "      <th>age</th>\n",
       "      <th>charge</th>\n",
       "      <th>race</th>\n",
       "      <th>sex</th>\n",
       "      <th>#prior</th>\n",
       "      <th>stay</th>\n",
       "      <th>class</th>\n",
       "      <th>predicted</th>\n",
       "    </tr>\n",
       "  </thead>\n",
       "  <tbody>\n",
       "    <tr>\n",
       "      <th>0</th>\n",
       "      <td>&gt;45</td>\n",
       "      <td>F</td>\n",
       "      <td>Other</td>\n",
       "      <td>Male</td>\n",
       "      <td>0</td>\n",
       "      <td>&lt;week</td>\n",
       "      <td>0</td>\n",
       "      <td>0</td>\n",
       "    </tr>\n",
       "    <tr>\n",
       "      <th>1</th>\n",
       "      <td>25-45</td>\n",
       "      <td>F</td>\n",
       "      <td>Afr-Am</td>\n",
       "      <td>Male</td>\n",
       "      <td>0</td>\n",
       "      <td>1w-3M</td>\n",
       "      <td>1</td>\n",
       "      <td>0</td>\n",
       "    </tr>\n",
       "    <tr>\n",
       "      <th>2</th>\n",
       "      <td>&lt;25</td>\n",
       "      <td>F</td>\n",
       "      <td>Afr-Am</td>\n",
       "      <td>Male</td>\n",
       "      <td>&gt;3</td>\n",
       "      <td>&lt;week</td>\n",
       "      <td>1</td>\n",
       "      <td>0</td>\n",
       "    </tr>\n",
       "    <tr>\n",
       "      <th>3</th>\n",
       "      <td>25-45</td>\n",
       "      <td>M</td>\n",
       "      <td>Other</td>\n",
       "      <td>Male</td>\n",
       "      <td>0</td>\n",
       "      <td>&lt;week</td>\n",
       "      <td>0</td>\n",
       "      <td>0</td>\n",
       "    </tr>\n",
       "    <tr>\n",
       "      <th>4</th>\n",
       "      <td>25-45</td>\n",
       "      <td>F</td>\n",
       "      <td>Cauc</td>\n",
       "      <td>Male</td>\n",
       "      <td>&gt;3</td>\n",
       "      <td>&lt;week</td>\n",
       "      <td>1</td>\n",
       "      <td>0</td>\n",
       "    </tr>\n",
       "  </tbody>\n",
       "</table>\n",
       "</div>"
      ],
      "text/plain": [
       "     age charge    race   sex #prior   stay  class  predicted\n",
       "0    >45      F   Other  Male      0  <week      0          0\n",
       "1  25-45      F  Afr-Am  Male      0  1w-3M      1          0\n",
       "2    <25      F  Afr-Am  Male     >3  <week      1          0\n",
       "3  25-45      M   Other  Male      0  <week      0          0\n",
       "4  25-45      F    Cauc  Male     >3  <week      1          0"
      ]
     },
     "execution_count": 1,
     "metadata": {},
     "output_type": "execute_result"
    }
   ],
   "source": [
    "import os\n",
    "inputDir=os.path.join(\".\", \"datasets\")\n",
    "\n",
    "import pandas as pd\n",
    "df= pd.read_csv(os.path.join(inputDir, \"compas_discretized.csv\"))\n",
    "class_map={'N': 0, 'P': 1}\n",
    "df.head()"
   ]
  },
  {
   "cell_type": "markdown",
   "metadata": {},
   "source": [
    "# Compute pattern divergence"
   ]
  },
  {
   "cell_type": "markdown",
   "metadata": {},
   "source": [
    "With DivExplorer, we can compute the the performance metrics and the divergence scores of *all* itemsets whose frequency in the dataset is above a minimum frequency threshold (min_sup)."
   ]
  },
  {
   "cell_type": "markdown",
   "metadata": {
    "ExecuteTime": {
     "end_time": "2021-06-17T13:03:12.150889Z",
     "start_time": "2021-06-17T13:03:12.134122Z"
    }
   },
   "source": [
    "To compute the divergence score, we have to specify the following info.\n",
    "\n",
    "FP_DivergenceExplorer:\n",
    "- **df**: discretized dataset (DataFrame)\n",
    "- name of the **class** column (str)\n",
    "- name of the **predicted** class column (str)\n",
    "- dictionary indicating the positive and the negative class (dict)  {'N': 0, 'P': 1}.\n",
    "\n",
    "getFrequentPatternDivergence methods:\n",
    "- min_sup: the minimum frequency threshold\n",
    "- metrics: divergence metrics of interest. In the example we specify the false positive (d_fpr), false negative (d_fnr) and accuracy divergence (d_accuracy) (also the default ones)\n",
    "\n",
    "\n",
    "As output we obtain a dataframe. Each row contain the information of a frequent pattern (with a support greater or equal to min_sup) and the divergence scores."
   ]
  },
  {
   "cell_type": "code",
   "execution_count": 2,
   "metadata": {
    "ExecuteTime": {
     "end_time": "2021-06-18T07:26:37.265310Z",
     "start_time": "2021-06-18T07:26:37.040791Z"
    }
   },
   "outputs": [],
   "source": [
    "from divexplorer.FP_DivergenceExplorer import FP_DivergenceExplorer\n",
    "\n",
    "min_sup=0.1\n",
    "fp_diver=FP_DivergenceExplorer(df,\"class\", \"predicted\", class_map=class_map)\n",
    "FP_fm=fp_diver.getFrequentPatternDivergence(min_support=min_sup, metrics=[\"d_fpr\", \"d_fnr\", \"d_accuracy\"])"
   ]
  },
  {
   "cell_type": "code",
   "execution_count": 3,
   "metadata": {
    "ExecuteTime": {
     "end_time": "2021-06-18T07:26:37.270356Z",
     "start_time": "2021-06-18T07:26:37.266958Z"
    }
   },
   "outputs": [
    {
     "name": "stdout",
     "output_type": "stream",
     "text": [
      "Number of frequent patterns: 155\n"
     ]
    }
   ],
   "source": [
    "print(f\"Number of frequent patterns: {len(FP_fm)}\")"
   ]
  },
  {
   "cell_type": "markdown",
   "metadata": {},
   "source": [
    "DivExplorer computes the divergences for all itemsets above the specified support size.\n",
    "\n",
    "Specifically, each row of the obtained dataframe has the following information:\n",
    "- itemset\n",
    "- support of the itemset\n",
    "- support count\n",
    "- TP, TN, FP, FN: the number of true positive (TP), true negatives (TP), false positives (FP) and false negatives (FN) of the itemset. The colulms hence represent the confusion matrix of the itemset\n",
    "- length of the itemset: number of items in an itemset\n",
    "- Performance measure: in the example we have the false positive rate (fpr), false negative rate (fnr) and accuracy.\n",
    "- **Divergence**: the divergence of the itemset with respect the metric(s) of interest. In the example, we have the false positive rate divergence (**d_fpr**), false negative divergence (**d_fnr**) and the accuracy divergence (**d_acc**)"
   ]
  },
  {
   "cell_type": "code",
   "execution_count": 4,
   "metadata": {
    "ExecuteTime": {
     "end_time": "2021-06-18T07:26:37.303502Z",
     "start_time": "2021-06-18T07:26:37.272910Z"
    }
   },
   "outputs": [
    {
     "data": {
      "text/html": [
       "<div>\n",
       "<style scoped>\n",
       "    .dataframe tbody tr th:only-of-type {\n",
       "        vertical-align: middle;\n",
       "    }\n",
       "\n",
       "    .dataframe tbody tr th {\n",
       "        vertical-align: top;\n",
       "    }\n",
       "\n",
       "    .dataframe thead th {\n",
       "        text-align: right;\n",
       "    }\n",
       "</style>\n",
       "<table border=\"1\" class=\"dataframe\">\n",
       "  <thead>\n",
       "    <tr style=\"text-align: right;\">\n",
       "      <th></th>\n",
       "      <th>support</th>\n",
       "      <th>itemsets</th>\n",
       "      <th>tn</th>\n",
       "      <th>fp</th>\n",
       "      <th>fn</th>\n",
       "      <th>tp</th>\n",
       "      <th>length</th>\n",
       "      <th>support_count</th>\n",
       "      <th>fpr</th>\n",
       "      <th>fnr</th>\n",
       "      <th>accuracy</th>\n",
       "      <th>d_fnr</th>\n",
       "      <th>d_fpr</th>\n",
       "      <th>d_accuracy</th>\n",
       "      <th>t_value_fp</th>\n",
       "      <th>t_value_fn</th>\n",
       "      <th>t_value_tp_tn</th>\n",
       "    </tr>\n",
       "  </thead>\n",
       "  <tbody>\n",
       "    <tr>\n",
       "      <th>0</th>\n",
       "      <td>1.000000</td>\n",
       "      <td>()</td>\n",
       "      <td>3066</td>\n",
       "      <td>297</td>\n",
       "      <td>1962</td>\n",
       "      <td>847</td>\n",
       "      <td>0</td>\n",
       "      <td>6172.0</td>\n",
       "      <td>0.088314</td>\n",
       "      <td>0.698469</td>\n",
       "      <td>0.633992</td>\n",
       "      <td>0.000000</td>\n",
       "      <td>0.000000</td>\n",
       "      <td>0.000000</td>\n",
       "      <td>0.000000</td>\n",
       "      <td>0.000000</td>\n",
       "      <td>0.000000</td>\n",
       "    </tr>\n",
       "    <tr>\n",
       "      <th>1</th>\n",
       "      <td>0.809624</td>\n",
       "      <td>(sex=Male)</td>\n",
       "      <td>2357</td>\n",
       "      <td>244</td>\n",
       "      <td>1647</td>\n",
       "      <td>749</td>\n",
       "      <td>1</td>\n",
       "      <td>4997.0</td>\n",
       "      <td>0.093810</td>\n",
       "      <td>0.687396</td>\n",
       "      <td>0.621573</td>\n",
       "      <td>-0.011074</td>\n",
       "      <td>0.005496</td>\n",
       "      <td>-0.012419</td>\n",
       "      <td>0.738697</td>\n",
       "      <td>0.864525</td>\n",
       "      <td>1.350598</td>\n",
       "    </tr>\n",
       "    <tr>\n",
       "      <th>2</th>\n",
       "      <td>0.772683</td>\n",
       "      <td>(stay=&lt;week)</td>\n",
       "      <td>2589</td>\n",
       "      <td>201</td>\n",
       "      <td>1487</td>\n",
       "      <td>492</td>\n",
       "      <td>1</td>\n",
       "      <td>4769.0</td>\n",
       "      <td>0.072043</td>\n",
       "      <td>0.751390</td>\n",
       "      <td>0.646047</td>\n",
       "      <td>0.052920</td>\n",
       "      <td>-0.016271</td>\n",
       "      <td>0.012055</td>\n",
       "      <td>2.339352</td>\n",
       "      <td>4.059364</td>\n",
       "      <td>1.301787</td>\n",
       "    </tr>\n",
       "    <tr>\n",
       "      <th>3</th>\n",
       "      <td>0.643227</td>\n",
       "      <td>(charge=F)</td>\n",
       "      <td>1772</td>\n",
       "      <td>214</td>\n",
       "      <td>1307</td>\n",
       "      <td>677</td>\n",
       "      <td>1</td>\n",
       "      <td>3970.0</td>\n",
       "      <td>0.107754</td>\n",
       "      <td>0.658770</td>\n",
       "      <td>0.616877</td>\n",
       "      <td>-0.039699</td>\n",
       "      <td>0.019440</td>\n",
       "      <td>-0.017116</td>\n",
       "      <td>2.301183</td>\n",
       "      <td>2.896145</td>\n",
       "      <td>1.738770</td>\n",
       "    </tr>\n",
       "    <tr>\n",
       "      <th>4</th>\n",
       "      <td>0.614226</td>\n",
       "      <td>(sex=Male, stay=&lt;week)</td>\n",
       "      <td>1959</td>\n",
       "      <td>162</td>\n",
       "      <td>1236</td>\n",
       "      <td>434</td>\n",
       "      <td>2</td>\n",
       "      <td>3791.0</td>\n",
       "      <td>0.076379</td>\n",
       "      <td>0.740120</td>\n",
       "      <td>0.631232</td>\n",
       "      <td>0.041651</td>\n",
       "      <td>-0.011935</td>\n",
       "      <td>-0.002760</td>\n",
       "      <td>1.555571</td>\n",
       "      <td>3.011311</td>\n",
       "      <td>0.280104</td>\n",
       "    </tr>\n",
       "  </tbody>\n",
       "</table>\n",
       "</div>"
      ],
      "text/plain": [
       "    support                itemsets    tn   fp    fn   tp  length  \\\n",
       "0  1.000000                      ()  3066  297  1962  847       0   \n",
       "1  0.809624              (sex=Male)  2357  244  1647  749       1   \n",
       "2  0.772683            (stay=<week)  2589  201  1487  492       1   \n",
       "3  0.643227              (charge=F)  1772  214  1307  677       1   \n",
       "4  0.614226  (sex=Male, stay=<week)  1959  162  1236  434       2   \n",
       "\n",
       "   support_count       fpr       fnr  accuracy     d_fnr     d_fpr  \\\n",
       "0         6172.0  0.088314  0.698469  0.633992  0.000000  0.000000   \n",
       "1         4997.0  0.093810  0.687396  0.621573 -0.011074  0.005496   \n",
       "2         4769.0  0.072043  0.751390  0.646047  0.052920 -0.016271   \n",
       "3         3970.0  0.107754  0.658770  0.616877 -0.039699  0.019440   \n",
       "4         3791.0  0.076379  0.740120  0.631232  0.041651 -0.011935   \n",
       "\n",
       "   d_accuracy  t_value_fp  t_value_fn  t_value_tp_tn  \n",
       "0    0.000000    0.000000    0.000000       0.000000  \n",
       "1   -0.012419    0.738697    0.864525       1.350598  \n",
       "2    0.012055    2.339352    4.059364       1.301787  \n",
       "3   -0.017116    2.301183    2.896145       1.738770  \n",
       "4   -0.002760    1.555571    3.011311       0.280104  "
      ]
     },
     "execution_count": 4,
     "metadata": {},
     "output_type": "execute_result"
    }
   ],
   "source": [
    "FP_fm.head()"
   ]
  },
  {
   "cell_type": "markdown",
   "metadata": {},
   "source": [
    "DivExplorer compute the divergence scores with respect to multiple metrics. \n",
    "\n",
    "We can then analyze the divergence values for a specific performance measure on interest."
   ]
  },
  {
   "cell_type": "markdown",
   "metadata": {},
   "source": [
    "# Analyze FPR divergence"
   ]
  },
  {
   "cell_type": "markdown",
   "metadata": {
    "ExecuteTime": {
     "end_time": "2021-06-17T14:02:33.775716Z",
     "start_time": "2021-06-17T14:02:33.771773Z"
    }
   },
   "source": [
    "Let's start by analyzing the false positive rate divergence."
   ]
  },
  {
   "cell_type": "code",
   "execution_count": 5,
   "metadata": {
    "ExecuteTime": {
     "end_time": "2021-06-18T07:26:37.389087Z",
     "start_time": "2021-06-18T07:26:37.304971Z"
    }
   },
   "outputs": [],
   "source": [
    "from divexplorer.FP_Divergence import FP_Divergence\n",
    "fp_divergence_fpr=FP_Divergence(FP_fm, \"d_fpr\")"
   ]
  },
  {
   "cell_type": "code",
   "execution_count": 6,
   "metadata": {
    "ExecuteTime": {
     "end_time": "2021-06-18T07:26:37.393261Z",
     "start_time": "2021-06-18T07:26:37.390790Z"
    }
   },
   "outputs": [],
   "source": [
    "INFO_VIZ=[\"support\", \"itemsets\",  fp_divergence_fpr.metric, fp_divergence_fpr.t_value_col]"
   ]
  },
  {
   "cell_type": "markdown",
   "metadata": {
    "ExecuteTime": {
     "end_time": "2021-06-17T14:15:14.534993Z",
     "start_time": "2021-06-17T14:15:14.529126Z"
    }
   },
   "source": [
    "## Top-K FPR divergence"
   ]
  },
  {
   "cell_type": "markdown",
   "metadata": {
    "ExecuteTime": {
     "end_time": "2021-06-17T14:07:05.004002Z",
     "start_time": "2021-06-17T14:07:04.992827Z"
    }
   },
   "source": [
    "We can first analyze the top K (K=10) most divergent patterns, the ones with highest FPR.\n",
    "\n",
    "\n",
    "The itemset that has greatest divergence is {age=25-45, #prior>3, race=Afr-Am, sex=Male}, with support 13% of the dataset (0.128645), and false-positive divergence 0.220 (0.219722). \n",
    "\n",
    "Male African-American defendants between 25 and 45 years of age, with more than 3 prior offenses, are wrongly predicated to recidivate at a rate 0.220 (or 22%) greater than the average defendant."
   ]
  },
  {
   "cell_type": "code",
   "execution_count": 7,
   "metadata": {
    "ExecuteTime": {
     "end_time": "2021-06-18T07:26:37.432129Z",
     "start_time": "2021-06-18T07:26:37.395578Z"
    }
   },
   "outputs": [
    {
     "data": {
      "text/html": [
       "<div>\n",
       "<style scoped>\n",
       "    .dataframe tbody tr th:only-of-type {\n",
       "        vertical-align: middle;\n",
       "    }\n",
       "\n",
       "    .dataframe tbody tr th {\n",
       "        vertical-align: top;\n",
       "    }\n",
       "\n",
       "    .dataframe thead th {\n",
       "        text-align: right;\n",
       "    }\n",
       "</style>\n",
       "<table border=\"1\" class=\"dataframe\">\n",
       "  <thead>\n",
       "    <tr style=\"text-align: right;\">\n",
       "      <th></th>\n",
       "      <th>support</th>\n",
       "      <th>itemsets</th>\n",
       "      <th>d_fpr</th>\n",
       "      <th>t_value_fp</th>\n",
       "    </tr>\n",
       "  </thead>\n",
       "  <tbody>\n",
       "    <tr>\n",
       "      <th>112</th>\n",
       "      <td>0.128645</td>\n",
       "      <td>(race=Afr-Am, age=25-45, sex=Male, #prior=&gt;3)</td>\n",
       "      <td>0.219722</td>\n",
       "      <td>7.116857</td>\n",
       "    </tr>\n",
       "    <tr>\n",
       "      <th>92</th>\n",
       "      <td>0.145010</td>\n",
       "      <td>(race=Afr-Am, age=25-45, #prior=&gt;3)</td>\n",
       "      <td>0.210928</td>\n",
       "      <td>7.448260</td>\n",
       "    </tr>\n",
       "    <tr>\n",
       "      <th>135</th>\n",
       "      <td>0.109527</td>\n",
       "      <td>(race=Afr-Am, age=25-45, charge=F, #prior=&gt;3)</td>\n",
       "      <td>0.201841</td>\n",
       "      <td>6.201585</td>\n",
       "    </tr>\n",
       "    <tr>\n",
       "      <th>109</th>\n",
       "      <td>0.130752</td>\n",
       "      <td>(race=Afr-Am, #prior=&gt;3, charge=F, sex=Male)</td>\n",
       "      <td>0.180408</td>\n",
       "      <td>6.132988</td>\n",
       "    </tr>\n",
       "    <tr>\n",
       "      <th>67</th>\n",
       "      <td>0.175308</td>\n",
       "      <td>(race=Afr-Am, sex=Male, #prior=&gt;3)</td>\n",
       "      <td>0.178557</td>\n",
       "      <td>7.214382</td>\n",
       "    </tr>\n",
       "    <tr>\n",
       "      <th>55</th>\n",
       "      <td>0.196695</td>\n",
       "      <td>(race=Afr-Am, #prior=&gt;3)</td>\n",
       "      <td>0.172783</td>\n",
       "      <td>7.582039</td>\n",
       "    </tr>\n",
       "    <tr>\n",
       "      <th>87</th>\n",
       "      <td>0.148412</td>\n",
       "      <td>(race=Afr-Am, charge=F, #prior=&gt;3)</td>\n",
       "      <td>0.170810</td>\n",
       "      <td>6.421341</td>\n",
       "    </tr>\n",
       "    <tr>\n",
       "      <th>105</th>\n",
       "      <td>0.133668</td>\n",
       "      <td>(age=25-45, #prior=&gt;3, charge=F, sex=Male)</td>\n",
       "      <td>0.170019</td>\n",
       "      <td>6.011738</td>\n",
       "    </tr>\n",
       "    <tr>\n",
       "      <th>82</th>\n",
       "      <td>0.155865</td>\n",
       "      <td>(age=25-45, charge=F, #prior=&gt;3)</td>\n",
       "      <td>0.167741</td>\n",
       "      <td>6.491614</td>\n",
       "    </tr>\n",
       "    <tr>\n",
       "      <th>62</th>\n",
       "      <td>0.180655</td>\n",
       "      <td>(age=25-45, sex=Male, #prior=&gt;3)</td>\n",
       "      <td>0.164627</td>\n",
       "      <td>6.903692</td>\n",
       "    </tr>\n",
       "  </tbody>\n",
       "</table>\n",
       "</div>"
      ],
      "text/plain": [
       "      support                                       itemsets     d_fpr  \\\n",
       "112  0.128645  (race=Afr-Am, age=25-45, sex=Male, #prior=>3)  0.219722   \n",
       "92   0.145010            (race=Afr-Am, age=25-45, #prior=>3)  0.210928   \n",
       "135  0.109527  (race=Afr-Am, age=25-45, charge=F, #prior=>3)  0.201841   \n",
       "109  0.130752   (race=Afr-Am, #prior=>3, charge=F, sex=Male)  0.180408   \n",
       "67   0.175308             (race=Afr-Am, sex=Male, #prior=>3)  0.178557   \n",
       "55   0.196695                       (race=Afr-Am, #prior=>3)  0.172783   \n",
       "87   0.148412             (race=Afr-Am, charge=F, #prior=>3)  0.170810   \n",
       "105  0.133668     (age=25-45, #prior=>3, charge=F, sex=Male)  0.170019   \n",
       "82   0.155865               (age=25-45, charge=F, #prior=>3)  0.167741   \n",
       "62   0.180655               (age=25-45, sex=Male, #prior=>3)  0.164627   \n",
       "\n",
       "     t_value_fp  \n",
       "112    7.116857  \n",
       "92     7.448260  \n",
       "135    6.201585  \n",
       "109    6.132988  \n",
       "67     7.214382  \n",
       "55     7.582039  \n",
       "87     6.421341  \n",
       "105    6.011738  \n",
       "82     6.491614  \n",
       "62     6.903692  "
      ]
     },
     "execution_count": 7,
     "metadata": {},
     "output_type": "execute_result"
    }
   ],
   "source": [
    "K=10\n",
    "fp_divergence_fpr.getDivergence(th_redundancy=0)[INFO_VIZ].head(K)"
   ]
  },
  {
   "cell_type": "markdown",
   "metadata": {},
   "source": [
    "## Shapley value"
   ]
  },
  {
   "cell_type": "markdown",
   "metadata": {
    "ExecuteTime": {
     "end_time": "2021-06-17T14:14:48.657741Z",
     "start_time": "2021-06-17T14:14:48.650945Z"
    }
   },
   "source": [
    "We can be interest in analyzing the influence of each individual item (i.e. attribute value pair) to the divergence."
   ]
  },
  {
   "cell_type": "code",
   "execution_count": 8,
   "metadata": {
    "ExecuteTime": {
     "end_time": "2021-06-18T07:26:37.445411Z",
     "start_time": "2021-06-18T07:26:37.434657Z"
    }
   },
   "outputs": [
    {
     "data": {
      "text/plain": [
       "{frozenset({'#prior=>3',\n",
       "            'age=25-45',\n",
       "            'race=Afr-Am',\n",
       "            'sex=Male'}): 0.21972170893335036}"
      ]
     },
     "execution_count": 8,
     "metadata": {},
     "output_type": "execute_result"
    }
   ],
   "source": [
    "# Itemset with highest divergence\n",
    "top1_itemset_divergence_fpr=fp_divergence_fpr.getDivergenceTopK(K=1, th_redundancy=0)\n",
    "top1_itemset_fpr=list(top1_itemset_divergence_fpr)[0]\n",
    "top1_itemset_divergence_fpr"
   ]
  },
  {
   "cell_type": "markdown",
   "metadata": {},
   "source": [
    "DivExplorer use the notion of Shapley value to estimate the contribution of each item to the divergence"
   ]
  },
  {
   "cell_type": "code",
   "execution_count": 9,
   "metadata": {
    "ExecuteTime": {
     "end_time": "2021-06-18T07:26:37.452005Z",
     "start_time": "2021-06-18T07:26:37.447991Z"
    }
   },
   "outputs": [],
   "source": [
    "itemset_shapley_value=fp_divergence_fpr.computeShapleyValue(top1_itemset_fpr)\n"
   ]
  },
  {
   "cell_type": "markdown",
   "metadata": {
    "ExecuteTime": {
     "end_time": "2021-06-17T14:21:47.383225Z",
     "start_time": "2021-06-17T14:21:47.345078Z"
    }
   },
   "source": [
    "We plot the Shapley Values. \n",
    "\n",
    "Most of the divergence of this itemset (most of the excess false-positive rate) is due to having more than 3 prior offenses, with race=Afr-Am as the second most important\n",
    "factor."
   ]
  },
  {
   "cell_type": "code",
   "execution_count": 10,
   "metadata": {
    "ExecuteTime": {
     "end_time": "2021-06-18T07:26:37.775896Z",
     "start_time": "2021-06-18T07:26:37.455143Z"
    }
   },
   "outputs": [
    {
     "data": {
      "image/png": "[encoded data removed]",
      "text/plain": [
       "<Figure size 432x288 with 1 Axes>"
      ]
     },
     "metadata": {
      "needs_background": "light"
     },
     "output_type": "display_data"
    }
   ],
   "source": [
    "fp_divergence_fpr.plotShapleyValue(shapley_values=itemset_shapley_value)"
   ]
  },
  {
   "cell_type": "markdown",
   "metadata": {},
   "source": [
    "## Lattice"
   ]
  },
  {
   "cell_type": "markdown",
   "metadata": {
    "ExecuteTime": {
     "end_time": "2021-06-17T14:45:28.197050Z",
     "start_time": "2021-06-17T14:45:28.189762Z"
    }
   },
   "source": [
    "We can visualize the lattice graph of a specific itemset.\n",
    "\n",
    "In the example we analyze again the most divergence pattern.\n",
    "\n",
    "We can specify a threshold of divergence of interest *Th_divergence*. The itemsets with divergence greater than *Th_divergence* are highlighted with a different color."
   ]
  },
  {
   "cell_type": "code",
   "execution_count": 11,
   "metadata": {
    "ExecuteTime": {
     "end_time": "2021-06-18T07:26:38.869392Z",
     "start_time": "2021-06-18T07:26:37.777372Z"
    }
   },
   "outputs": [],
   "source": [
    "fig=fp_divergence_fpr.plotLatticeItemset(top1_itemset_fpr, Th_divergence=0.15, sizeDot=\"small\")\n",
    "#fig.show()"
   ]
  },
  {
   "cell_type": "markdown",
   "metadata": {},
   "source": [
    "## Summarization"
   ]
  },
  {
   "cell_type": "markdown",
   "metadata": {
    "ExecuteTime": {
     "end_time": "2021-06-17T14:25:33.567724Z",
     "start_time": "2021-06-17T14:25:33.561845Z"
    }
   },
   "source": [
    "Many of the most divergent itemsets are quite similar.\n",
    "\n",
    "We can summarize the frequent pattern diverenge using the DivExplorer pruning.\n",
    "\n",
    "We have to specify a redundancy threshold *th_redundancy*. If two itemsets I and I ∪ {A} have divergences closer than ε, only the smaller itemset I is kept."
   ]
  },
  {
   "cell_type": "code",
   "execution_count": 12,
   "metadata": {
    "ExecuteTime": {
     "end_time": "2021-06-18T07:26:38.898709Z",
     "start_time": "2021-06-18T07:26:38.870739Z"
    }
   },
   "outputs": [
    {
     "data": {
      "text/html": [
       "<div>\n",
       "<style scoped>\n",
       "    .dataframe tbody tr th:only-of-type {\n",
       "        vertical-align: middle;\n",
       "    }\n",
       "\n",
       "    .dataframe tbody tr th {\n",
       "        vertical-align: top;\n",
       "    }\n",
       "\n",
       "    .dataframe thead th {\n",
       "        text-align: right;\n",
       "    }\n",
       "</style>\n",
       "<table border=\"1\" class=\"dataframe\">\n",
       "  <thead>\n",
       "    <tr style=\"text-align: right;\">\n",
       "      <th></th>\n",
       "      <th>support</th>\n",
       "      <th>itemsets</th>\n",
       "      <th>d_fpr</th>\n",
       "      <th>t_value_fp</th>\n",
       "    </tr>\n",
       "  </thead>\n",
       "  <tbody>\n",
       "    <tr>\n",
       "      <th>92</th>\n",
       "      <td>0.145010</td>\n",
       "      <td>(race=Afr-Am, age=25-45, #prior=&gt;3)</td>\n",
       "      <td>0.210928</td>\n",
       "      <td>7.448260</td>\n",
       "    </tr>\n",
       "    <tr>\n",
       "      <th>55</th>\n",
       "      <td>0.196695</td>\n",
       "      <td>(race=Afr-Am, #prior=&gt;3)</td>\n",
       "      <td>0.172783</td>\n",
       "      <td>7.582039</td>\n",
       "    </tr>\n",
       "    <tr>\n",
       "      <th>49</th>\n",
       "      <td>0.207226</td>\n",
       "      <td>(age=25-45, #prior=&gt;3)</td>\n",
       "      <td>0.163575</td>\n",
       "      <td>7.384973</td>\n",
       "    </tr>\n",
       "    <tr>\n",
       "      <th>110</th>\n",
       "      <td>0.129780</td>\n",
       "      <td>(race=Afr-Am, #prior=&gt;3, stay=&lt;week)</td>\n",
       "      <td>0.140468</td>\n",
       "      <td>5.486527</td>\n",
       "    </tr>\n",
       "    <tr>\n",
       "      <th>141</th>\n",
       "      <td>0.107583</td>\n",
       "      <td>(race=Afr-Am, age=&lt;25, sex=Male)</td>\n",
       "      <td>0.131095</td>\n",
       "      <td>4.886362</td>\n",
       "    </tr>\n",
       "    <tr>\n",
       "      <th>28</th>\n",
       "      <td>0.293422</td>\n",
       "      <td>(#prior=&gt;3)</td>\n",
       "      <td>0.130955</td>\n",
       "      <td>7.503321</td>\n",
       "    </tr>\n",
       "    <tr>\n",
       "      <th>94</th>\n",
       "      <td>0.142417</td>\n",
       "      <td>(age=25-45, #prior=&gt;3, stay=&lt;week)</td>\n",
       "      <td>0.124015</td>\n",
       "      <td>5.155533</td>\n",
       "    </tr>\n",
       "    <tr>\n",
       "      <th>108</th>\n",
       "      <td>0.131076</td>\n",
       "      <td>(race=Afr-Am, age=&lt;25)</td>\n",
       "      <td>0.119233</td>\n",
       "      <td>5.200687</td>\n",
       "    </tr>\n",
       "    <tr>\n",
       "      <th>80</th>\n",
       "      <td>0.156837</td>\n",
       "      <td>(age=&lt;25, charge=F)</td>\n",
       "      <td>0.115160</td>\n",
       "      <td>5.643205</td>\n",
       "    </tr>\n",
       "    <tr>\n",
       "      <th>56</th>\n",
       "      <td>0.194426</td>\n",
       "      <td>(#prior=&gt;3, stay=&lt;week)</td>\n",
       "      <td>0.101941</td>\n",
       "      <td>5.283437</td>\n",
       "    </tr>\n",
       "  </tbody>\n",
       "</table>\n",
       "</div>"
      ],
      "text/plain": [
       "      support                              itemsets     d_fpr  t_value_fp\n",
       "92   0.145010   (race=Afr-Am, age=25-45, #prior=>3)  0.210928    7.448260\n",
       "55   0.196695              (race=Afr-Am, #prior=>3)  0.172783    7.582039\n",
       "49   0.207226                (age=25-45, #prior=>3)  0.163575    7.384973\n",
       "110  0.129780  (race=Afr-Am, #prior=>3, stay=<week)  0.140468    5.486527\n",
       "141  0.107583      (race=Afr-Am, age=<25, sex=Male)  0.131095    4.886362\n",
       "28   0.293422                           (#prior=>3)  0.130955    7.503321\n",
       "94   0.142417    (age=25-45, #prior=>3, stay=<week)  0.124015    5.155533\n",
       "108  0.131076                (race=Afr-Am, age=<25)  0.119233    5.200687\n",
       "80   0.156837                   (age=<25, charge=F)  0.115160    5.643205\n",
       "56   0.194426               (#prior=>3, stay=<week)  0.101941    5.283437"
      ]
     },
     "execution_count": 12,
     "metadata": {},
     "output_type": "execute_result"
    }
   ],
   "source": [
    "eps=0.01\n",
    "K=10\n",
    "fp_divergence_fpr.getDivergence(th_redundancy=eps)[INFO_VIZ].head(K)"
   ]
  },
  {
   "cell_type": "markdown",
   "metadata": {},
   "source": [
    "The number of itemsets goes from 155 to 55."
   ]
  },
  {
   "cell_type": "code",
   "execution_count": 13,
   "metadata": {
    "ExecuteTime": {
     "end_time": "2021-06-18T07:26:38.925156Z",
     "start_time": "2021-06-18T07:26:38.906760Z"
    }
   },
   "outputs": [
    {
     "data": {
      "text/plain": [
       "(155, 55)"
      ]
     },
     "execution_count": 13,
     "metadata": {},
     "output_type": "execute_result"
    }
   ],
   "source": [
    "len(fp_divergence_fpr.getDivergence(th_redundancy=0)), len(fp_divergence_fpr.getDivergence(th_redundancy=eps))"
   ]
  },
  {
   "cell_type": "markdown",
   "metadata": {},
   "source": [
    "## Corrective phenomena"
   ]
  },
  {
   "cell_type": "markdown",
   "metadata": {
    "ExecuteTime": {
     "end_time": "2021-06-17T14:58:39.204619Z",
     "start_time": "2021-06-17T14:58:39.200811Z"
    }
   },
   "source": [
    "DivExplorer allows to identify peculiar behaviors as corrective phenomena.\n",
    "\n",
    "*Corrective items* are items that, when added to an itemset, *reduce* the divergence. \n",
    "\n",
    "Given an itemset $I$ and an item $i \\not\\in I$, we say that $i$ is a *corrective item* for $I$ if \n",
    "$|\\Delta(I \\cup i)|<|\\Delta(I)|$. The difference between the two terms ($|\\Delta(I)| - |\\Delta(I \\cup i)|$) is defined as *corrective factor* (corr_factor).\n",
    "\n"
   ]
  },
  {
   "cell_type": "markdown",
   "metadata": {},
   "source": [
    "\n",
    "\n",
    "Consider the first row.\n",
    "The divergence of the itemset {*race=Afr-Am, sex=Male*} is 0.06 (v_S). When the item #prior=0 is included, the divergence drops to is almost 0 (0.009, v_S+i)."
   ]
  },
  {
   "cell_type": "code",
   "execution_count": 14,
   "metadata": {
    "ExecuteTime": {
     "end_time": "2021-06-18T07:26:39.022213Z",
     "start_time": "2021-06-18T07:26:38.927333Z"
    },
    "scrolled": false
   },
   "outputs": [
    {
     "data": {
      "text/html": [
       "<div>\n",
       "<style scoped>\n",
       "    .dataframe tbody tr th:only-of-type {\n",
       "        vertical-align: middle;\n",
       "    }\n",
       "\n",
       "    .dataframe tbody tr th {\n",
       "        vertical-align: top;\n",
       "    }\n",
       "\n",
       "    .dataframe thead th {\n",
       "        text-align: right;\n",
       "    }\n",
       "</style>\n",
       "<table border=\"1\" class=\"dataframe\">\n",
       "  <thead>\n",
       "    <tr style=\"text-align: right;\">\n",
       "      <th></th>\n",
       "      <th>item i</th>\n",
       "      <th>S</th>\n",
       "      <th>S+i</th>\n",
       "      <th>v_i</th>\n",
       "      <th>v_S</th>\n",
       "      <th>v_S+i</th>\n",
       "      <th>t_value_corr</th>\n",
       "      <th>t_value_S+i</th>\n",
       "      <th>corr_factor</th>\n",
       "    </tr>\n",
       "  </thead>\n",
       "  <tbody>\n",
       "    <tr>\n",
       "      <th>290</th>\n",
       "      <td>(#prior=0)</td>\n",
       "      <td>(race=Afr-Am, sex=Male)</td>\n",
       "      <td>(race=Afr-Am, #prior=0, sex=Male)</td>\n",
       "      <td>-0.039927</td>\n",
       "      <td>0.062371</td>\n",
       "      <td>0.009430</td>\n",
       "      <td>2.823776</td>\n",
       "      <td>0.711601</td>\n",
       "      <td>0.052941</td>\n",
       "    </tr>\n",
       "    <tr>\n",
       "      <th>97</th>\n",
       "      <td>(#prior=0)</td>\n",
       "      <td>(race=Afr-Am)</td>\n",
       "      <td>(race=Afr-Am, #prior=0)</td>\n",
       "      <td>-0.039927</td>\n",
       "      <td>0.051052</td>\n",
       "      <td>-0.000500</td>\n",
       "      <td>3.376132</td>\n",
       "      <td>0.055937</td>\n",
       "      <td>0.050552</td>\n",
       "    </tr>\n",
       "    <tr>\n",
       "      <th>259</th>\n",
       "      <td>(race=Afr-Am)</td>\n",
       "      <td>(#prior=0, stay=&lt;week)</td>\n",
       "      <td>(race=Afr-Am, #prior=0, stay=&lt;week)</td>\n",
       "      <td>0.051052</td>\n",
       "      <td>-0.043788</td>\n",
       "      <td>-0.003043</td>\n",
       "      <td>3.070673</td>\n",
       "      <td>0.126799</td>\n",
       "      <td>0.040746</td>\n",
       "    </tr>\n",
       "    <tr>\n",
       "      <th>96</th>\n",
       "      <td>(race=Afr-Am)</td>\n",
       "      <td>(#prior=0)</td>\n",
       "      <td>(race=Afr-Am, #prior=0)</td>\n",
       "      <td>0.051052</td>\n",
       "      <td>-0.039927</td>\n",
       "      <td>-0.000500</td>\n",
       "      <td>3.035485</td>\n",
       "      <td>0.055937</td>\n",
       "      <td>0.039427</td>\n",
       "    </tr>\n",
       "    <tr>\n",
       "      <th>375</th>\n",
       "      <td>(#prior=[1,3])</td>\n",
       "      <td>(race=Afr-Am, sex=Male, stay=&lt;week)</td>\n",
       "      <td>(#prior=[1,3], race=Afr-Am, sex=Male, stay=&lt;week)</td>\n",
       "      <td>-0.015258</td>\n",
       "      <td>0.037486</td>\n",
       "      <td>-0.001609</td>\n",
       "      <td>2.005249</td>\n",
       "      <td>0.032579</td>\n",
       "      <td>0.035877</td>\n",
       "    </tr>\n",
       "  </tbody>\n",
       "</table>\n",
       "</div>"
      ],
      "text/plain": [
       "             item i                                    S  \\\n",
       "290      (#prior=0)              (race=Afr-Am, sex=Male)   \n",
       "97       (#prior=0)                        (race=Afr-Am)   \n",
       "259   (race=Afr-Am)               (#prior=0, stay=<week)   \n",
       "96    (race=Afr-Am)                           (#prior=0)   \n",
       "375  (#prior=[1,3])  (race=Afr-Am, sex=Male, stay=<week)   \n",
       "\n",
       "                                                   S+i       v_i       v_S  \\\n",
       "290                  (race=Afr-Am, #prior=0, sex=Male) -0.039927  0.062371   \n",
       "97                             (race=Afr-Am, #prior=0) -0.039927  0.051052   \n",
       "259                (race=Afr-Am, #prior=0, stay=<week)  0.051052 -0.043788   \n",
       "96                             (race=Afr-Am, #prior=0)  0.051052 -0.039927   \n",
       "375  (#prior=[1,3], race=Afr-Am, sex=Male, stay=<week) -0.015258  0.037486   \n",
       "\n",
       "        v_S+i  t_value_corr  t_value_S+i  corr_factor  \n",
       "290  0.009430      2.823776     0.711601     0.052941  \n",
       "97  -0.000500      3.376132     0.055937     0.050552  \n",
       "259 -0.003043      3.070673     0.126799     0.040746  \n",
       "96  -0.000500      3.035485     0.055937     0.039427  \n",
       "375 -0.001609      2.005249     0.032579     0.035877  "
      ]
     },
     "execution_count": 14,
     "metadata": {},
     "output_type": "execute_result"
    }
   ],
   "source": [
    "corrSign=fp_divergence_fpr.getCorrectiveItems()\n",
    "corrSign.head(5)"
   ]
  },
  {
   "cell_type": "markdown",
   "metadata": {},
   "source": [
    "### Lattice of corrective phenomena"
   ]
  },
  {
   "cell_type": "markdown",
   "metadata": {
    "ExecuteTime": {
     "end_time": "2021-06-17T15:18:56.508546Z",
     "start_time": "2021-06-17T15:18:56.501847Z"
    }
   },
   "source": [
    "We can inspect the corrective phenomena also with the lattice graph.\n",
    "\n",
    "If getLower is set to True, the itemset when a corrective behavior is observed are highlighted with a different color."
   ]
  },
  {
   "cell_type": "code",
   "execution_count": 15,
   "metadata": {
    "ExecuteTime": {
     "end_time": "2021-06-18T07:26:39.330737Z",
     "start_time": "2021-06-18T07:26:39.025275Z"
    }
   },
   "outputs": [],
   "source": [
    "itemset_corrective=corrSign.head(1)[\"S+i\"].values[0]\n",
    "fig=fp_divergence_fpr.plotLatticeItemset(itemset_corrective, Th_divergence=0.05, sizeDot=\"small\", getLower=True)\n",
    "#fig.show()"
   ]
  },
  {
   "cell_type": "markdown",
   "metadata": {},
   "source": [
    "### Shapley value of corrective phenomena"
   ]
  },
  {
   "cell_type": "markdown",
   "metadata": {},
   "source": [
    "We can observe the corrective phenomena also with the Shapley values.\n",
    "\n",
    "The number of prior equal to 0 has a negative contribution to the divergence."
   ]
  },
  {
   "cell_type": "code",
   "execution_count": 16,
   "metadata": {
    "ExecuteTime": {
     "end_time": "2021-06-18T07:26:39.337724Z",
     "start_time": "2021-06-18T07:26:39.332190Z"
    }
   },
   "outputs": [],
   "source": [
    "item_corrective,itemset_corrective=corrSign.head(1)[[\"S\",\"S+i\"]].values[0]"
   ]
  },
  {
   "cell_type": "code",
   "execution_count": 25,
   "metadata": {
    "ExecuteTime": {
     "end_time": "2021-06-18T07:26:47.033866Z",
     "start_time": "2021-06-18T07:26:46.720299Z"
    }
   },
   "outputs": [
    {
     "data": {
      "image/png": "[encoded data removed]",
      "text/plain": [
       "<Figure size 520x190 with 2 Axes>"
      ]
     },
     "metadata": {
      "needs_background": "light"
     },
     "output_type": "display_data"
    }
   ],
   "source": [
    "from divexplorer.shapley_value_FPx import plotComparisonShapleyValues\n",
    "\n",
    "item_corrective,itemset_corrective=corrSign.head(1)[[\"S\",\"S+i\"]].values[0]\n",
    "\n",
    "shap_item_corrective=fp_divergence_fpr.computeShapleyValue(item_corrective)\n",
    "shap_itemset_corrective=fp_divergence_fpr.computeShapleyValue(itemset_corrective)\n",
    "t1, t2=[f\"$Δ_{{{fp_divergence_fpr.metric_name}}}$\",f\"$Δ_{{{fp_divergence_fpr.metric_name}}}$\"]\n",
    "plotComparisonShapleyValues(shap_item_corrective, shap_itemset_corrective,\\\n",
    "                          title=[t1,t2], sizeFig=(5.2, 1.9),\n",
    "                            height=[0.3, 0.4], sharedAxis=True,pad=1.5)"
   ]
  },
  {
   "cell_type": "markdown",
   "metadata": {},
   "source": [
    "## Global Divergence"
   ]
  },
  {
   "cell_type": "markdown",
   "metadata": {},
   "source": [
    "We can then analyze the influence of each item on the divergence of the entire dataset. \n",
    "\n",
    "We can do with:\n",
    "   - the *individual divergence* of an item. It is simply the divergence of an item in isolation. \n",
    "   - the *global divergence* of an item. It a generalization of the Shapley value to the entire set of all items. It captures the role of an item in giving rise to divergence jointly with other attributes. "
   ]
  },
  {
   "cell_type": "markdown",
   "metadata": {},
   "source": [
    "## Individual divergence"
   ]
  },
  {
   "cell_type": "code",
   "execution_count": 27,
   "metadata": {
    "ExecuteTime": {
     "end_time": "2021-06-18T07:26:50.736555Z",
     "start_time": "2021-06-18T07:26:50.432405Z"
    }
   },
   "outputs": [
    {
     "data": {
      "image/png": "[encoded data removed]",
      "text/plain": [
       "<Figure size 400x500 with 1 Axes>"
      ]
     },
     "metadata": {
      "needs_background": "light"
     },
     "output_type": "display_data"
    }
   ],
   "source": [
    "individual_divergence_fpr=fp_divergence_fpr.getFItemsetsDivergence()[1]\n",
    "fp_divergence_fpr.plotShapleyValue(shapley_values=individual_divergence_fpr,sizeFig=(4,5))"
   ]
  },
  {
   "cell_type": "markdown",
   "metadata": {},
   "source": [
    "## Global item divergence"
   ]
  },
  {
   "cell_type": "markdown",
   "metadata": {},
   "source": [
    "We compute the global item divergence. "
   ]
  },
  {
   "cell_type": "code",
   "execution_count": 19,
   "metadata": {
    "ExecuteTime": {
     "end_time": "2021-06-18T07:26:40.023265Z",
     "start_time": "2021-06-18T07:26:40.004029Z"
    }
   },
   "outputs": [],
   "source": [
    "global_item_divergence_fpr=fp_divergence_fpr.computeGlobalShapleyValue()"
   ]
  },
  {
   "cell_type": "code",
   "execution_count": 20,
   "metadata": {
    "ExecuteTime": {
     "end_time": "2021-06-18T07:26:40.030325Z",
     "start_time": "2021-06-18T07:26:40.024632Z"
    }
   },
   "outputs": [
    {
     "name": "stdout",
     "output_type": "stream",
     "text": [
      "{frozenset({'sex=Male'}): 0.0010817486715193343, frozenset({'stay=<week'}): -0.0037336591601187115, frozenset({'charge=F'}): 0.0033449442244256966, frozenset({'age=25-45'}): 2.646803546613426e-05, frozenset({'race=Afr-Am'}): 0.00868689049105502, frozenset({'#prior=[1,3]'}): -0.0019785581173622493, frozenset({'charge=M'}): -0.003826369756899656, frozenset({'race=Cauc'}): -0.006069980972847003, frozenset({'#prior=0'}): -0.0041045628972812016, frozenset({'#prior=>3'}): 0.012619810573522829, frozenset({'age=<25'}): 0.007341371481152314, frozenset({'age=>45'}): -0.004840017733268695, frozenset({'sex=Female'}): -0.0019292673088879431, frozenset({'stay=1w-3M'}): 0.006596700720581655}\n"
     ]
    }
   ],
   "source": [
    "print(global_item_divergence_fpr)"
   ]
  },
  {
   "cell_type": "code",
   "execution_count": 21,
   "metadata": {
    "ExecuteTime": {
     "end_time": "2021-06-18T07:26:40.243602Z",
     "start_time": "2021-06-18T07:26:40.031512Z"
    }
   },
   "outputs": [
    {
     "data": {
      "image/png": "[encoded data removed]",
      "text/plain": [
       "<Figure size 400x500 with 1 Axes>"
      ]
     },
     "metadata": {
      "needs_background": "light"
     },
     "output_type": "display_data"
    }
   ],
   "source": [
    "fp_divergence_fpr.plotShapleyValue(shapley_values=global_item_divergence_fpr,sizeFig=(4,5))"
   ]
  },
  {
   "cell_type": "markdown",
   "metadata": {},
   "source": [
    "The number prior is the terms that mostly influences the FPR divergence. The race equal to Caucasian has instead a negative influence."
   ]
  },
  {
   "cell_type": "code",
   "execution_count": 29,
   "metadata": {
    "ExecuteTime": {
     "end_time": "2021-06-18T07:26:55.506583Z",
     "start_time": "2021-06-18T07:26:55.086140Z"
    }
   },
   "outputs": [
    {
     "data": {
      "image/png": "[encoded data removed]",
      "text/plain": [
       "<Figure size 500x400 with 2 Axes>"
      ]
     },
     "metadata": {
      "needs_background": "light"
     },
     "output_type": "display_data"
    }
   ],
   "source": [
    "from divexplorer.shapley_value_FPx import compareShapleyValues, normalizeMax\n",
    "\n",
    "compareShapleyValues(normalizeMax(global_item_divergence_fpr),\\\n",
    "                     normalizeMax(fp_divergence_fpr.getFItemsetsDivergence()[1]), \\\n",
    "                     title=[r\"$\\tilde{{Δ}}^g_{{FPR}}$\", \"$\\Delta_{FPR}$\"], \\\n",
    "                      labelsize=8, height=0.5, sizeFig=(5,4),\\\n",
    "                     subcaption=True)"
   ]
  },
  {
   "cell_type": "markdown",
   "metadata": {},
   "source": [
    "We can, for visualization purposes, plot only the top K values in absolute terms."
   ]
  },
  {
   "cell_type": "code",
   "execution_count": 23,
   "metadata": {
    "ExecuteTime": {
     "end_time": "2021-06-18T07:26:40.966088Z",
     "start_time": "2021-06-18T07:26:40.564006Z"
    }
   },
   "outputs": [
    {
     "data": {
      "image/png": "[encoded data removed]",
      "text/plain": [
       "<Figure size 500x400 with 2 Axes>"
      ]
     },
     "metadata": {
      "needs_background": "light"
     },
     "output_type": "display_data"
    }
   ],
   "source": [
    "K=25\n",
    "topK_global={k:v for k,v in global_item_divergence_fpr.items() if k in sorted(global_item_divergence_fpr, key=lambda x: abs(global_item_divergence_fpr[x]))[::-1][:K]}\n",
    "topK_individual={k:v for k,v in fp_divergence_fpr.getFItemsetsDivergence()[1].items() if k in topK_global.keys()}\n",
    "\n",
    "compareShapleyValues(normalizeMax(topK_global),\\\n",
    "                     normalizeMax(topK_individual), \\\n",
    "                     title=[r\"$\\tilde{{Δ}}^g_{{FPR}}$\", \"$\\Delta_{FPR}$\"], \\\n",
    "                      labelsize=8, height=0.5, sizeFig=(5,4),\\\n",
    "                     pad=0.5, subcaption=True)"
   ]
  },
  {
   "cell_type": "markdown",
   "metadata": {},
   "source": [
    "We can proceed similarly for the analysis of the FNR divergence and accuracy divergence"
   ]
  }
 ],
 "metadata": {
  "hide_input": false,
  "kernelspec": {
   "display_name": "Python 3",
   "language": "python",
   "name": "python3"
  },
  "language_info": {
   "codemirror_mode": {
    "name": "ipython",
    "version": 3
   },
   "file_extension": ".py",
   "mimetype": "text/x-python",
   "name": "python",
   "nbconvert_exporter": "python",
   "pygments_lexer": "ipython3",
   "version": "3.6.12"
  },
  "toc": {
   "base_numbering": 1,
   "nav_menu": {},
   "number_sections": true,
   "sideBar": true,
   "skip_h1_title": false,
   "title_cell": "Table of Contents",
   "title_sidebar": "Contents",
   "toc_cell": false,
   "toc_position": {
    "height": "522px",
    "left": "26px",
    "top": "109.301px",
    "width": "182px"
   },
   "toc_section_display": true,
   "toc_window_display": true
  },
  "varInspector": {
   "cols": {
    "lenName": 16,
    "lenType": 16,
    "lenVar": 40
   },
   "kernels_config": {
    "python": {
     "delete_cmd_postfix": "",
     "delete_cmd_prefix": "del ",
     "library": "var_list.py",
     "varRefreshCmd": "print(var_dic_list())"
    },
    "r": {
     "delete_cmd_postfix": ") ",
     "delete_cmd_prefix": "rm(",
     "library": "var_list.r",
     "varRefreshCmd": "cat(var_dic_list()) "
    }
   },
   "types_to_exclude": [
    "module",
    "function",
    "builtin_function_or_method",
    "instance",
    "_Feature"
   ],
   "window_display": false
  }
 },
 "nbformat": 4,
 "nbformat_minor": 2
}
